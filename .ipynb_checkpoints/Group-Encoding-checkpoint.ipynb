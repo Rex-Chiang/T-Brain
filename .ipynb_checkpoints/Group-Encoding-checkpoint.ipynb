{
 "cells": [
  {
   "cell_type": "code",
   "execution_count": null,
   "metadata": {},
   "outputs": [],
   "source": [
    "temp_df['txn_dt_'] = pd.qcut(temp_df['txn_dt'], 5)\n",
    "temp_df['txn_dt_'].unique()"
   ]
  },
  {
   "cell_type": "code",
   "execution_count": null,
   "metadata": {},
   "outputs": [],
   "source": [
    "temp_df.loc[temp_df['txn_dt']<=187.36, 'txn_dt'] = 1\n",
    "temp_df.loc[(temp_df['txn_dt']>187.36) & (temp_df['txn_dt']<=192.86), 'txn_dt'] = 2\n",
    "temp_df.loc[(temp_df['txn_dt']>192.86) & (temp_df['txn_dt']<=197.75), 'txn_dt'] = 3\n",
    "temp_df.loc[(temp_df['txn_dt']>197.75) & (temp_df['txn_dt']<=202.37), 'txn_dt'] = 4\n",
    "temp_df.loc[temp_df['txn_dt']>202.37, 'txn_dt'] = 5\n",
    "temp_df['txn_dt'] = temp_df['txn_dt'].astype(int)\n",
    "\n",
    "temp_df.drop('txn_dt_', axis=1, inplace=True)\n",
    "\n",
    "temp_df = pd.get_dummies(temp_df, columns = [\"txn_dt\"], prefix=\"txn_dt\")\n",
    "temp_df.head(3)"
   ]
  },
  {
   "cell_type": "code",
   "execution_count": null,
   "metadata": {},
   "outputs": [],
   "source": [
    "temp_df['building_complete_dt_'] = pd.qcut(temp_df['building_complete_dt'], 5)\n",
    "temp_df['building_complete_dt_'].unique()"
   ]
  },
  {
   "cell_type": "code",
   "execution_count": null,
   "metadata": {},
   "outputs": [],
   "source": [
    "temp_df.loc[temp_df['building_complete_dt']<=67.29, 'building_complete_dt'] = 1\n",
    "temp_df.loc[(temp_df['building_complete_dt']>67.29) & (temp_df['building_complete_dt']<=98.93), 'building_complete_dt'] = 2\n",
    "temp_df.loc[(temp_df['building_complete_dt']>98.93) & (temp_df['building_complete_dt']<=122.68), 'building_complete_dt'] = 3\n",
    "temp_df.loc[(temp_df['building_complete_dt']>122.68) & (temp_df['building_complete_dt']<=155.87), 'building_complete_dt'] = 4\n",
    "temp_df.loc[temp_df['building_complete_dt']>155.87, 'building_complete_dt'] = 5\n",
    "temp_df['building_complete_dt'] = temp_df['building_complete_dt'].astype(int)\n",
    "\n",
    "temp_df.drop('building_complete_dt_', axis=1, inplace=True)\n",
    "\n",
    "temp_df = pd.get_dummies(temp_df, columns = [\"building_complete_dt\"], prefix=\"building_complete_dt\")\n",
    "temp_df.head(3)"
   ]
  },
  {
   "cell_type": "code",
   "execution_count": null,
   "metadata": {},
   "outputs": [],
   "source": [
    "temp_df['land_area_'] = pd.qcut(temp_df['land_area'], 6)\n",
    "temp_df['land_area_'].unique()"
   ]
  },
  {
   "cell_type": "code",
   "execution_count": null,
   "metadata": {},
   "outputs": [],
   "source": [
    "temp_df.loc[temp_df['land_area']<=9.643, 'land_area'] = 1\n",
    "temp_df.loc[(temp_df['land_area']>9.643) & (temp_df['land_area']<=13.106), 'land_area'] = 2\n",
    "temp_df.loc[(temp_df['land_area']>13.106) & (temp_df['land_area']<=16.482), 'land_area'] = 3\n",
    "temp_df.loc[(temp_df['land_area']>16.482) & (temp_df['land_area']<=24.661), 'land_area'] = 4\n",
    "temp_df.loc[(temp_df['land_area']>24.661) & (temp_df['land_area']<=44.89), 'land_area'] = 5\n",
    "temp_df.loc[temp_df['land_area']>44.89, 'land_area'] = 6\n",
    "temp_df['land_area'] = temp_df['land_area'].astype(int)\n",
    "\n",
    "temp_df = pd.get_dummies(temp_df, columns = [\"land_area\"], prefix=\"land_area\")\n",
    "temp_df.head(3)"
   ]
  },
  {
   "cell_type": "code",
   "execution_count": null,
   "metadata": {},
   "outputs": [],
   "source": [
    "temp_df['building_area_'] = pd.qcut(temp_df['building_area'], 6)\n",
    "temp_df['building_area_'].unique()"
   ]
  },
  {
   "cell_type": "code",
   "execution_count": null,
   "metadata": {},
   "outputs": [],
   "source": [
    "temp_df.loc[temp_df['building_area']<=4.041, 'building_area'] = 1\n",
    "temp_df.loc[(temp_df['building_area']>4.041) & (temp_df['building_area']<=5.357), 'building_area'] = 2\n",
    "temp_df.loc[(temp_df['building_area']>5.357) & (temp_df['building_area']<=6.994), 'building_area'] = 3\n",
    "temp_df.loc[(temp_df['building_area']>6.994) & (temp_df['building_area']<=9.498), 'building_area'] = 4\n",
    "temp_df.loc[(temp_df['building_area']>9.498) & (temp_df['building_area']<=13.846), 'building_area'] = 5\n",
    "temp_df.loc[temp_df['building_area']>13.846, 'building_area'] = 6\n",
    "temp_df['building_area'] = temp_df['building_area'].astype(int)\n",
    "\n",
    "temp_df = pd.get_dummies(temp_df, columns = [\"building_area\"], prefix=\"building_area\")\n",
    "temp_df.head(3)"
   ]
  }
 ],
 "metadata": {
  "kernelspec": {
   "display_name": "Python 3",
   "language": "python",
   "name": "python3"
  },
  "language_info": {
   "codemirror_mode": {
    "name": "ipython",
    "version": 3
   },
   "file_extension": ".py",
   "mimetype": "text/x-python",
   "name": "python",
   "nbconvert_exporter": "python",
   "pygments_lexer": "ipython3",
   "version": "3.7.3"
  },
  "varInspector": {
   "cols": {
    "lenName": 16,
    "lenType": 16,
    "lenVar": 40
   },
   "kernels_config": {
    "python": {
     "delete_cmd_postfix": "",
     "delete_cmd_prefix": "del ",
     "library": "var_list.py",
     "varRefreshCmd": "print(var_dic_list())"
    },
    "r": {
     "delete_cmd_postfix": ") ",
     "delete_cmd_prefix": "rm(",
     "library": "var_list.r",
     "varRefreshCmd": "cat(var_dic_list()) "
    }
   },
   "types_to_exclude": [
    "module",
    "function",
    "builtin_function_or_method",
    "instance",
    "_Feature"
   ],
   "window_display": false
  }
 },
 "nbformat": 4,
 "nbformat_minor": 2
}
