{
 "cells": [
  {
   "cell_type": "code",
   "execution_count": 41,
   "metadata": {},
   "outputs": [],
   "source": [
    "def MAPE(object_, predict_):\n",
    "    n = len(predict_)\n",
    "    return sum(abs((predict_-object_)/object_))/n\n",
    "\n",
    "def HitRate(object_, predict_):\n",
    "    n = len(predict_)\n",
    "    Z = [(p - o)/o for o,p in zip(object_, predict_)]\n",
    "    Z = list(map(lambda x : 1 if x <= 0.1 else 0, Z))\n",
    "        \n",
    "    return sum(Z)/n\n",
    "\n",
    "def Score(object_, predict_):\n",
    "    if MAPE(object_, predict_)>=1:\n",
    "        m = 1\n",
    "    else:\n",
    "        m = MAPE(object_, predict_)\n",
    "        \n",
    "    return (round(HitRate(object_, predict_), 4)*(10**4)) + (1-m)\n",
    "    "
   ]
  }
 ],
 "metadata": {
  "kernelspec": {
   "display_name": "Python 3",
   "language": "python",
   "name": "python3"
  },
  "language_info": {
   "codemirror_mode": {
    "name": "ipython",
    "version": 3
   },
   "file_extension": ".py",
   "mimetype": "text/x-python",
   "name": "python",
   "nbconvert_exporter": "python",
   "pygments_lexer": "ipython3",
   "version": "3.6.4"
  },
  "varInspector": {
   "cols": {
    "lenName": 16,
    "lenType": 16,
    "lenVar": 40
   },
   "kernels_config": {
    "python": {
     "delete_cmd_postfix": "",
     "delete_cmd_prefix": "del ",
     "library": "var_list.py",
     "varRefreshCmd": "print(var_dic_list())"
    },
    "r": {
     "delete_cmd_postfix": ") ",
     "delete_cmd_prefix": "rm(",
     "library": "var_list.r",
     "varRefreshCmd": "cat(var_dic_list()) "
    }
   },
   "types_to_exclude": [
    "module",
    "function",
    "builtin_function_or_method",
    "instance",
    "_Feature"
   ],
   "window_display": false
  }
 },
 "nbformat": 4,
 "nbformat_minor": 2
}
