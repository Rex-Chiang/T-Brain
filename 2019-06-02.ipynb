{
 "cells": [
  {
   "cell_type": "code",
   "execution_count": 87,
   "metadata": {},
   "outputs": [],
   "source": [
    "# 載入需要的套件\n",
    "import os\n",
    "import numpy as np \n",
    "import pandas as pd\n",
    "import copy\n",
    "import seaborn as sns\n",
    "from sklearn.preprocessing import MinMaxScaler, MaxAbsScaler, StandardScaler\n",
    "from sklearn.model_selection import cross_val_score\n",
    "from sklearn.linear_model import LinearRegression\n",
    "from sklearn.ensemble import RandomForestRegressor\n",
    "import matplotlib.pyplot as plt\n",
    "%matplotlib inline"
   ]
  },
  {
   "cell_type": "code",
   "execution_count": 124,
   "metadata": {},
   "outputs": [],
   "source": [
    "# 設定 data_path\n",
    "dir_data = './data/'\n",
    "Train = os.path.join(dir_data, 'train.csv')\n",
    "Test = os.path.join(dir_data, 'test.csv')\n",
    "\n",
    "# 讀取檔案\n",
    "Train_data = pd.read_csv(Train)\n",
    "Test_data = pd.read_csv(Test)"
   ]
  },
  {
   "cell_type": "code",
   "execution_count": 125,
   "metadata": {},
   "outputs": [
    {
     "data": {
      "text/html": [
       "<div>\n",
       "<style scoped>\n",
       "    .dataframe tbody tr th:only-of-type {\n",
       "        vertical-align: middle;\n",
       "    }\n",
       "\n",
       "    .dataframe tbody tr th {\n",
       "        vertical-align: top;\n",
       "    }\n",
       "\n",
       "    .dataframe thead th {\n",
       "        text-align: right;\n",
       "    }\n",
       "</style>\n",
       "<table border=\"1\" class=\"dataframe\">\n",
       "  <thead>\n",
       "    <tr style=\"text-align: right;\">\n",
       "      <th></th>\n",
       "      <th>building_material</th>\n",
       "      <th>city</th>\n",
       "      <th>txn_dt</th>\n",
       "      <th>total_floor</th>\n",
       "      <th>building_type</th>\n",
       "      <th>building_use</th>\n",
       "      <th>building_complete_dt</th>\n",
       "      <th>parking_way</th>\n",
       "      <th>parking_area</th>\n",
       "      <th>parking_price</th>\n",
       "      <th>...</th>\n",
       "      <th>XIV_250</th>\n",
       "      <th>XIV_500</th>\n",
       "      <th>XIV_index_500</th>\n",
       "      <th>XIV_1000</th>\n",
       "      <th>XIV_index_1000</th>\n",
       "      <th>XIV_5000</th>\n",
       "      <th>XIV_index_5000</th>\n",
       "      <th>XIV_10000</th>\n",
       "      <th>XIV_index_10000</th>\n",
       "      <th>XIV_MIN</th>\n",
       "    </tr>\n",
       "  </thead>\n",
       "  <tbody>\n",
       "    <tr>\n",
       "      <th>0</th>\n",
       "      <td>8</td>\n",
       "      <td>21</td>\n",
       "      <td>18674</td>\n",
       "      <td>4</td>\n",
       "      <td>3</td>\n",
       "      <td>2</td>\n",
       "      <td>6271</td>\n",
       "      <td>2</td>\n",
       "      <td>7.133303</td>\n",
       "      <td>50299.900174</td>\n",
       "      <td>...</td>\n",
       "      <td>21</td>\n",
       "      <td>58</td>\n",
       "      <td>1</td>\n",
       "      <td>157</td>\n",
       "      <td>1</td>\n",
       "      <td>2483</td>\n",
       "      <td>1</td>\n",
       "      <td>6011</td>\n",
       "      <td>1</td>\n",
       "      <td>34.469803</td>\n",
       "    </tr>\n",
       "    <tr>\n",
       "      <th>1</th>\n",
       "      <td>8</td>\n",
       "      <td>7</td>\n",
       "      <td>18800</td>\n",
       "      <td>5</td>\n",
       "      <td>1</td>\n",
       "      <td>2</td>\n",
       "      <td>7885</td>\n",
       "      <td>2</td>\n",
       "      <td>7.133303</td>\n",
       "      <td>50299.900174</td>\n",
       "      <td>...</td>\n",
       "      <td>7</td>\n",
       "      <td>28</td>\n",
       "      <td>1</td>\n",
       "      <td>115</td>\n",
       "      <td>1</td>\n",
       "      <td>15872</td>\n",
       "      <td>1</td>\n",
       "      <td>32221</td>\n",
       "      <td>1</td>\n",
       "      <td>40.073573</td>\n",
       "    </tr>\n",
       "    <tr>\n",
       "      <th>2</th>\n",
       "      <td>8</td>\n",
       "      <td>7</td>\n",
       "      <td>19289</td>\n",
       "      <td>4</td>\n",
       "      <td>1</td>\n",
       "      <td>2</td>\n",
       "      <td>6028</td>\n",
       "      <td>2</td>\n",
       "      <td>7.133303</td>\n",
       "      <td>50299.900174</td>\n",
       "      <td>...</td>\n",
       "      <td>27</td>\n",
       "      <td>78</td>\n",
       "      <td>1</td>\n",
       "      <td>212</td>\n",
       "      <td>1</td>\n",
       "      <td>15760</td>\n",
       "      <td>1</td>\n",
       "      <td>32228</td>\n",
       "      <td>1</td>\n",
       "      <td>54.462081</td>\n",
       "    </tr>\n",
       "    <tr>\n",
       "      <th>3</th>\n",
       "      <td>8</td>\n",
       "      <td>21</td>\n",
       "      <td>20385</td>\n",
       "      <td>24</td>\n",
       "      <td>0</td>\n",
       "      <td>2</td>\n",
       "      <td>18325</td>\n",
       "      <td>0</td>\n",
       "      <td>7.133303</td>\n",
       "      <td>81138.889762</td>\n",
       "      <td>...</td>\n",
       "      <td>2</td>\n",
       "      <td>20</td>\n",
       "      <td>1</td>\n",
       "      <td>125</td>\n",
       "      <td>1</td>\n",
       "      <td>2568</td>\n",
       "      <td>1</td>\n",
       "      <td>7271</td>\n",
       "      <td>1</td>\n",
       "      <td>99.628966</td>\n",
       "    </tr>\n",
       "    <tr>\n",
       "      <th>4</th>\n",
       "      <td>1</td>\n",
       "      <td>21</td>\n",
       "      <td>20657</td>\n",
       "      <td>2</td>\n",
       "      <td>4</td>\n",
       "      <td>2</td>\n",
       "      <td>6880</td>\n",
       "      <td>2</td>\n",
       "      <td>7.133303</td>\n",
       "      <td>50299.900174</td>\n",
       "      <td>...</td>\n",
       "      <td>2</td>\n",
       "      <td>18</td>\n",
       "      <td>1</td>\n",
       "      <td>47</td>\n",
       "      <td>1</td>\n",
       "      <td>2587</td>\n",
       "      <td>1</td>\n",
       "      <td>7442</td>\n",
       "      <td>1</td>\n",
       "      <td>124.131236</td>\n",
       "    </tr>\n",
       "  </tbody>\n",
       "</table>\n",
       "<p>5 rows × 233 columns</p>\n",
       "</div>"
      ],
      "text/plain": [
       "   building_material  city  txn_dt  total_floor  building_type  building_use  \\\n",
       "0                  8    21   18674            4              3             2   \n",
       "1                  8     7   18800            5              1             2   \n",
       "2                  8     7   19289            4              1             2   \n",
       "3                  8    21   20385           24              0             2   \n",
       "4                  1    21   20657            2              4             2   \n",
       "\n",
       "   building_complete_dt  parking_way  parking_area  parking_price     ...      \\\n",
       "0                  6271            2      7.133303   50299.900174     ...       \n",
       "1                  7885            2      7.133303   50299.900174     ...       \n",
       "2                  6028            2      7.133303   50299.900174     ...       \n",
       "3                 18325            0      7.133303   81138.889762     ...       \n",
       "4                  6880            2      7.133303   50299.900174     ...       \n",
       "\n",
       "   XIV_250  XIV_500  XIV_index_500  XIV_1000  XIV_index_1000  XIV_5000  \\\n",
       "0       21       58              1       157               1      2483   \n",
       "1        7       28              1       115               1     15872   \n",
       "2       27       78              1       212               1     15760   \n",
       "3        2       20              1       125               1      2568   \n",
       "4        2       18              1        47               1      2587   \n",
       "\n",
       "   XIV_index_5000  XIV_10000  XIV_index_10000     XIV_MIN  \n",
       "0               1       6011                1   34.469803  \n",
       "1               1      32221                1   40.073573  \n",
       "2               1      32228                1   54.462081  \n",
       "3               1       7271                1   99.628966  \n",
       "4               1       7442                1  124.131236  \n",
       "\n",
       "[5 rows x 233 columns]"
      ]
     },
     "execution_count": 125,
     "metadata": {},
     "output_type": "execute_result"
    }
   ],
   "source": [
    "train_Y = np.log1p(Train_data['total_price'])\n",
    "ids = Test_data['building_id']\n",
    "\n",
    "tp = copy.deepcopy(np.log1p(Train_data['total_price']))\n",
    "\n",
    "Train_data = Train_data.drop(['building_id', 'total_price'] , axis=1)\n",
    "Test_data = Test_data.drop(['building_id'] , axis=1)\n",
    "\n",
    "df = pd.concat([Train_data,Test_data])\n",
    "\n",
    "df = df.fillna(df.mean())\n",
    "train_num = train_Y.shape[0]\n",
    "train_X = df[:train_num]\n",
    "test_X = df[train_num:]\n",
    "\n",
    "df.head()"
   ]
  },
  {
   "cell_type": "code",
   "execution_count": 98,
   "metadata": {},
   "outputs": [],
   "source": [
    "estimator = RandomForestRegressor()\n",
    "estimator.fit(train_X, train_Y)\n",
    "feats = pd.Series(data=estimator.feature_importances_, index=df.columns)\n",
    "feats = feats.sort_values(ascending=False)"
   ]
  },
  {
   "cell_type": "code",
   "execution_count": 126,
   "metadata": {},
   "outputs": [
    {
     "data": {
      "text/plain": [
       "<matplotlib.axes._subplots.AxesSubplot at 0x7f3393574c88>"
      ]
     },
     "execution_count": 126,
     "metadata": {},
     "output_type": "execute_result"
    },
    {
     "data": {
      "image/png": "[encoded data removed]",
      "text/plain": [
       "<matplotlib.figure.Figure at 0x7f3393574b70>"
      ]
     },
     "metadata": {},
     "output_type": "display_data"
    }
   ],
   "source": [
    "from scipy import stats\n",
    "\n",
    "df['building_area'] = df['building_area'].clip(0.3, 20)\n",
    "df['building_area'].hist()\n",
    "\n",
    "df['parking_price'].replace({np.nan: df['parking_price'].mean()}, inplace = True)\n",
    "df['parking_price'] = np.log1p(df['parking_price'])\n",
    "df['parking_price'].hist()\n",
    "\n",
    "df['land_area'] = df['land_area'].clip(2.22, 100)\n",
    "df['land_area'] = stats.boxcox(df['land_area'], lmbda=0.5)\n",
    "df['land_area'].hist()"
   ]
  },
  {
   "cell_type": "code",
   "execution_count": 127,
   "metadata": {},
   "outputs": [
    {
     "data": {
      "text/plain": [
       "<matplotlib.axes._subplots.AxesSubplot at 0x7f339507f9e8>"
      ]
     },
     "execution_count": 127,
     "metadata": {},
     "output_type": "execute_result"
    },
    {
     "data": {
      "image/png": "[encoded data removed]",
      "text/plain": [
       "<matplotlib.figure.Figure at 0x7f33915233c8>"
      ]
     },
     "metadata": {},
     "output_type": "display_data"
    }
   ],
   "source": [
    "df['divorce_rate'].hist()\n",
    "df['marriage_rate'] = stats.boxcox(df['marriage_rate'], lmbda=0.25)\n",
    "df['marriage_rate'].hist()\n",
    "\n",
    "df['death_rate'] = stats.boxcox(df['death_rate'], lmbda=0.25)\n",
    "df['death_rate'].hist()\n",
    "\n",
    "df['elementary_rate'] = df['elementary_rate']*20\n",
    "df['elementary_rate'].hist()\n",
    "\n",
    "df['junior_rate'] = df['junior_rate']*15\n",
    "df['junior_rate'].hist()\n",
    "\n",
    "df['highschool_rate'] = df['highschool_rate']*10\n",
    "df['highschool_rate'].hist()\n",
    "\n",
    "df['jobschool_rate'] = df['jobschool_rate']*20\n",
    "df['jobschool_rate'].hist()"
   ]
  },
  {
   "cell_type": "code",
   "execution_count": 120,
   "metadata": {},
   "outputs": [
    {
     "data": {
      "text/plain": [
       "<matplotlib.axes._subplots.AxesSubplot at 0x7f339314d6a0>"
      ]
     },
     "execution_count": 120,
     "metadata": {},
     "output_type": "execute_result"
    },
    {
     "data": {
      "image/png": "[encoded data removed]",
      "text/plain": [
       "<matplotlib.figure.Figure at 0x7f3393119860>"
      ]
     },
     "metadata": {},
     "output_type": "display_data"
    }
   ],
   "source": [
    "#df['lat'] = df['lat']/df['lat'].max()\n",
    "#df['lat'].hist()\n",
    "\n",
    "#df['village_income_median'] = np.log1p(df['village_income_median'])\n",
    "#df['village_income_median'].hist()\n",
    "\n",
    "#df['txn_floor'] = np.log1p(df['txn_floor'])\n",
    "#df['txn_floor'].hist()\n",
    "\n",
    "#df['total_floor'] = np.log1p(df['total_floor'])\n",
    "#df['total_floor'].hist()\n",
    "\n",
    "#df['building_type'].hist()\n",
    "\n",
    "#df['lon'] = df['lon']/df['lon'].max()\n",
    "#df['lon'].hist()\n",
    "\n",
    "#df['town_population'] = np.log1p(df['town_population'])\n",
    "#df['town_population'].hist()"
   ]
  },
  {
   "cell_type": "code",
   "execution_count": 128,
   "metadata": {},
   "outputs": [],
   "source": [
    "df['XIII_10000'] = pd.qcut(df[\"XIII_10000\"], 20, labels=[x for x in range(1, 21)])\n",
    "df['building_complete_dt'] = pd.qcut(df[\"building_complete_dt\"], 20, labels=[x for x in range(1, 21)])\n",
    "df['txn_dt'] = pd.qcut(df[\"txn_dt\"], 20, labels=[x for x in range(1, 21)])\n",
    "df['XIII_5000'] = pd.qcut(df[\"XIII_5000\"], 20, labels=[x for x in range(1, 21)])\n",
    "df['V_10000'] = pd.qcut(df[\"V_10000\"], 20, labels=[x for x in range(1, 21)])\n",
    "df['VII_1000'] = pd.qcut(df[\"VII_1000\"], 20, labels=[x for x in range(1, 21)])\n",
    "df['V_5000'] = pd.qcut(df[\"V_5000\"], 20, labels=[x for x in range(1, 21)])\n",
    "df['XIV_5000'] = pd.qcut(df[\"XIV_5000\"], 20, labels=[x for x in range(1, 21)])\n",
    "df['II_5000'] = pd.qcut(df[\"II_5000\"], 20, labels=[x for x in range(1, 21)])\n",
    "df['II_1000'] = pd.qcut(df[\"II_1000\"], 20, labels=[x for x in range(1, 21)])\n",
    "df['XII_1000'] = pd.qcut(df[\"XII_1000\"], 20, labels=[x for x in range(1, 21)])\n",
    "df['X_5000'] = pd.qcut(df[\"X_5000\"], 20, labels=[x for x in range(1, 21)])\n",
    "df['VII_5000'] = pd.qcut(df[\"VII_5000\"], 20, labels=[x for x in range(1, 21)])\n",
    "df['VII_500'] = pd.qcut(df[\"VII_500\"], 20, labels=[x for x in range(1, 21)])\n",
    "df['XII_500'] = pd.qcut(df[\"XII_500\"], 20, labels=[x for x in range(1, 21)])\n",
    "df['XI_1000'] = pd.qcut(df[\"XI_1000\"], 20, labels=[x for x in range(1, 21)])\n",
    "df['IX_1000'] = pd.qcut(df[\"IX_1000\"], 20, labels=[x for x in range(1, 21)])\n",
    "df['VI_5000'] = pd.qcut(df[\"VI_5000\"], 20, labels=[x for x in range(1, 21)])\n",
    "df['XIV_10000'] = pd.qcut(df[\"XIV_10000\"], 20, labels=[x for x in range(1, 21)])\n",
    "df['IX_5000'] = pd.qcut(df[\"IX_5000\"], 20, labels=[x for x in range(1, 21)])"
   ]
  },
  {
   "cell_type": "code",
   "execution_count": 129,
   "metadata": {},
   "outputs": [],
   "source": [
    "train_X = df[:train_num]\n",
    "test_X = df[train_num:]\n",
    "\n",
    "high_feature = list(feats[:37].index)\n",
    "estimator_ = RandomForestRegressor(max_depth=20)\n",
    "estimator_.fit(train_X[high_feature], train_Y)\n",
    "\n",
    "predict = estimator_.predict(test_X[high_feature])\n",
    "\n",
    "test_price = np.expm1(predict)\n",
    "\n",
    "submit = pd.DataFrame(ids)\n",
    "submit['total_price'] = test_price.astype(np.int32)\n",
    "submit.to_csv(\"2019-06-02.csv\",index=False)"
   ]
  },
  {
   "cell_type": "code",
   "execution_count": null,
   "metadata": {},
   "outputs": [],
   "source": []
  }
 ],
 "metadata": {
  "kernelspec": {
   "display_name": "Python 3",
   "language": "python",
   "name": "python3"
  },
  "language_info": {
   "codemirror_mode": {
    "name": "ipython",
    "version": 3
   },
   "file_extension": ".py",
   "mimetype": "text/x-python",
   "name": "python",
   "nbconvert_exporter": "python",
   "pygments_lexer": "ipython3",
   "version": "3.6.4"
  },
  "varInspector": {
   "cols": {
    "lenName": 16,
    "lenType": 16,
    "lenVar": 40
   },
   "kernels_config": {
    "python": {
     "delete_cmd_postfix": "",
     "delete_cmd_prefix": "del ",
     "library": "var_list.py",
     "varRefreshCmd": "print(var_dic_list())"
    },
    "r": {
     "delete_cmd_postfix": ") ",
     "delete_cmd_prefix": "rm(",
     "library": "var_list.r",
     "varRefreshCmd": "cat(var_dic_list()) "
    }
   },
   "oldHeight": 412.4,
   "position": {
    "height": "40px",
    "left": "1114px",
    "right": "20px",
    "top": "120px",
    "width": "350px"
   },
   "types_to_exclude": [
    "module",
    "function",
    "builtin_function_or_method",
    "instance",
    "_Feature"
   ],
   "varInspector_section_display": "none",
   "window_display": false
  }
 },
 "nbformat": 4,
 "nbformat_minor": 2
}
