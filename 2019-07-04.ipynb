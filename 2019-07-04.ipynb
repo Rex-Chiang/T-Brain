{
 "cells": [
  {
   "cell_type": "code",
   "execution_count": 1,
   "metadata": {},
   "outputs": [],
   "source": [
    "# 載入需要的套件\n",
    "import os\n",
    "import numpy as np \n",
    "import pandas as pd\n",
    "import copy\n",
    "import seaborn as sns\n",
    "import xgboost as xgb\n",
    "from sklearn.preprocessing import MinMaxScaler, MaxAbsScaler, StandardScaler, Imputer\n",
    "from sklearn.model_selection import train_test_split, cross_val_score, GridSearchCV\n",
    "from sklearn.ensemble import RandomForestRegressor, GradientBoostingRegressor\n",
    "from sklearn.metrics import mean_squared_error, mean_absolute_error\n",
    "import matplotlib.pyplot as plt\n",
    "%matplotlib inline"
   ]
  },
  {
   "cell_type": "code",
   "execution_count": 282,
   "metadata": {},
   "outputs": [],
   "source": [
    "# 設定 data_path\n",
    "dir_data = './data/'\n",
    "Train = os.path.join(dir_data, 'train.csv')\n",
    "Test = os.path.join(dir_data, 'test.csv')\n",
    "\n",
    "# 讀取檔案\n",
    "Train_data = pd.read_csv(Train)\n",
    "Test_data = pd.read_csv(Test)"
   ]
  },
  {
   "cell_type": "code",
   "execution_count": 283,
   "metadata": {},
   "outputs": [],
   "source": [
    "ids = Test_data['building_id']\n",
    "\n",
    "Train_data = Train_data.drop(['building_id'] , axis=1)\n",
    "Test_data = Test_data.drop(['building_id'] , axis=1)"
   ]
  },
  {
   "cell_type": "code",
   "execution_count": 284,
   "metadata": {},
   "outputs": [],
   "source": [
    "# 檢查 DataFrame 空缺值的狀態\n",
    "def na_check(df_data):\n",
    "    data_na = (df_data.isnull().sum() / len(df_data)) * 100\n",
    "    data_na = data_na.drop(data_na[data_na == 0].index).sort_values(ascending=False)\n",
    "    missing_data = pd.DataFrame({'Missing Ratio' :data_na})\n",
    "    display(missing_data.head(10))\n",
    "    \n",
    "def na_check2(df_data):\n",
    "    #missing data\n",
    "    total = df_data.isnull().sum().sort_values(ascending=False)\n",
    "    percent = (df_data.isnull().sum()/df_data.isnull().count()).sort_values(ascending=False)\n",
    "    missing_data = pd.concat([total, percent], axis=1, keys=['Total', 'Percent'])\n",
    "    display(missing_data.head(4))\n",
    "    \n",
    "def area_type(row):\n",
    "    if row >= 0:\n",
    "        return 1\n",
    "    else:\n",
    "        return 0"
   ]
  },
  {
   "cell_type": "code",
   "execution_count": 266,
   "metadata": {},
   "outputs": [
    {
     "data": {
      "text/html": [
       "<div>\n",
       "<style scoped>\n",
       "    .dataframe tbody tr th:only-of-type {\n",
       "        vertical-align: middle;\n",
       "    }\n",
       "\n",
       "    .dataframe tbody tr th {\n",
       "        vertical-align: top;\n",
       "    }\n",
       "\n",
       "    .dataframe thead th {\n",
       "        text-align: right;\n",
       "    }\n",
       "</style>\n",
       "<table border=\"1\" class=\"dataframe\">\n",
       "  <thead>\n",
       "    <tr style=\"text-align: right;\">\n",
       "      <th></th>\n",
       "      <th>Missing Ratio</th>\n",
       "    </tr>\n",
       "  </thead>\n",
       "  <tbody>\n",
       "    <tr>\n",
       "      <th>parking_area</th>\n",
       "      <td>94.828333</td>\n",
       "    </tr>\n",
       "    <tr>\n",
       "      <th>parking_price</th>\n",
       "      <td>76.775000</td>\n",
       "    </tr>\n",
       "    <tr>\n",
       "      <th>txn_floor</th>\n",
       "      <td>26.503333</td>\n",
       "    </tr>\n",
       "    <tr>\n",
       "      <th>village_income_median</th>\n",
       "      <td>1.903333</td>\n",
       "    </tr>\n",
       "  </tbody>\n",
       "</table>\n",
       "</div>"
      ],
      "text/plain": [
       "                       Missing Ratio\n",
       "parking_area               94.828333\n",
       "parking_price              76.775000\n",
       "txn_floor                  26.503333\n",
       "village_income_median       1.903333"
      ]
     },
     "metadata": {},
     "output_type": "display_data"
    },
    {
     "data": {
      "text/html": [
       "<div>\n",
       "<style scoped>\n",
       "    .dataframe tbody tr th:only-of-type {\n",
       "        vertical-align: middle;\n",
       "    }\n",
       "\n",
       "    .dataframe tbody tr th {\n",
       "        vertical-align: top;\n",
       "    }\n",
       "\n",
       "    .dataframe thead th {\n",
       "        text-align: right;\n",
       "    }\n",
       "</style>\n",
       "<table border=\"1\" class=\"dataframe\">\n",
       "  <thead>\n",
       "    <tr style=\"text-align: right;\">\n",
       "      <th></th>\n",
       "      <th>Missing Ratio</th>\n",
       "    </tr>\n",
       "  </thead>\n",
       "  <tbody>\n",
       "    <tr>\n",
       "      <th>parking_area</th>\n",
       "      <td>95.00</td>\n",
       "    </tr>\n",
       "    <tr>\n",
       "      <th>parking_price</th>\n",
       "      <td>77.10</td>\n",
       "    </tr>\n",
       "    <tr>\n",
       "      <th>txn_floor</th>\n",
       "      <td>26.39</td>\n",
       "    </tr>\n",
       "    <tr>\n",
       "      <th>village_income_median</th>\n",
       "      <td>1.84</td>\n",
       "    </tr>\n",
       "  </tbody>\n",
       "</table>\n",
       "</div>"
      ],
      "text/plain": [
       "                       Missing Ratio\n",
       "parking_area                   95.00\n",
       "parking_price                  77.10\n",
       "txn_floor                      26.39\n",
       "village_income_median           1.84"
      ]
     },
     "metadata": {},
     "output_type": "display_data"
    }
   ],
   "source": [
    "na_check(Train_data)\n",
    "na_check(Test_data)"
   ]
  },
  {
   "cell_type": "code",
   "execution_count": 285,
   "metadata": {},
   "outputs": [],
   "source": [
    "Train_data.sort_values(by = 'parking_price', ascending = False)[:4]\n",
    "Train_data = Train_data.drop(55472)\n",
    "Train_data = Train_data.drop(8795)\n",
    "Train_data = Train_data.drop(37480)\n",
    "Train_data = Train_data.drop(51731)"
   ]
  },
  {
   "cell_type": "code",
   "execution_count": 286,
   "metadata": {},
   "outputs": [
    {
     "data": {
      "text/plain": [
       "<matplotlib.collections.PathCollection at 0x7fe7239fca20>"
      ]
     },
     "execution_count": 286,
     "metadata": {},
     "output_type": "execute_result"
    },
    {
     "data": {
      "image/png": "[encoded data removed]",
      "text/plain": [
       "<Figure size 432x288 with 1 Axes>"
      ]
     },
     "metadata": {
      "needs_background": "light"
     },
     "output_type": "display_data"
    }
   ],
   "source": [
    "train_Y = np.log1p(Train_data['total_price'])\n",
    "train_X = Train_data\n",
    "\n",
    "plt.scatter(train_X[\"parking_price\"], train_Y)"
   ]
  },
  {
   "cell_type": "code",
   "execution_count": 287,
   "metadata": {},
   "outputs": [
    {
     "data": {
      "text/plain": [
       "<matplotlib.axes._subplots.AxesSubplot at 0x7fe72313c780>"
      ]
     },
     "execution_count": 287,
     "metadata": {},
     "output_type": "execute_result"
    },
    {
     "data": {
      "image/png": "[encoded data removed]",
      "text/plain": [
       "<Figure size 432x288 with 1 Axes>"
      ]
     },
     "metadata": {
      "needs_background": "light"
     },
     "output_type": "display_data"
    }
   ],
   "source": [
    "Test_data[\"parking_price\"].hist()"
   ]
  },
  {
   "cell_type": "code",
   "execution_count": 288,
   "metadata": {},
   "outputs": [
    {
     "data": {
      "text/plain": [
       "<matplotlib.collections.PathCollection at 0x7fe723548710>"
      ]
     },
     "execution_count": 288,
     "metadata": {},
     "output_type": "execute_result"
    },
    {
     "data": {
      "image/png": "[encoded data removed]",
      "text/plain": [
       "<Figure size 432x288 with 1 Axes>"
      ]
     },
     "metadata": {
      "needs_background": "light"
     },
     "output_type": "display_data"
    }
   ],
   "source": [
    "Train_data.sort_values(by = 'parking_area', ascending = False)[:2]\n",
    "Train_data = Train_data.drop(38617)\n",
    "Train_data = Train_data.drop(41914)\n",
    "\n",
    "train_Y = np.log1p(Train_data['total_price'])\n",
    "train_X = Train_data\n",
    "plt.scatter(train_X[\"parking_area\"], train_Y)"
   ]
  },
  {
   "cell_type": "code",
   "execution_count": 289,
   "metadata": {},
   "outputs": [
    {
     "data": {
      "text/plain": [
       "<matplotlib.collections.PathCollection at 0x7fe723629400>"
      ]
     },
     "execution_count": 289,
     "metadata": {},
     "output_type": "execute_result"
    },
    {
     "data": {
      "image/png": "[encoded data removed]",
      "text/plain": [
       "<Figure size 432x288 with 1 Axes>"
      ]
     },
     "metadata": {
      "needs_background": "light"
     },
     "output_type": "display_data"
    }
   ],
   "source": [
    "Train_data.sort_values(by = 'land_area', ascending = False)[:10]\n",
    "Train_data = Train_data.drop(10670)\n",
    "Train_data = Train_data.drop(41331)\n",
    "Train_data = Train_data.drop(39191)\n",
    "Train_data = Train_data.drop(53966)\n",
    "Train_data = Train_data.drop(7814)\n",
    "Train_data = Train_data.drop(13332)\n",
    "Train_data = Train_data.drop(9785)\n",
    "Train_data = Train_data.drop(14007)\n",
    "Train_data = Train_data.drop(50076)\n",
    "Train_data = Train_data.drop(2086)\n",
    "\n",
    "train_Y = np.log1p(Train_data['total_price'])\n",
    "train_X = Train_data\n",
    "\n",
    "plt.scatter(train_X[\"land_area\"], train_Y)"
   ]
  },
  {
   "cell_type": "code",
   "execution_count": 290,
   "metadata": {},
   "outputs": [
    {
     "data": {
      "text/plain": [
       "<matplotlib.axes._subplots.AxesSubplot at 0x7fe72380d080>"
      ]
     },
     "execution_count": 290,
     "metadata": {},
     "output_type": "execute_result"
    },
    {
     "data": {
      "image/png": "[encoded data removed]",
      "text/plain": [
       "<Figure size 432x288 with 1 Axes>"
      ]
     },
     "metadata": {
      "needs_background": "light"
     },
     "output_type": "display_data"
    }
   ],
   "source": [
    "#Test_data[\"land_area\"] = Test_data[\"land_area\"].clip(0, Train_data[\"land_area\"].max())\n",
    "\n",
    "Test_data[\"land_area\"].clip(0, Train_data[\"land_area\"].max()).hist()"
   ]
  },
  {
   "cell_type": "code",
   "execution_count": 291,
   "metadata": {},
   "outputs": [
    {
     "data": {
      "text/plain": [
       "<matplotlib.collections.PathCollection at 0x7fe723823be0>"
      ]
     },
     "execution_count": 291,
     "metadata": {},
     "output_type": "execute_result"
    },
    {
     "data": {
      "image/png": "[encoded data removed]",
      "text/plain": [
       "<Figure size 432x288 with 1 Axes>"
      ]
     },
     "metadata": {
      "needs_background": "light"
     },
     "output_type": "display_data"
    }
   ],
   "source": [
    "Train_data.sort_values(by = 'building_area', ascending = False)[:20]\n",
    "Train_data = Train_data.drop(9491)\n",
    "Train_data = Train_data.drop(46934)\n",
    "\n",
    "train_Y = np.log1p(Train_data['total_price'])\n",
    "train_X = Train_data\n",
    "\n",
    "plt.scatter(train_X[\"building_area\"], train_Y)"
   ]
  },
  {
   "cell_type": "code",
   "execution_count": 292,
   "metadata": {},
   "outputs": [
    {
     "data": {
      "text/plain": [
       "<matplotlib.axes._subplots.AxesSubplot at 0x7fe7232e1a58>"
      ]
     },
     "execution_count": 292,
     "metadata": {},
     "output_type": "execute_result"
    },
    {
     "data": {
      "image/png": "[encoded data removed]",
      "text/plain": [
       "<Figure size 432x288 with 1 Axes>"
      ]
     },
     "metadata": {
      "needs_background": "light"
     },
     "output_type": "display_data"
    }
   ],
   "source": [
    "#Test_data[\"building_area\"] = Test_data[\"building_area\"].clip(0, Train_data[\"building_area\"].max())\n",
    "\n",
    "Test_data[\"building_area\"].clip(0, Train_data[\"building_area\"].max()).hist()"
   ]
  },
  {
   "cell_type": "code",
   "execution_count": 293,
   "metadata": {},
   "outputs": [],
   "source": [
    "Train_data = Train_data.drop(['total_price'] , axis=1)\n",
    "\n",
    "#Train_data = Train_data.drop(['parking_area'] , axis=1)\n",
    "#Test_data = Test_data.drop(['parking_area'] , axis=1)"
   ]
  },
  {
   "cell_type": "code",
   "execution_count": 294,
   "metadata": {},
   "outputs": [
    {
     "data": {
      "text/html": [
       "<div>\n",
       "<style scoped>\n",
       "    .dataframe tbody tr th:only-of-type {\n",
       "        vertical-align: middle;\n",
       "    }\n",
       "\n",
       "    .dataframe tbody tr th {\n",
       "        vertical-align: top;\n",
       "    }\n",
       "\n",
       "    .dataframe thead th {\n",
       "        text-align: right;\n",
       "    }\n",
       "</style>\n",
       "<table border=\"1\" class=\"dataframe\">\n",
       "  <thead>\n",
       "    <tr style=\"text-align: right;\">\n",
       "      <th></th>\n",
       "      <th>building_material</th>\n",
       "      <th>city</th>\n",
       "      <th>txn_dt</th>\n",
       "      <th>total_floor</th>\n",
       "      <th>building_type</th>\n",
       "      <th>building_use</th>\n",
       "      <th>building_complete_dt</th>\n",
       "      <th>parking_way</th>\n",
       "      <th>parking_area</th>\n",
       "      <th>parking_price</th>\n",
       "      <th>...</th>\n",
       "      <th>XIV_250</th>\n",
       "      <th>XIV_500</th>\n",
       "      <th>XIV_index_500</th>\n",
       "      <th>XIV_1000</th>\n",
       "      <th>XIV_index_1000</th>\n",
       "      <th>XIV_5000</th>\n",
       "      <th>XIV_index_5000</th>\n",
       "      <th>XIV_10000</th>\n",
       "      <th>XIV_index_10000</th>\n",
       "      <th>XIV_MIN</th>\n",
       "    </tr>\n",
       "  </thead>\n",
       "  <tbody>\n",
       "    <tr>\n",
       "      <th>0</th>\n",
       "      <td>8</td>\n",
       "      <td>21</td>\n",
       "      <td>18674</td>\n",
       "      <td>4</td>\n",
       "      <td>3</td>\n",
       "      <td>2</td>\n",
       "      <td>6271</td>\n",
       "      <td>2</td>\n",
       "      <td>NaN</td>\n",
       "      <td>NaN</td>\n",
       "      <td>...</td>\n",
       "      <td>21</td>\n",
       "      <td>58</td>\n",
       "      <td>1</td>\n",
       "      <td>157</td>\n",
       "      <td>1</td>\n",
       "      <td>2483</td>\n",
       "      <td>1</td>\n",
       "      <td>6011</td>\n",
       "      <td>1</td>\n",
       "      <td>34.469803</td>\n",
       "    </tr>\n",
       "    <tr>\n",
       "      <th>1</th>\n",
       "      <td>8</td>\n",
       "      <td>7</td>\n",
       "      <td>18800</td>\n",
       "      <td>5</td>\n",
       "      <td>1</td>\n",
       "      <td>2</td>\n",
       "      <td>7885</td>\n",
       "      <td>2</td>\n",
       "      <td>NaN</td>\n",
       "      <td>NaN</td>\n",
       "      <td>...</td>\n",
       "      <td>7</td>\n",
       "      <td>28</td>\n",
       "      <td>1</td>\n",
       "      <td>115</td>\n",
       "      <td>1</td>\n",
       "      <td>15872</td>\n",
       "      <td>1</td>\n",
       "      <td>32221</td>\n",
       "      <td>1</td>\n",
       "      <td>40.073573</td>\n",
       "    </tr>\n",
       "    <tr>\n",
       "      <th>2</th>\n",
       "      <td>8</td>\n",
       "      <td>7</td>\n",
       "      <td>19289</td>\n",
       "      <td>4</td>\n",
       "      <td>1</td>\n",
       "      <td>2</td>\n",
       "      <td>6028</td>\n",
       "      <td>2</td>\n",
       "      <td>NaN</td>\n",
       "      <td>NaN</td>\n",
       "      <td>...</td>\n",
       "      <td>27</td>\n",
       "      <td>78</td>\n",
       "      <td>1</td>\n",
       "      <td>212</td>\n",
       "      <td>1</td>\n",
       "      <td>15760</td>\n",
       "      <td>1</td>\n",
       "      <td>32228</td>\n",
       "      <td>1</td>\n",
       "      <td>54.462081</td>\n",
       "    </tr>\n",
       "    <tr>\n",
       "      <th>3</th>\n",
       "      <td>8</td>\n",
       "      <td>21</td>\n",
       "      <td>20385</td>\n",
       "      <td>24</td>\n",
       "      <td>0</td>\n",
       "      <td>2</td>\n",
       "      <td>18325</td>\n",
       "      <td>0</td>\n",
       "      <td>NaN</td>\n",
       "      <td>81138.889762</td>\n",
       "      <td>...</td>\n",
       "      <td>2</td>\n",
       "      <td>20</td>\n",
       "      <td>1</td>\n",
       "      <td>125</td>\n",
       "      <td>1</td>\n",
       "      <td>2568</td>\n",
       "      <td>1</td>\n",
       "      <td>7271</td>\n",
       "      <td>1</td>\n",
       "      <td>99.628966</td>\n",
       "    </tr>\n",
       "    <tr>\n",
       "      <th>4</th>\n",
       "      <td>1</td>\n",
       "      <td>21</td>\n",
       "      <td>20657</td>\n",
       "      <td>2</td>\n",
       "      <td>4</td>\n",
       "      <td>2</td>\n",
       "      <td>6880</td>\n",
       "      <td>2</td>\n",
       "      <td>NaN</td>\n",
       "      <td>NaN</td>\n",
       "      <td>...</td>\n",
       "      <td>2</td>\n",
       "      <td>18</td>\n",
       "      <td>1</td>\n",
       "      <td>47</td>\n",
       "      <td>1</td>\n",
       "      <td>2587</td>\n",
       "      <td>1</td>\n",
       "      <td>7442</td>\n",
       "      <td>1</td>\n",
       "      <td>124.131236</td>\n",
       "    </tr>\n",
       "  </tbody>\n",
       "</table>\n",
       "<p>5 rows × 233 columns</p>\n",
       "</div>"
      ],
      "text/plain": [
       "   building_material  city  txn_dt  total_floor  building_type  building_use  \\\n",
       "0                  8    21   18674            4              3             2   \n",
       "1                  8     7   18800            5              1             2   \n",
       "2                  8     7   19289            4              1             2   \n",
       "3                  8    21   20385           24              0             2   \n",
       "4                  1    21   20657            2              4             2   \n",
       "\n",
       "   building_complete_dt  parking_way  parking_area  parking_price  ...  \\\n",
       "0                  6271            2           NaN            NaN  ...   \n",
       "1                  7885            2           NaN            NaN  ...   \n",
       "2                  6028            2           NaN            NaN  ...   \n",
       "3                 18325            0           NaN   81138.889762  ...   \n",
       "4                  6880            2           NaN            NaN  ...   \n",
       "\n",
       "   XIV_250  XIV_500  XIV_index_500  XIV_1000  XIV_index_1000  XIV_5000  \\\n",
       "0       21       58              1       157               1      2483   \n",
       "1        7       28              1       115               1     15872   \n",
       "2       27       78              1       212               1     15760   \n",
       "3        2       20              1       125               1      2568   \n",
       "4        2       18              1        47               1      2587   \n",
       "\n",
       "   XIV_index_5000  XIV_10000  XIV_index_10000     XIV_MIN  \n",
       "0               1       6011                1   34.469803  \n",
       "1               1      32221                1   40.073573  \n",
       "2               1      32228                1   54.462081  \n",
       "3               1       7271                1   99.628966  \n",
       "4               1       7442                1  124.131236  \n",
       "\n",
       "[5 rows x 233 columns]"
      ]
     },
     "execution_count": 294,
     "metadata": {},
     "output_type": "execute_result"
    }
   ],
   "source": [
    "df = pd.concat([Train_data,Test_data])\n",
    "df.head()"
   ]
  },
  {
   "cell_type": "code",
   "execution_count": 295,
   "metadata": {},
   "outputs": [],
   "source": [
    "def house_type(row):\n",
    "    if row == 0:\n",
    "        return 0\n",
    "    else:\n",
    "        return 1\n",
    "    \n",
    "df['txn_floor'] = df['txn_floor'].fillna(0)\n",
    "    \n",
    "df[\"house_type\"] = df['txn_floor'].apply(house_type)"
   ]
  },
  {
   "cell_type": "code",
   "execution_count": 296,
   "metadata": {},
   "outputs": [
    {
     "data": {
      "text/plain": [
       "1    51451\n",
       "0    18531\n",
       "Name: house_type, dtype: int64"
      ]
     },
     "execution_count": 296,
     "metadata": {},
     "output_type": "execute_result"
    }
   ],
   "source": [
    "df[\"house_type\"].value_counts()"
   ]
  },
  {
   "cell_type": "code",
   "execution_count": 297,
   "metadata": {},
   "outputs": [],
   "source": [
    "parking_price = df['parking_price']\n",
    "parking_area = df['parking_area']\n",
    "\n",
    "df = df.drop(['parking_price'] , axis=1)\n",
    "df = df.drop(['parking_area'] , axis=1)\n",
    "\n",
    "df = df.fillna(df.mean())\n",
    "df['parking_price'] = parking_price\n",
    "df['parking_area'] = parking_area"
   ]
  },
  {
   "cell_type": "code",
   "execution_count": 298,
   "metadata": {},
   "outputs": [],
   "source": [
    "park_not_null = df[df['parking_price'].notnull()]\n",
    "park_is_null = df[df['parking_price'].isnull()].drop(['parking_price'] , axis=1)\n",
    "\n",
    "park_X = park_not_null.drop(['parking_price'] , axis=1)\n",
    "park_Y = np.log1p(park_not_null['parking_price'])"
   ]
  },
  {
   "cell_type": "code",
   "execution_count": 299,
   "metadata": {},
   "outputs": [
    {
     "name": "stderr",
     "output_type": "stream",
     "text": [
      "/home/rex/anaconda3/lib/python3.7/site-packages/sklearn/ensemble/forest.py:246: FutureWarning: The default value of n_estimators will change from 10 in version 0.20 to 100 in 0.22.\n",
      "  \"10 in version 0.20 to 100 in 0.22.\", FutureWarning)\n"
     ]
    },
    {
     "data": {
      "text/html": [
       "<div>\n",
       "<style scoped>\n",
       "    .dataframe tbody tr th:only-of-type {\n",
       "        vertical-align: middle;\n",
       "    }\n",
       "\n",
       "    .dataframe tbody tr th {\n",
       "        vertical-align: top;\n",
       "    }\n",
       "\n",
       "    .dataframe thead th {\n",
       "        text-align: right;\n",
       "    }\n",
       "</style>\n",
       "<table border=\"1\" class=\"dataframe\">\n",
       "  <thead>\n",
       "    <tr style=\"text-align: right;\">\n",
       "      <th></th>\n",
       "      <th>building_material</th>\n",
       "      <th>city</th>\n",
       "      <th>txn_dt</th>\n",
       "      <th>total_floor</th>\n",
       "      <th>building_type</th>\n",
       "      <th>building_use</th>\n",
       "      <th>building_complete_dt</th>\n",
       "      <th>parking_way</th>\n",
       "      <th>txn_floor</th>\n",
       "      <th>land_area</th>\n",
       "      <th>...</th>\n",
       "      <th>XIV_index_500</th>\n",
       "      <th>XIV_1000</th>\n",
       "      <th>XIV_index_1000</th>\n",
       "      <th>XIV_5000</th>\n",
       "      <th>XIV_index_5000</th>\n",
       "      <th>XIV_10000</th>\n",
       "      <th>XIV_index_10000</th>\n",
       "      <th>XIV_MIN</th>\n",
       "      <th>house_type</th>\n",
       "      <th>parking_price</th>\n",
       "    </tr>\n",
       "  </thead>\n",
       "  <tbody>\n",
       "    <tr>\n",
       "      <th>0</th>\n",
       "      <td>8</td>\n",
       "      <td>21</td>\n",
       "      <td>18674</td>\n",
       "      <td>4</td>\n",
       "      <td>3</td>\n",
       "      <td>2</td>\n",
       "      <td>6271</td>\n",
       "      <td>2</td>\n",
       "      <td>3.0</td>\n",
       "      <td>18.144460</td>\n",
       "      <td>...</td>\n",
       "      <td>1</td>\n",
       "      <td>157</td>\n",
       "      <td>1</td>\n",
       "      <td>2483</td>\n",
       "      <td>1</td>\n",
       "      <td>6011</td>\n",
       "      <td>1</td>\n",
       "      <td>34.469803</td>\n",
       "      <td>1</td>\n",
       "      <td>5.730034</td>\n",
       "    </tr>\n",
       "    <tr>\n",
       "      <th>1</th>\n",
       "      <td>8</td>\n",
       "      <td>7</td>\n",
       "      <td>18800</td>\n",
       "      <td>5</td>\n",
       "      <td>1</td>\n",
       "      <td>2</td>\n",
       "      <td>7885</td>\n",
       "      <td>2</td>\n",
       "      <td>5.0</td>\n",
       "      <td>11.387227</td>\n",
       "      <td>...</td>\n",
       "      <td>1</td>\n",
       "      <td>115</td>\n",
       "      <td>1</td>\n",
       "      <td>15872</td>\n",
       "      <td>1</td>\n",
       "      <td>32221</td>\n",
       "      <td>1</td>\n",
       "      <td>40.073573</td>\n",
       "      <td>1</td>\n",
       "      <td>10.124750</td>\n",
       "    </tr>\n",
       "    <tr>\n",
       "      <th>2</th>\n",
       "      <td>8</td>\n",
       "      <td>7</td>\n",
       "      <td>19289</td>\n",
       "      <td>4</td>\n",
       "      <td>1</td>\n",
       "      <td>2</td>\n",
       "      <td>6028</td>\n",
       "      <td>2</td>\n",
       "      <td>1.0</td>\n",
       "      <td>21.426802</td>\n",
       "      <td>...</td>\n",
       "      <td>1</td>\n",
       "      <td>212</td>\n",
       "      <td>1</td>\n",
       "      <td>15760</td>\n",
       "      <td>1</td>\n",
       "      <td>32228</td>\n",
       "      <td>1</td>\n",
       "      <td>54.462081</td>\n",
       "      <td>1</td>\n",
       "      <td>10.436944</td>\n",
       "    </tr>\n",
       "    <tr>\n",
       "      <th>3</th>\n",
       "      <td>8</td>\n",
       "      <td>21</td>\n",
       "      <td>20385</td>\n",
       "      <td>24</td>\n",
       "      <td>0</td>\n",
       "      <td>2</td>\n",
       "      <td>18325</td>\n",
       "      <td>0</td>\n",
       "      <td>13.0</td>\n",
       "      <td>11.387227</td>\n",
       "      <td>...</td>\n",
       "      <td>1</td>\n",
       "      <td>125</td>\n",
       "      <td>1</td>\n",
       "      <td>2568</td>\n",
       "      <td>1</td>\n",
       "      <td>7271</td>\n",
       "      <td>1</td>\n",
       "      <td>99.628966</td>\n",
       "      <td>1</td>\n",
       "      <td>11.303930</td>\n",
       "    </tr>\n",
       "    <tr>\n",
       "      <th>4</th>\n",
       "      <td>1</td>\n",
       "      <td>21</td>\n",
       "      <td>20657</td>\n",
       "      <td>2</td>\n",
       "      <td>4</td>\n",
       "      <td>2</td>\n",
       "      <td>6880</td>\n",
       "      <td>2</td>\n",
       "      <td>0.0</td>\n",
       "      <td>61.306524</td>\n",
       "      <td>...</td>\n",
       "      <td>1</td>\n",
       "      <td>47</td>\n",
       "      <td>1</td>\n",
       "      <td>2587</td>\n",
       "      <td>1</td>\n",
       "      <td>7442</td>\n",
       "      <td>1</td>\n",
       "      <td>124.131236</td>\n",
       "      <td>0</td>\n",
       "      <td>8.338449</td>\n",
       "    </tr>\n",
       "  </tbody>\n",
       "</table>\n",
       "<p>5 rows × 233 columns</p>\n",
       "</div>"
      ],
      "text/plain": [
       "   building_material  city  txn_dt  total_floor  building_type  building_use  \\\n",
       "0                  8    21   18674            4              3             2   \n",
       "1                  8     7   18800            5              1             2   \n",
       "2                  8     7   19289            4              1             2   \n",
       "3                  8    21   20385           24              0             2   \n",
       "4                  1    21   20657            2              4             2   \n",
       "\n",
       "   building_complete_dt  parking_way  txn_floor  land_area  ...  \\\n",
       "0                  6271            2        3.0  18.144460  ...   \n",
       "1                  7885            2        5.0  11.387227  ...   \n",
       "2                  6028            2        1.0  21.426802  ...   \n",
       "3                 18325            0       13.0  11.387227  ...   \n",
       "4                  6880            2        0.0  61.306524  ...   \n",
       "\n",
       "   XIV_index_500  XIV_1000  XIV_index_1000  XIV_5000  XIV_index_5000  \\\n",
       "0              1       157               1      2483               1   \n",
       "1              1       115               1     15872               1   \n",
       "2              1       212               1     15760               1   \n",
       "3              1       125               1      2568               1   \n",
       "4              1        47               1      2587               1   \n",
       "\n",
       "   XIV_10000  XIV_index_10000     XIV_MIN  house_type  parking_price  \n",
       "0       6011                1   34.469803           1       5.730034  \n",
       "1      32221                1   40.073573           1      10.124750  \n",
       "2      32228                1   54.462081           1      10.436944  \n",
       "3       7271                1   99.628966           1      11.303930  \n",
       "4       7442                1  124.131236           0       8.338449  \n",
       "\n",
       "[5 rows x 233 columns]"
      ]
     },
     "execution_count": 299,
     "metadata": {},
     "output_type": "execute_result"
    }
   ],
   "source": [
    "XGB = xgb.XGBRegressor()\n",
    "XGB.fit(park_X, park_Y)\n",
    "\n",
    "park_pred = XGB.predict(park_is_null)\n",
    "df.loc[df['parking_price'].notnull(), 'parking_price'] = np.log1p(park_not_null['parking_price'])\n",
    "df.loc[df['parking_price'].isnull(), 'parking_price'] = park_pred\n",
    "\n",
    "df.head()"
   ]
  },
  {
   "cell_type": "code",
   "execution_count": 300,
   "metadata": {},
   "outputs": [
    {
     "data": {
      "text/plain": [
       "<matplotlib.collections.PathCollection at 0x7fe7237609e8>"
      ]
     },
     "execution_count": 300,
     "metadata": {},
     "output_type": "execute_result"
    },
    {
     "data": {
      "image/png": "[encoded data removed]",
      "text/plain": [
       "<Figure size 432x288 with 1 Axes>"
      ]
     },
     "metadata": {
      "needs_background": "light"
     },
     "output_type": "display_data"
    }
   ],
   "source": [
    "plt.scatter(df[:train_num][\"parking_price\"], train_Y)"
   ]
  },
  {
   "cell_type": "code",
   "execution_count": 302,
   "metadata": {},
   "outputs": [
    {
     "name": "stderr",
     "output_type": "stream",
     "text": [
      "/home/rex/anaconda3/lib/python3.7/site-packages/sklearn/ensemble/forest.py:246: FutureWarning: The default value of n_estimators will change from 10 in version 0.20 to 100 in 0.22.\n",
      "  \"10 in version 0.20 to 100 in 0.22.\", FutureWarning)\n"
     ]
    },
    {
     "data": {
      "text/html": [
       "<div>\n",
       "<style scoped>\n",
       "    .dataframe tbody tr th:only-of-type {\n",
       "        vertical-align: middle;\n",
       "    }\n",
       "\n",
       "    .dataframe tbody tr th {\n",
       "        vertical-align: top;\n",
       "    }\n",
       "\n",
       "    .dataframe thead th {\n",
       "        text-align: right;\n",
       "    }\n",
       "</style>\n",
       "<table border=\"1\" class=\"dataframe\">\n",
       "  <thead>\n",
       "    <tr style=\"text-align: right;\">\n",
       "      <th></th>\n",
       "      <th>building_material</th>\n",
       "      <th>city</th>\n",
       "      <th>txn_dt</th>\n",
       "      <th>total_floor</th>\n",
       "      <th>building_type</th>\n",
       "      <th>building_use</th>\n",
       "      <th>building_complete_dt</th>\n",
       "      <th>parking_way</th>\n",
       "      <th>txn_floor</th>\n",
       "      <th>land_area</th>\n",
       "      <th>...</th>\n",
       "      <th>XIV_1000</th>\n",
       "      <th>XIV_index_1000</th>\n",
       "      <th>XIV_5000</th>\n",
       "      <th>XIV_index_5000</th>\n",
       "      <th>XIV_10000</th>\n",
       "      <th>XIV_index_10000</th>\n",
       "      <th>XIV_MIN</th>\n",
       "      <th>house_type</th>\n",
       "      <th>parking_price</th>\n",
       "      <th>parking_area</th>\n",
       "    </tr>\n",
       "  </thead>\n",
       "  <tbody>\n",
       "    <tr>\n",
       "      <th>0</th>\n",
       "      <td>8</td>\n",
       "      <td>21</td>\n",
       "      <td>18674</td>\n",
       "      <td>4</td>\n",
       "      <td>3</td>\n",
       "      <td>2</td>\n",
       "      <td>6271</td>\n",
       "      <td>2</td>\n",
       "      <td>3.0</td>\n",
       "      <td>18.144460</td>\n",
       "      <td>...</td>\n",
       "      <td>157</td>\n",
       "      <td>1</td>\n",
       "      <td>2483</td>\n",
       "      <td>1</td>\n",
       "      <td>6011</td>\n",
       "      <td>1</td>\n",
       "      <td>34.469803</td>\n",
       "      <td>1</td>\n",
       "      <td>5.730034</td>\n",
       "      <td>4.089024</td>\n",
       "    </tr>\n",
       "    <tr>\n",
       "      <th>1</th>\n",
       "      <td>8</td>\n",
       "      <td>7</td>\n",
       "      <td>18800</td>\n",
       "      <td>5</td>\n",
       "      <td>1</td>\n",
       "      <td>2</td>\n",
       "      <td>7885</td>\n",
       "      <td>2</td>\n",
       "      <td>5.0</td>\n",
       "      <td>11.387227</td>\n",
       "      <td>...</td>\n",
       "      <td>115</td>\n",
       "      <td>1</td>\n",
       "      <td>15872</td>\n",
       "      <td>1</td>\n",
       "      <td>32221</td>\n",
       "      <td>1</td>\n",
       "      <td>40.073573</td>\n",
       "      <td>1</td>\n",
       "      <td>10.124750</td>\n",
       "      <td>2.740472</td>\n",
       "    </tr>\n",
       "    <tr>\n",
       "      <th>2</th>\n",
       "      <td>8</td>\n",
       "      <td>7</td>\n",
       "      <td>19289</td>\n",
       "      <td>4</td>\n",
       "      <td>1</td>\n",
       "      <td>2</td>\n",
       "      <td>6028</td>\n",
       "      <td>2</td>\n",
       "      <td>1.0</td>\n",
       "      <td>21.426802</td>\n",
       "      <td>...</td>\n",
       "      <td>212</td>\n",
       "      <td>1</td>\n",
       "      <td>15760</td>\n",
       "      <td>1</td>\n",
       "      <td>32228</td>\n",
       "      <td>1</td>\n",
       "      <td>54.462081</td>\n",
       "      <td>1</td>\n",
       "      <td>10.436944</td>\n",
       "      <td>2.096388</td>\n",
       "    </tr>\n",
       "    <tr>\n",
       "      <th>3</th>\n",
       "      <td>8</td>\n",
       "      <td>21</td>\n",
       "      <td>20385</td>\n",
       "      <td>24</td>\n",
       "      <td>0</td>\n",
       "      <td>2</td>\n",
       "      <td>18325</td>\n",
       "      <td>0</td>\n",
       "      <td>13.0</td>\n",
       "      <td>11.387227</td>\n",
       "      <td>...</td>\n",
       "      <td>125</td>\n",
       "      <td>1</td>\n",
       "      <td>2568</td>\n",
       "      <td>1</td>\n",
       "      <td>7271</td>\n",
       "      <td>1</td>\n",
       "      <td>99.628966</td>\n",
       "      <td>1</td>\n",
       "      <td>11.303930</td>\n",
       "      <td>4.504494</td>\n",
       "    </tr>\n",
       "    <tr>\n",
       "      <th>4</th>\n",
       "      <td>1</td>\n",
       "      <td>21</td>\n",
       "      <td>20657</td>\n",
       "      <td>2</td>\n",
       "      <td>4</td>\n",
       "      <td>2</td>\n",
       "      <td>6880</td>\n",
       "      <td>2</td>\n",
       "      <td>0.0</td>\n",
       "      <td>61.306524</td>\n",
       "      <td>...</td>\n",
       "      <td>47</td>\n",
       "      <td>1</td>\n",
       "      <td>2587</td>\n",
       "      <td>1</td>\n",
       "      <td>7442</td>\n",
       "      <td>1</td>\n",
       "      <td>124.131236</td>\n",
       "      <td>0</td>\n",
       "      <td>8.338449</td>\n",
       "      <td>4.196989</td>\n",
       "    </tr>\n",
       "  </tbody>\n",
       "</table>\n",
       "<p>5 rows × 234 columns</p>\n",
       "</div>"
      ],
      "text/plain": [
       "   building_material  city  txn_dt  total_floor  building_type  building_use  \\\n",
       "0                  8    21   18674            4              3             2   \n",
       "1                  8     7   18800            5              1             2   \n",
       "2                  8     7   19289            4              1             2   \n",
       "3                  8    21   20385           24              0             2   \n",
       "4                  1    21   20657            2              4             2   \n",
       "\n",
       "   building_complete_dt  parking_way  txn_floor  land_area  ...  XIV_1000  \\\n",
       "0                  6271            2        3.0  18.144460  ...       157   \n",
       "1                  7885            2        5.0  11.387227  ...       115   \n",
       "2                  6028            2        1.0  21.426802  ...       212   \n",
       "3                 18325            0       13.0  11.387227  ...       125   \n",
       "4                  6880            2        0.0  61.306524  ...        47   \n",
       "\n",
       "   XIV_index_1000  XIV_5000  XIV_index_5000  XIV_10000  XIV_index_10000  \\\n",
       "0               1      2483               1       6011                1   \n",
       "1               1     15872               1      32221                1   \n",
       "2               1     15760               1      32228                1   \n",
       "3               1      2568               1       7271                1   \n",
       "4               1      2587               1       7442                1   \n",
       "\n",
       "      XIV_MIN  house_type  parking_price  parking_area  \n",
       "0   34.469803           1       5.730034      4.089024  \n",
       "1   40.073573           1      10.124750      2.740472  \n",
       "2   54.462081           1      10.436944      2.096388  \n",
       "3   99.628966           1      11.303930      4.504494  \n",
       "4  124.131236           0       8.338449      4.196989  \n",
       "\n",
       "[5 rows x 234 columns]"
      ]
     },
     "execution_count": 302,
     "metadata": {},
     "output_type": "execute_result"
    }
   ],
   "source": [
    "park_area_not_null = df[df['parking_area'].notnull()]\n",
    "park_area_is_null = df[df['parking_area'].isnull()].drop(['parking_area'] , axis=1)\n",
    "\n",
    "park_area_X = park_area_not_null.drop(['parking_area'] , axis=1)\n",
    "park_area_Y = park_area_not_null['parking_area']\n",
    "\n",
    "XGBR = xgb.XGBRegressor()\n",
    "XGBR.fit(park_area_X, park_area_Y)\n",
    "\n",
    "park_area_pred = XGBR.predict(park_area_is_null)\n",
    "\n",
    "df.loc[df['parking_area'].isnull(), 'parking_area'] = park_area_pred\n",
    "\n",
    "df.head()"
   ]
  },
  {
   "cell_type": "code",
   "execution_count": 303,
   "metadata": {},
   "outputs": [
    {
     "data": {
      "text/plain": [
       "<matplotlib.collections.PathCollection at 0x7fe72398c240>"
      ]
     },
     "execution_count": 303,
     "metadata": {},
     "output_type": "execute_result"
    },
    {
     "data": {
      "image/png": "[encoded data removed]",
      "text/plain": [
       "<Figure size 432x288 with 1 Axes>"
      ]
     },
     "metadata": {
      "needs_background": "light"
     },
     "output_type": "display_data"
    }
   ],
   "source": [
    "plt.scatter(df[:train_num][\"parking_area\"], train_Y)"
   ]
  },
  {
   "cell_type": "code",
   "execution_count": 304,
   "metadata": {},
   "outputs": [],
   "source": [
    "temp_df = copy.deepcopy(df)"
   ]
  },
  {
   "cell_type": "code",
   "execution_count": 305,
   "metadata": {},
   "outputs": [],
   "source": [
    "temp_df = temp_df.fillna(temp_df.mean())\n",
    "\n",
    "temp_df[\"parking_price\"] = temp_df[\"parking_price\"].clip(0.1, temp_df[\"parking_price\"].max())\n",
    "temp_df[\"parking_area\"] = temp_df[\"parking_area\"].clip(0.1, temp_df[\"parking_area\"].max())\n",
    "\n",
    "temp_df[\"txn_dt\"] = temp_df[\"txn_dt\"]/100\n",
    "temp_df[\"building_complete_dt\"] = temp_df[\"building_complete_dt\"]/100\n",
    "\n",
    "temp_df[\"village_income_median\"] = np.log1p(temp_df[\"village_income_median\"])\n",
    "\n",
    "temp_df[\"town_area\"] = temp_df[\"town_area\"].clip(1, 150)\n",
    "\n",
    "temp_df[\"total_building_area\"] = temp_df[\"building_area\"] * temp_df[\"total_floor\"]\n",
    "temp_df[\"total_income\"] = np.log1p(temp_df[\"village_income_median\"] * temp_df[\"town_population\"])\n",
    "temp_df[\"area_percent\"] = temp_df[\"land_area\"] / temp_df[\"town_area\"]\n",
    "temp_df[\"per_parking_price\"] = np.log1p(np.expm1(temp_df[\"parking_price\"]) / temp_df[\"parking_area\"])\n",
    "\n",
    "temp_df[\"area_diff\"] = temp_df[\"land_area\"] - temp_df[\"building_area\"]\n",
    "temp_df['area_type'] = temp_df['area_diff'].apply(area_type)\n",
    "#temp_df = temp_df.drop(['area_diff'] , axis=1)\n",
    "\n",
    "temp_df = temp_df.fillna(temp_df.mean())\n",
    "\n",
    "train_num = train_Y.shape[0]\n",
    "train_X = temp_df[:train_num]\n",
    "test_X = temp_df[train_num:]"
   ]
  },
  {
   "cell_type": "code",
   "execution_count": 306,
   "metadata": {},
   "outputs": [],
   "source": [
    "temp_df = temp_df.drop(['doc_rate', 'master_rate', 'jobschool_rate', 'highschool_rate'] , axis=1)\n",
    "temp_df = temp_df.drop(['XIII_5000'] , axis=1)\n",
    "\n",
    "temp_df = temp_df.drop(['town'] , axis=1)\n",
    "temp_df = temp_df.drop(['village'] , axis=1)"
   ]
  },
  {
   "cell_type": "code",
   "execution_count": 307,
   "metadata": {},
   "outputs": [],
   "source": [
    "data = pd.concat([temp_df[:train_num], train_Y], axis=1)\n",
    "test_data = temp_df[train_num:]\n",
    "\n",
    "temp_df[\"txn_floor\"] = temp_df[\"txn_floor\"].astype('int')\n",
    "\n",
    "cols = [\"city\", \"building_type\", \"building_use\", \"total_floor\", \"txn_floor\"]\n",
    "\n",
    "for c in cols:\n",
    "    \n",
    "    mean_df = data.groupby([c])['total_price'].mean().reset_index()\n",
    "    mean_df.columns = [c, f'{c}_mean']\n",
    "    \n",
    "    data = pd.merge(data, mean_df, on= c, how='left')\n",
    "    data = data.drop([c] , axis=1)\n",
    "    \n",
    "    test_data = pd.merge(test_data, mean_df, on= c, how='left')   \n",
    "    test_data = test_data.drop([c] , axis=1)\n",
    "    \n",
    "data = data.drop(['total_price'] , axis=1)"
   ]
  },
  {
   "cell_type": "code",
   "execution_count": 308,
   "metadata": {},
   "outputs": [
    {
     "data": {
      "text/html": [
       "<div>\n",
       "<style scoped>\n",
       "    .dataframe tbody tr th:only-of-type {\n",
       "        vertical-align: middle;\n",
       "    }\n",
       "\n",
       "    .dataframe tbody tr th {\n",
       "        vertical-align: top;\n",
       "    }\n",
       "\n",
       "    .dataframe thead th {\n",
       "        text-align: right;\n",
       "    }\n",
       "</style>\n",
       "<table border=\"1\" class=\"dataframe\">\n",
       "  <thead>\n",
       "    <tr style=\"text-align: right;\">\n",
       "      <th></th>\n",
       "      <th>building_material</th>\n",
       "      <th>txn_dt</th>\n",
       "      <th>building_complete_dt</th>\n",
       "      <th>parking_way</th>\n",
       "      <th>land_area</th>\n",
       "      <th>building_area</th>\n",
       "      <th>lat</th>\n",
       "      <th>lon</th>\n",
       "      <th>village_income_median</th>\n",
       "      <th>town_population</th>\n",
       "      <th>...</th>\n",
       "      <th>total_income</th>\n",
       "      <th>area_percent</th>\n",
       "      <th>per_parking_price</th>\n",
       "      <th>area_diff</th>\n",
       "      <th>area_type</th>\n",
       "      <th>city_mean</th>\n",
       "      <th>building_type_mean</th>\n",
       "      <th>building_use_mean</th>\n",
       "      <th>total_floor_mean</th>\n",
       "      <th>txn_floor_mean</th>\n",
       "    </tr>\n",
       "  </thead>\n",
       "  <tbody>\n",
       "    <tr>\n",
       "      <th>0</th>\n",
       "      <td>8</td>\n",
       "      <td>186.74</td>\n",
       "      <td>62.71</td>\n",
       "      <td>2</td>\n",
       "      <td>18.144460</td>\n",
       "      <td>3.418175</td>\n",
       "      <td>-39.14</td>\n",
       "      <td>117.08</td>\n",
       "      <td>6.350886</td>\n",
       "      <td>24219.0</td>\n",
       "      <td>...</td>\n",
       "      <td>11.943494</td>\n",
       "      <td>12.812980</td>\n",
       "      <td>4.331708</td>\n",
       "      <td>14.726285</td>\n",
       "      <td>1</td>\n",
       "      <td>14.761401</td>\n",
       "      <td>15.617864</td>\n",
       "      <td>15.49522</td>\n",
       "      <td>15.607523</td>\n",
       "      <td>15.427335</td>\n",
       "    </tr>\n",
       "    <tr>\n",
       "      <th>1</th>\n",
       "      <td>8</td>\n",
       "      <td>188.00</td>\n",
       "      <td>78.85</td>\n",
       "      <td>2</td>\n",
       "      <td>11.387227</td>\n",
       "      <td>4.041309</td>\n",
       "      <td>-37.66</td>\n",
       "      <td>119.28</td>\n",
       "      <td>6.311735</td>\n",
       "      <td>551480.0</td>\n",
       "      <td>...</td>\n",
       "      <td>15.062772</td>\n",
       "      <td>0.492159</td>\n",
       "      <td>9.116689</td>\n",
       "      <td>7.345919</td>\n",
       "      <td>1</td>\n",
       "      <td>15.732706</td>\n",
       "      <td>15.368477</td>\n",
       "      <td>15.49522</td>\n",
       "      <td>15.398017</td>\n",
       "      <td>15.359153</td>\n",
       "    </tr>\n",
       "    <tr>\n",
       "      <th>2</th>\n",
       "      <td>8</td>\n",
       "      <td>192.89</td>\n",
       "      <td>60.28</td>\n",
       "      <td>2</td>\n",
       "      <td>21.426802</td>\n",
       "      <td>5.584279</td>\n",
       "      <td>-37.67</td>\n",
       "      <td>119.29</td>\n",
       "      <td>6.439350</td>\n",
       "      <td>551480.0</td>\n",
       "      <td>...</td>\n",
       "      <td>15.082789</td>\n",
       "      <td>0.926072</td>\n",
       "      <td>9.696761</td>\n",
       "      <td>15.842523</td>\n",
       "      <td>1</td>\n",
       "      <td>15.732706</td>\n",
       "      <td>15.368477</td>\n",
       "      <td>15.49522</td>\n",
       "      <td>15.607523</td>\n",
       "      <td>15.784832</td>\n",
       "    </tr>\n",
       "    <tr>\n",
       "      <th>3</th>\n",
       "      <td>8</td>\n",
       "      <td>203.85</td>\n",
       "      <td>183.25</td>\n",
       "      <td>0</td>\n",
       "      <td>11.387227</td>\n",
       "      <td>13.563031</td>\n",
       "      <td>-39.13</td>\n",
       "      <td>117.09</td>\n",
       "      <td>6.857514</td>\n",
       "      <td>139259.0</td>\n",
       "      <td>...</td>\n",
       "      <td>13.769437</td>\n",
       "      <td>0.771895</td>\n",
       "      <td>9.798898</td>\n",
       "      <td>-2.175803</td>\n",
       "      <td>0</td>\n",
       "      <td>14.761401</td>\n",
       "      <td>15.837045</td>\n",
       "      <td>15.49522</td>\n",
       "      <td>16.127585</td>\n",
       "      <td>15.832799</td>\n",
       "    </tr>\n",
       "    <tr>\n",
       "      <th>4</th>\n",
       "      <td>1</td>\n",
       "      <td>206.57</td>\n",
       "      <td>68.80</td>\n",
       "      <td>2</td>\n",
       "      <td>61.306524</td>\n",
       "      <td>4.688108</td>\n",
       "      <td>-39.24</td>\n",
       "      <td>117.19</td>\n",
       "      <td>6.285998</td>\n",
       "      <td>112397.0</td>\n",
       "      <td>...</td>\n",
       "      <td>13.468119</td>\n",
       "      <td>0.862986</td>\n",
       "      <td>6.904846</td>\n",
       "      <td>56.618416</td>\n",
       "      <td>1</td>\n",
       "      <td>14.761401</td>\n",
       "      <td>15.426263</td>\n",
       "      <td>15.49522</td>\n",
       "      <td>14.951800</td>\n",
       "      <td>15.426263</td>\n",
       "    </tr>\n",
       "  </tbody>\n",
       "</table>\n",
       "<p>5 rows × 233 columns</p>\n",
       "</div>"
      ],
      "text/plain": [
       "   building_material  txn_dt  building_complete_dt  parking_way  land_area  \\\n",
       "0                  8  186.74                 62.71            2  18.144460   \n",
       "1                  8  188.00                 78.85            2  11.387227   \n",
       "2                  8  192.89                 60.28            2  21.426802   \n",
       "3                  8  203.85                183.25            0  11.387227   \n",
       "4                  1  206.57                 68.80            2  61.306524   \n",
       "\n",
       "   building_area    lat     lon  village_income_median  town_population  ...  \\\n",
       "0       3.418175 -39.14  117.08               6.350886          24219.0  ...   \n",
       "1       4.041309 -37.66  119.28               6.311735         551480.0  ...   \n",
       "2       5.584279 -37.67  119.29               6.439350         551480.0  ...   \n",
       "3      13.563031 -39.13  117.09               6.857514         139259.0  ...   \n",
       "4       4.688108 -39.24  117.19               6.285998         112397.0  ...   \n",
       "\n",
       "   total_income  area_percent  per_parking_price  area_diff  area_type  \\\n",
       "0     11.943494     12.812980           4.331708  14.726285          1   \n",
       "1     15.062772      0.492159           9.116689   7.345919          1   \n",
       "2     15.082789      0.926072           9.696761  15.842523          1   \n",
       "3     13.769437      0.771895           9.798898  -2.175803          0   \n",
       "4     13.468119      0.862986           6.904846  56.618416          1   \n",
       "\n",
       "   city_mean  building_type_mean  building_use_mean  total_floor_mean  \\\n",
       "0  14.761401           15.617864           15.49522         15.607523   \n",
       "1  15.732706           15.368477           15.49522         15.398017   \n",
       "2  15.732706           15.368477           15.49522         15.607523   \n",
       "3  14.761401           15.837045           15.49522         16.127585   \n",
       "4  14.761401           15.426263           15.49522         14.951800   \n",
       "\n",
       "   txn_floor_mean  \n",
       "0       15.427335  \n",
       "1       15.359153  \n",
       "2       15.784832  \n",
       "3       15.832799  \n",
       "4       15.426263  \n",
       "\n",
       "[5 rows x 233 columns]"
      ]
     },
     "execution_count": 308,
     "metadata": {},
     "output_type": "execute_result"
    }
   ],
   "source": [
    "temp_df = pd.concat([data,test_data])\n",
    "temp_df.head()"
   ]
  },
  {
   "cell_type": "code",
   "execution_count": 309,
   "metadata": {},
   "outputs": [],
   "source": [
    "train_num = train_Y.shape[0]\n",
    "train_X = temp_df[:train_num]\n",
    "test_X = temp_df[train_num:]"
   ]
  },
  {
   "cell_type": "code",
   "execution_count": 155,
   "metadata": {},
   "outputs": [],
   "source": [
    "estimator = xgb.XGBRegressor()\n",
    "estimator.fit(train_X, train_Y)\n",
    "feats = pd.Series(data=estimator.feature_importances_, index=train_X.columns)\n",
    "feats = feats.sort_values(ascending=False)"
   ]
  },
  {
   "cell_type": "code",
   "execution_count": 310,
   "metadata": {},
   "outputs": [
    {
     "name": "stderr",
     "output_type": "stream",
     "text": [
      "/home/rex/anaconda3/lib/python3.7/site-packages/sklearn/ensemble/forest.py:246: FutureWarning: The default value of n_estimators will change from 10 in version 0.20 to 100 in 0.22.\n",
      "  \"10 in version 0.20 to 100 in 0.22.\", FutureWarning)\n"
     ]
    }
   ],
   "source": [
    "est = RandomForestRegressor()\n",
    "est.fit(train_X, train_Y)\n",
    "feats_est = pd.Series(data=est.feature_importances_, index=train_X.columns)\n",
    "feats_est = feats_est.sort_values(ascending=False)"
   ]
  },
  {
   "cell_type": "code",
   "execution_count": 321,
   "metadata": {},
   "outputs": [],
   "source": [
    "index_features = []\n",
    "\n",
    "for f in feats_est[feats_est!=0].index:\n",
    "    if (\"index\" in f) and (\"50\" in f) and (\"500\" not in f):\n",
    "        index_features.append(f)"
   ]
  },
  {
   "cell_type": "code",
   "execution_count": 200,
   "metadata": {},
   "outputs": [],
   "source": [
    "high_feature = list(set(feats[feats!=0].index)&set(feats_est[feats_est!=0].index))"
   ]
  },
  {
   "cell_type": "code",
   "execution_count": 322,
   "metadata": {},
   "outputs": [],
   "source": [
    "high_feature = list(feats_est[feats_est!=0].index)"
   ]
  },
  {
   "cell_type": "code",
   "execution_count": 323,
   "metadata": {},
   "outputs": [
    {
     "data": {
      "text/plain": [
       "['building_area',\n",
       " 'parking_price',\n",
       " 'XIII_10000',\n",
       " 'building_complete_dt',\n",
       " 'land_area',\n",
       " 'txn_dt',\n",
       " 'area_diff',\n",
       " 'V_10000',\n",
       " 'total_building_area',\n",
       " 'city_mean',\n",
       " 'village_income_median',\n",
       " 'X_5000',\n",
       " 'bachelor_rate',\n",
       " 'lon',\n",
       " 'divorce_rate',\n",
       " 'VII_1000',\n",
       " 'area_percent',\n",
       " 'txn_floor_mean',\n",
       " 'building_type_mean',\n",
       " 'VII_5000',\n",
       " 'elementary_rate',\n",
       " 'junior_rate',\n",
       " 'II_5000',\n",
       " 'VII_10000',\n",
       " 'per_parking_price',\n",
       " 'house_type',\n",
       " 'VII_500',\n",
       " 'XII_5000',\n",
       " 'lat',\n",
       " 'IX_10000',\n",
       " 'VI_10000',\n",
       " 'total_income',\n",
       " 'XIV_10000',\n",
       " 'parking_area',\n",
       " 'XII_1000',\n",
       " 'XI_1000',\n",
       " 'XIV_5000',\n",
       " 'IX_1000',\n",
       " 'X_1000',\n",
       " 'I_10000',\n",
       " 'death_rate',\n",
       " 'V_5000',\n",
       " 'II_1000',\n",
       " 'V_500',\n",
       " 'VIII_500',\n",
       " 'VI_5000',\n",
       " 'IV_MIN',\n",
       " 'X_MIN',\n",
       " 'XII_10000',\n",
       " 'IX_MIN',\n",
       " 'XI_10000',\n",
       " 'XII_500',\n",
       " 'XI_5000',\n",
       " 'XII_MIN',\n",
       " 'XIV_1000',\n",
       " 'XI_MIN',\n",
       " 'parking_way',\n",
       " 'VIII_MIN',\n",
       " 'VIII_1000',\n",
       " 'VI_MIN',\n",
       " 'III_MIN',\n",
       " 'XIV_MIN',\n",
       " 'I_MIN',\n",
       " 'VII_MIN',\n",
       " 'town_population_density',\n",
       " 'XIII_MIN',\n",
       " 'IV_10000',\n",
       " 'I_5000',\n",
       " 'IX_5000',\n",
       " 'XIV_500',\n",
       " 'II_MIN',\n",
       " 'total_floor_mean',\n",
       " 'V_1000',\n",
       " 'III_1000',\n",
       " 'V_MIN',\n",
       " 'II_500',\n",
       " 'VII_250',\n",
       " 'X_10000',\n",
       " 'III_500',\n",
       " 'town_area',\n",
       " 'XII_250',\n",
       " 'IX_500',\n",
       " 'VIII_250',\n",
       " 'X_500',\n",
       " 'XIV_250',\n",
       " 'IV_5000',\n",
       " 'XIII_1000',\n",
       " 'I_1000',\n",
       " 'III_5000',\n",
       " 'marriage_rate',\n",
       " 'VIII_5000',\n",
       " 'II_10000',\n",
       " 'III_10000',\n",
       " 'town_population',\n",
       " 'IV_1000',\n",
       " 'born_rate',\n",
       " 'XII_100',\n",
       " 'XI_500',\n",
       " 'III_250',\n",
       " 'VI_1000',\n",
       " 'II_250',\n",
       " 'VIII_10000',\n",
       " 'IX_250',\n",
       " 'XIII_500',\n",
       " 'I_500',\n",
       " 'VII_100',\n",
       " 'V_250',\n",
       " 'XI_250',\n",
       " 'X_250',\n",
       " 'VIII_100',\n",
       " 'XIV_100',\n",
       " 'building_use_mean',\n",
       " 'N_50',\n",
       " 'III_100',\n",
       " 'V_100',\n",
       " 'IV_500',\n",
       " 'XII_50',\n",
       " 'XIII_250',\n",
       " 'I_250',\n",
       " 'X_100',\n",
       " 'VII_50',\n",
       " 'N_500',\n",
       " 'VI_500',\n",
       " 'II_100',\n",
       " 'building_material',\n",
       " 'IX_100',\n",
       " 'N_1000',\n",
       " 'VIII_50',\n",
       " 'V_50',\n",
       " 'XI_100',\n",
       " 'XIV_50',\n",
       " 'IV_250',\n",
       " 'III_50',\n",
       " 'IX_50',\n",
       " 'VI_250',\n",
       " 'II_50',\n",
       " 'XIII_100',\n",
       " 'I_100',\n",
       " 'XII_10',\n",
       " 'II_index_50',\n",
       " 'X_50',\n",
       " 'VII_index_50',\n",
       " 'XIV_10',\n",
       " 'VIII_10',\n",
       " 'XIII_10',\n",
       " 'IV_100',\n",
       " 'V_index_50',\n",
       " 'IV_50',\n",
       " 'XIV_index_50',\n",
       " 'XI_50',\n",
       " 'X_index_50',\n",
       " 'VII_10',\n",
       " 'VI_100',\n",
       " 'XII_index_50',\n",
       " 'VIII_index_500',\n",
       " 'IX_index_50',\n",
       " 'IV_index_500',\n",
       " 'IV_index_1000',\n",
       " 'VI_index_1000',\n",
       " 'VIII_index_50',\n",
       " 'VI_index_500',\n",
       " 'III_index_50',\n",
       " 'XIII_index_500',\n",
       " 'III_10',\n",
       " 'I_50',\n",
       " 'XI_index_50',\n",
       " 'XIII_50',\n",
       " 'III_index_500',\n",
       " 'V_10',\n",
       " 'XIII_index_50',\n",
       " 'X_index_500',\n",
       " 'IX_10',\n",
       " 'XI_10',\n",
       " 'XI_index_500',\n",
       " 'I_index_500',\n",
       " 'IV_10',\n",
       " 'area_type',\n",
       " 'XIII_index_1000',\n",
       " 'XI_index_1000',\n",
       " 'XII_index_500',\n",
       " 'I_index_50',\n",
       " 'II_index_500',\n",
       " 'II_10',\n",
       " 'IX_index_500',\n",
       " 'X_index_1000',\n",
       " 'I_10',\n",
       " 'N_5000',\n",
       " 'V_index_500',\n",
       " 'IV_index_50',\n",
       " 'I_index_1000',\n",
       " 'III_index_1000',\n",
       " 'XI_index_5000',\n",
       " 'VI_index_50',\n",
       " 'II_index_1000',\n",
       " 'XIV_index_500',\n",
       " 'VII_index_500',\n",
       " 'V_index_1000',\n",
       " 'IX_index_1000',\n",
       " 'X_10',\n",
       " 'VIII_index_1000',\n",
       " 'VI_50',\n",
       " 'XIII_index_5000',\n",
       " 'VII_index_1000',\n",
       " 'N_10000',\n",
       " 'XIII_index_10000',\n",
       " 'VI_10',\n",
       " 'IV_index_5000']"
      ]
     },
     "execution_count": 323,
     "metadata": {},
     "output_type": "execute_result"
    }
   ],
   "source": [
    "high_feature"
   ]
  },
  {
   "cell_type": "code",
   "execution_count": 313,
   "metadata": {},
   "outputs": [],
   "source": [
    "head = [\"II\", \"III\", \"IX\", \"N\"]\n",
    "remove = []\n",
    "\n",
    "for f in high_feature:\n",
    "    #if (\"0\" in f) and (f.split(\"_\")[1] != \"10000\") and (f.split(\"_\")[0] not in head):\n",
    "    if (\"0\" in f) and (f.split(\"_\")[1] != \"10000\"):\n",
    "        remove.append(f)\n",
    "        \n",
    "for f in remove:\n",
    "    high_feature.remove(f)"
   ]
  },
  {
   "cell_type": "code",
   "execution_count": 314,
   "metadata": {},
   "outputs": [],
   "source": [
    "for f in high_feature:\n",
    "    if \"index\" in f:\n",
    "        high_feature.remove(f)"
   ]
  },
  {
   "cell_type": "code",
   "execution_count": 315,
   "metadata": {},
   "outputs": [],
   "source": [
    "high_feature = high_feature + index_features"
   ]
  },
  {
   "cell_type": "code",
   "execution_count": 316,
   "metadata": {},
   "outputs": [
    {
     "data": {
      "text/plain": [
       "['building_area',\n",
       " 'parking_price',\n",
       " 'XIII_10000',\n",
       " 'building_complete_dt',\n",
       " 'land_area',\n",
       " 'txn_dt',\n",
       " 'area_diff',\n",
       " 'V_10000',\n",
       " 'total_building_area',\n",
       " 'city_mean',\n",
       " 'village_income_median',\n",
       " 'bachelor_rate',\n",
       " 'lon',\n",
       " 'divorce_rate',\n",
       " 'area_percent',\n",
       " 'txn_floor_mean',\n",
       " 'building_type_mean',\n",
       " 'elementary_rate',\n",
       " 'junior_rate',\n",
       " 'VII_10000',\n",
       " 'per_parking_price',\n",
       " 'house_type',\n",
       " 'lat',\n",
       " 'IX_10000',\n",
       " 'VI_10000',\n",
       " 'total_income',\n",
       " 'XIV_10000',\n",
       " 'parking_area',\n",
       " 'I_10000',\n",
       " 'death_rate',\n",
       " 'IV_MIN',\n",
       " 'X_MIN',\n",
       " 'XII_10000',\n",
       " 'IX_MIN',\n",
       " 'XI_10000',\n",
       " 'XII_MIN',\n",
       " 'XI_MIN',\n",
       " 'parking_way',\n",
       " 'VIII_MIN',\n",
       " 'VI_MIN',\n",
       " 'III_MIN',\n",
       " 'XIV_MIN',\n",
       " 'I_MIN',\n",
       " 'VII_MIN',\n",
       " 'town_population_density',\n",
       " 'XIII_MIN',\n",
       " 'IV_10000',\n",
       " 'II_MIN',\n",
       " 'total_floor_mean',\n",
       " 'V_MIN',\n",
       " 'X_10000',\n",
       " 'town_area',\n",
       " 'marriage_rate',\n",
       " 'II_10000',\n",
       " 'III_10000',\n",
       " 'town_population',\n",
       " 'born_rate',\n",
       " 'VIII_10000',\n",
       " 'building_use_mean',\n",
       " 'building_material',\n",
       " 'area_type',\n",
       " 'N_10000',\n",
       " 'II_index_50',\n",
       " 'VII_index_50',\n",
       " 'V_index_50',\n",
       " 'XIV_index_50',\n",
       " 'X_index_50',\n",
       " 'XII_index_50',\n",
       " 'IX_index_50',\n",
       " 'VIII_index_50',\n",
       " 'III_index_50',\n",
       " 'XI_index_50',\n",
       " 'XIII_index_50',\n",
       " 'I_index_50',\n",
       " 'IV_index_50',\n",
       " 'VI_index_50']"
      ]
     },
     "execution_count": 316,
     "metadata": {},
     "output_type": "execute_result"
    }
   ],
   "source": [
    "high_feature"
   ]
  },
  {
   "cell_type": "code",
   "execution_count": 317,
   "metadata": {},
   "outputs": [],
   "source": [
    "train_X = train_X[high_feature]\n",
    "test_X = test_X[high_feature]"
   ]
  },
  {
   "cell_type": "code",
   "execution_count": 318,
   "metadata": {},
   "outputs": [
    {
     "name": "stderr",
     "output_type": "stream",
     "text": [
      "/home/rex/anaconda3/lib/python3.7/site-packages/sklearn/ensemble/forest.py:246: FutureWarning: The default value of n_estimators will change from 10 in version 0.20 to 100 in 0.22.\n",
      "  \"10 in version 0.20 to 100 in 0.22.\", FutureWarning)\n"
     ]
    },
    {
     "name": "stdout",
     "output_type": "stream",
     "text": [
      "0.9393690899528823\n",
      "Mean squared error: 0.0763\n"
     ]
    }
   ],
   "source": [
    "# 切分訓練集/測試集\n",
    "x_train, x_test, y_train, y_test = train_test_split(train_X, train_Y, test_size=0.25, random_state=4)\n",
    "\n",
    "estimator_ = RandomForestRegressor()\n",
    "estimator_.fit(x_train, y_train)\n",
    "\n",
    "print(cross_val_score(estimator_, x_train, y_train, cv=5).mean())\n",
    "\n",
    "y_pred = estimator_.predict(x_test)\n",
    "print(\"Mean squared error: %.4f\"\n",
    "      % mean_squared_error(y_test, y_pred))"
   ]
  },
  {
   "cell_type": "code",
   "execution_count": 320,
   "metadata": {},
   "outputs": [
    {
     "name": "stderr",
     "output_type": "stream",
     "text": [
      "/home/rex/anaconda3/lib/python3.7/site-packages/sklearn/ensemble/forest.py:246: FutureWarning: The default value of n_estimators will change from 10 in version 0.20 to 100 in 0.22.\n",
      "  \"10 in version 0.20 to 100 in 0.22.\", FutureWarning)\n"
     ]
    }
   ],
   "source": [
    "estimator_ = RandomForestRegressor(random_state=7)\n",
    "estimator_.fit(train_X, train_Y)\n",
    "\n",
    "predict = estimator_.predict(test_X)\n",
    "\n",
    "test_price = np.expm1(predict)\n",
    "\n",
    "submit = pd.DataFrame(ids)\n",
    "submit['total_price'] = test_price\n",
    "submit.to_csv(\"2019-07-04.csv\",index=False)"
   ]
  },
  {
   "cell_type": "code",
   "execution_count": null,
   "metadata": {
    "collapsed": true
   },
   "outputs": [],
   "source": []
  }
 ],
 "metadata": {
  "kernelspec": {
   "display_name": "Python 3",
   "language": "python",
   "name": "python3"
  },
  "language_info": {
   "codemirror_mode": {
    "name": "ipython",
    "version": 3
   },
   "file_extension": ".py",
   "mimetype": "text/x-python",
   "name": "python",
   "nbconvert_exporter": "python",
   "pygments_lexer": "ipython3",
   "version": "3.7.3"
  },
  "varInspector": {
   "cols": {
    "lenName": 16,
    "lenType": 16,
    "lenVar": 40
   },
   "kernels_config": {
    "python": {
     "delete_cmd_postfix": "",
     "delete_cmd_prefix": "del ",
     "library": "var_list.py",
     "varRefreshCmd": "print(var_dic_list())"
    },
    "r": {
     "delete_cmd_postfix": ") ",
     "delete_cmd_prefix": "rm(",
     "library": "var_list.r",
     "varRefreshCmd": "cat(var_dic_list()) "
    }
   },
   "types_to_exclude": [
    "module",
    "function",
    "builtin_function_or_method",
    "instance",
    "_Feature"
   ],
   "window_display": false
  }
 },
 "nbformat": 4,
 "nbformat_minor": 2
}
