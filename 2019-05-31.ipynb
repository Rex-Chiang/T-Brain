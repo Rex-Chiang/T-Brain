{
 "cells": [
  {
   "cell_type": "code",
   "execution_count": 1,
   "metadata": {},
   "outputs": [],
   "source": [
    "# 載入需要的套件\n",
    "import os\n",
    "import numpy as np \n",
    "import pandas as pd\n",
    "import copy\n",
    "import seaborn as sns\n",
    "from sklearn.preprocessing import MinMaxScaler, MaxAbsScaler, StandardScaler\n",
    "from sklearn.model_selection import cross_val_score\n",
    "from sklearn.linear_model import LinearRegression\n",
    "from sklearn.ensemble import GradientBoostingRegressor, RandomForestRegressor, BaggingRegressor\n",
    "from sklearn.preprocessing import LabelEncoder\n",
    "import matplotlib.pyplot as plt\n",
    "%matplotlib inline"
   ]
  },
  {
   "cell_type": "code",
   "execution_count": 2,
   "metadata": {},
   "outputs": [],
   "source": [
    "# 設定 data_path\n",
    "dir_data = './data/'\n",
    "Train = os.path.join(dir_data, 'train.csv')\n",
    "Test = os.path.join(dir_data, 'test.csv')\n",
    "\n",
    "# 讀取檔案\n",
    "Train_data = pd.read_csv(Train)\n",
    "Test_data = pd.read_csv(Test)"
   ]
  },
  {
   "cell_type": "code",
   "execution_count": 3,
   "metadata": {},
   "outputs": [
    {
     "data": {
      "text/html": [
       "<div>\n",
       "<style scoped>\n",
       "    .dataframe tbody tr th:only-of-type {\n",
       "        vertical-align: middle;\n",
       "    }\n",
       "\n",
       "    .dataframe tbody tr th {\n",
       "        vertical-align: top;\n",
       "    }\n",
       "\n",
       "    .dataframe thead th {\n",
       "        text-align: right;\n",
       "    }\n",
       "</style>\n",
       "<table border=\"1\" class=\"dataframe\">\n",
       "  <thead>\n",
       "    <tr style=\"text-align: right;\">\n",
       "      <th></th>\n",
       "      <th>building_material</th>\n",
       "      <th>city</th>\n",
       "      <th>txn_dt</th>\n",
       "      <th>total_floor</th>\n",
       "      <th>building_type</th>\n",
       "      <th>building_use</th>\n",
       "      <th>building_complete_dt</th>\n",
       "      <th>parking_way</th>\n",
       "      <th>parking_area</th>\n",
       "      <th>parking_price</th>\n",
       "      <th>...</th>\n",
       "      <th>XIV_250</th>\n",
       "      <th>XIV_500</th>\n",
       "      <th>XIV_index_500</th>\n",
       "      <th>XIV_1000</th>\n",
       "      <th>XIV_index_1000</th>\n",
       "      <th>XIV_5000</th>\n",
       "      <th>XIV_index_5000</th>\n",
       "      <th>XIV_10000</th>\n",
       "      <th>XIV_index_10000</th>\n",
       "      <th>XIV_MIN</th>\n",
       "    </tr>\n",
       "  </thead>\n",
       "  <tbody>\n",
       "    <tr>\n",
       "      <th>0</th>\n",
       "      <td>8</td>\n",
       "      <td>21</td>\n",
       "      <td>18674</td>\n",
       "      <td>4</td>\n",
       "      <td>3</td>\n",
       "      <td>2</td>\n",
       "      <td>6271</td>\n",
       "      <td>2</td>\n",
       "      <td>NaN</td>\n",
       "      <td>NaN</td>\n",
       "      <td>...</td>\n",
       "      <td>21</td>\n",
       "      <td>58</td>\n",
       "      <td>1</td>\n",
       "      <td>157</td>\n",
       "      <td>1</td>\n",
       "      <td>2483</td>\n",
       "      <td>1</td>\n",
       "      <td>6011</td>\n",
       "      <td>1</td>\n",
       "      <td>34.469803</td>\n",
       "    </tr>\n",
       "    <tr>\n",
       "      <th>1</th>\n",
       "      <td>8</td>\n",
       "      <td>7</td>\n",
       "      <td>18800</td>\n",
       "      <td>5</td>\n",
       "      <td>1</td>\n",
       "      <td>2</td>\n",
       "      <td>7885</td>\n",
       "      <td>2</td>\n",
       "      <td>NaN</td>\n",
       "      <td>NaN</td>\n",
       "      <td>...</td>\n",
       "      <td>7</td>\n",
       "      <td>28</td>\n",
       "      <td>1</td>\n",
       "      <td>115</td>\n",
       "      <td>1</td>\n",
       "      <td>15872</td>\n",
       "      <td>1</td>\n",
       "      <td>32221</td>\n",
       "      <td>1</td>\n",
       "      <td>40.073573</td>\n",
       "    </tr>\n",
       "    <tr>\n",
       "      <th>2</th>\n",
       "      <td>8</td>\n",
       "      <td>7</td>\n",
       "      <td>19289</td>\n",
       "      <td>4</td>\n",
       "      <td>1</td>\n",
       "      <td>2</td>\n",
       "      <td>6028</td>\n",
       "      <td>2</td>\n",
       "      <td>NaN</td>\n",
       "      <td>NaN</td>\n",
       "      <td>...</td>\n",
       "      <td>27</td>\n",
       "      <td>78</td>\n",
       "      <td>1</td>\n",
       "      <td>212</td>\n",
       "      <td>1</td>\n",
       "      <td>15760</td>\n",
       "      <td>1</td>\n",
       "      <td>32228</td>\n",
       "      <td>1</td>\n",
       "      <td>54.462081</td>\n",
       "    </tr>\n",
       "    <tr>\n",
       "      <th>3</th>\n",
       "      <td>8</td>\n",
       "      <td>21</td>\n",
       "      <td>20385</td>\n",
       "      <td>24</td>\n",
       "      <td>0</td>\n",
       "      <td>2</td>\n",
       "      <td>18325</td>\n",
       "      <td>0</td>\n",
       "      <td>NaN</td>\n",
       "      <td>81138.889762</td>\n",
       "      <td>...</td>\n",
       "      <td>2</td>\n",
       "      <td>20</td>\n",
       "      <td>1</td>\n",
       "      <td>125</td>\n",
       "      <td>1</td>\n",
       "      <td>2568</td>\n",
       "      <td>1</td>\n",
       "      <td>7271</td>\n",
       "      <td>1</td>\n",
       "      <td>99.628966</td>\n",
       "    </tr>\n",
       "    <tr>\n",
       "      <th>4</th>\n",
       "      <td>1</td>\n",
       "      <td>21</td>\n",
       "      <td>20657</td>\n",
       "      <td>2</td>\n",
       "      <td>4</td>\n",
       "      <td>2</td>\n",
       "      <td>6880</td>\n",
       "      <td>2</td>\n",
       "      <td>NaN</td>\n",
       "      <td>NaN</td>\n",
       "      <td>...</td>\n",
       "      <td>2</td>\n",
       "      <td>18</td>\n",
       "      <td>1</td>\n",
       "      <td>47</td>\n",
       "      <td>1</td>\n",
       "      <td>2587</td>\n",
       "      <td>1</td>\n",
       "      <td>7442</td>\n",
       "      <td>1</td>\n",
       "      <td>124.131236</td>\n",
       "    </tr>\n",
       "  </tbody>\n",
       "</table>\n",
       "<p>5 rows × 233 columns</p>\n",
       "</div>"
      ],
      "text/plain": [
       "   building_material  city  txn_dt  total_floor  building_type  building_use  \\\n",
       "0                  8    21   18674            4              3             2   \n",
       "1                  8     7   18800            5              1             2   \n",
       "2                  8     7   19289            4              1             2   \n",
       "3                  8    21   20385           24              0             2   \n",
       "4                  1    21   20657            2              4             2   \n",
       "\n",
       "   building_complete_dt  parking_way  parking_area  parking_price     ...      \\\n",
       "0                  6271            2           NaN            NaN     ...       \n",
       "1                  7885            2           NaN            NaN     ...       \n",
       "2                  6028            2           NaN            NaN     ...       \n",
       "3                 18325            0           NaN   81138.889762     ...       \n",
       "4                  6880            2           NaN            NaN     ...       \n",
       "\n",
       "   XIV_250  XIV_500  XIV_index_500  XIV_1000  XIV_index_1000  XIV_5000  \\\n",
       "0       21       58              1       157               1      2483   \n",
       "1        7       28              1       115               1     15872   \n",
       "2       27       78              1       212               1     15760   \n",
       "3        2       20              1       125               1      2568   \n",
       "4        2       18              1        47               1      2587   \n",
       "\n",
       "   XIV_index_5000  XIV_10000  XIV_index_10000     XIV_MIN  \n",
       "0               1       6011                1   34.469803  \n",
       "1               1      32221                1   40.073573  \n",
       "2               1      32228                1   54.462081  \n",
       "3               1       7271                1   99.628966  \n",
       "4               1       7442                1  124.131236  \n",
       "\n",
       "[5 rows x 233 columns]"
      ]
     },
     "execution_count": 3,
     "metadata": {},
     "output_type": "execute_result"
    }
   ],
   "source": [
    "train_Y = np.log1p(Train_data['total_price'])\n",
    "ids = Test_data['building_id']\n",
    "\n",
    "tp = copy.deepcopy(np.log1p(Train_data['total_price']))\n",
    "\n",
    "Train_data = Train_data.drop(['building_id', 'total_price'] , axis=1)\n",
    "Test_data = Test_data.drop(['building_id'] , axis=1)\n",
    "\n",
    "df = pd.concat([Train_data,Test_data])\n",
    "df.head()"
   ]
  },
  {
   "cell_type": "code",
   "execution_count": 4,
   "metadata": {},
   "outputs": [],
   "source": [
    "df = df.fillna(df.mean())\n",
    "train_num = train_Y.shape[0]\n",
    "train_X = df[:train_num]\n",
    "test_X = df[train_num:]"
   ]
  },
  {
   "cell_type": "code",
   "execution_count": 5,
   "metadata": {},
   "outputs": [
    {
     "data": {
      "text/plain": [
       "building_area            4.917167e-01\n",
       "XIII_10000               2.306228e-01\n",
       "building_complete_dt     2.730216e-02\n",
       "land_area                2.107373e-02\n",
       "jobschool_rate           2.029163e-02\n",
       "elementary_rate          1.480585e-02\n",
       "junior_rate              1.397445e-02\n",
       "txn_dt                   1.151142e-02\n",
       "XIII_5000                1.071521e-02\n",
       "V_10000                  1.019834e-02\n",
       "village_income_median    8.576955e-03\n",
       "VII_1000                 5.880789e-03\n",
       "marriage_rate            5.328903e-03\n",
       "txn_floor                4.675455e-03\n",
       "highschool_rate          4.605363e-03\n",
       "V_5000                   3.464196e-03\n",
       "XIV_5000                 3.383985e-03\n",
       "II_5000                  3.103298e-03\n",
       "lat                      3.060009e-03\n",
       "II_1000                  2.908440e-03\n",
       "total_floor              2.811217e-03\n",
       "XII_1000                 2.762140e-03\n",
       "parking_price            2.523695e-03\n",
       "divorce_rate             2.414652e-03\n",
       "X_5000                   2.395842e-03\n",
       "VII_5000                 2.351098e-03\n",
       "VII_500                  2.289960e-03\n",
       "building_type            2.274529e-03\n",
       "XII_500                  2.085053e-03\n",
       "death_rate               2.028709e-03\n",
       "                             ...     \n",
       "V_index_1000             7.508840e-07\n",
       "XIV_index_1000           7.200753e-07\n",
       "VII_index_500            3.309841e-07\n",
       "XIII_index_10000         3.225223e-07\n",
       "IV_index_5000            5.837374e-08\n",
       "XI_index_5000            1.352959e-08\n",
       "X_index_5000             0.000000e+00\n",
       "VII_index_10000          0.000000e+00\n",
       "II_index_10000           0.000000e+00\n",
       "VIII_index_5000          0.000000e+00\n",
       "VIII_index_10000         0.000000e+00\n",
       "XIV_index_5000           0.000000e+00\n",
       "IX_index_10000           0.000000e+00\n",
       "IX_index_5000            0.000000e+00\n",
       "VI_index_5000            0.000000e+00\n",
       "X_index_10000            0.000000e+00\n",
       "VII_index_5000           0.000000e+00\n",
       "VI_index_10000           0.000000e+00\n",
       "III_index_5000           0.000000e+00\n",
       "XIV_index_10000          0.000000e+00\n",
       "I_index_10000            0.000000e+00\n",
       "V_index_10000            0.000000e+00\n",
       "V_index_5000             0.000000e+00\n",
       "XII_index_10000          0.000000e+00\n",
       "XII_index_5000           0.000000e+00\n",
       "II_index_5000            0.000000e+00\n",
       "IV_index_10000           0.000000e+00\n",
       "XI_index_10000           0.000000e+00\n",
       "III_index_10000          0.000000e+00\n",
       "I_index_5000             0.000000e+00\n",
       "Length: 233, dtype: float64"
      ]
     },
     "execution_count": 5,
     "metadata": {},
     "output_type": "execute_result"
    }
   ],
   "source": [
    "estimator = RandomForestRegressor()\n",
    "estimator.fit(train_X, train_Y)\n",
    "feats = pd.Series(data=estimator.feature_importances_, index=df.columns)\n",
    "feats = feats.sort_values(ascending=False)\n",
    "feats"
   ]
  },
  {
   "cell_type": "code",
   "execution_count": 7,
   "metadata": {},
   "outputs": [
    {
     "data": {
      "text/plain": [
       "building_area            0.491717\n",
       "XIII_10000               0.230623\n",
       "building_complete_dt     0.027302\n",
       "land_area                0.021074\n",
       "jobschool_rate           0.020292\n",
       "elementary_rate          0.014806\n",
       "junior_rate              0.013974\n",
       "txn_dt                   0.011511\n",
       "XIII_5000                0.010715\n",
       "V_10000                  0.010198\n",
       "village_income_median    0.008577\n",
       "VII_1000                 0.005881\n",
       "marriage_rate            0.005329\n",
       "txn_floor                0.004675\n",
       "highschool_rate          0.004605\n",
       "V_5000                   0.003464\n",
       "XIV_5000                 0.003384\n",
       "II_5000                  0.003103\n",
       "lat                      0.003060\n",
       "II_1000                  0.002908\n",
       "total_floor              0.002811\n",
       "XII_1000                 0.002762\n",
       "parking_price            0.002524\n",
       "divorce_rate             0.002415\n",
       "X_5000                   0.002396\n",
       "VII_5000                 0.002351\n",
       "VII_500                  0.002290\n",
       "building_type            0.002275\n",
       "XII_500                  0.002085\n",
       "death_rate               0.002029\n",
       "lon                      0.001935\n",
       "XI_1000                  0.001815\n",
       "IX_1000                  0.001788\n",
       "VI_5000                  0.001688\n",
       "XIV_10000                0.001680\n",
       "IX_5000                  0.001602\n",
       "town_population          0.001582\n",
       "dtype: float64"
      ]
     },
     "execution_count": 7,
     "metadata": {},
     "output_type": "execute_result"
    }
   ],
   "source": [
    "feats.head(37)"
   ]
  },
  {
   "cell_type": "code",
   "execution_count": 18,
   "metadata": {},
   "outputs": [
    {
     "data": {
      "text/plain": [
       "0.946078274922838"
      ]
     },
     "execution_count": 18,
     "metadata": {},
     "output_type": "execute_result"
    }
   ],
   "source": [
    "cross_val_score(estimator, train_X, train_Y, cv=5).mean()"
   ]
  },
  {
   "cell_type": "code",
   "execution_count": 53,
   "metadata": {},
   "outputs": [
    {
     "data": {
      "text/plain": [
       "0.9492400844012309"
      ]
     },
     "execution_count": 53,
     "metadata": {},
     "output_type": "execute_result"
    }
   ],
   "source": [
    "# 高重要性特徵，經測試取前37個效果為最佳\n",
    "high_feature = list(feats[:37].index)\n",
    "train_X_ = train_X[high_feature]\n",
    "cross_val_score(estimator, train_X_, train_Y, cv=5).mean()"
   ]
  },
  {
   "cell_type": "code",
   "execution_count": 68,
   "metadata": {},
   "outputs": [],
   "source": [
    "high_feature = list(feats[:37].index)\n",
    "estimator_ = RandomForestRegressor(max_depth=20)\n",
    "estimator_.fit(train_X[high_feature], train_Y)\n",
    "\n",
    "predict = estimator_.predict(test_X[high_feature])\n",
    "\n",
    "test_price = np.expm1(predict)\n",
    "\n",
    "submit = pd.DataFrame(ids)\n",
    "submit['total_price'] = test_price.astype(np.int32)\n",
    "submit.to_csv(\"2019-05-31.csv\",index=False)"
   ]
  },
  {
   "cell_type": "code",
   "execution_count": 104,
   "metadata": {},
   "outputs": [
    {
     "name": "stderr",
     "output_type": "stream",
     "text": [
      "/home/rex/anaconda3/lib/python3.6/site-packages/sklearn/linear_model/coordinate_descent.py:491: ConvergenceWarning: Objective did not converge. You might want to increase the number of iterations. Fitting data with very small alpha may cause precision problems.\n",
      "  ConvergenceWarning)\n"
     ]
    },
    {
     "data": {
      "text/plain": [
       "Lasso(alpha=5e-06, copy_X=True, fit_intercept=True, max_iter=1000,\n",
       "   normalize=False, positive=False, precompute=False, random_state=None,\n",
       "   selection='cyclic', tol=0.0001, warm_start=False)"
      ]
     },
     "execution_count": 104,
     "metadata": {},
     "output_type": "execute_result"
    }
   ],
   "source": [
    "from sklearn.linear_model import Lasso\n",
    "L1_Reg = Lasso(alpha=0.000005)\n",
    "MMEncoder = MinMaxScaler()\n",
    "train_X = MMEncoder.fit_transform(train_X)\n",
    "L1_Reg.fit(train_X, train_Y)\n",
    "#L1_Reg.coef_"
   ]
  },
  {
   "cell_type": "code",
   "execution_count": 105,
   "metadata": {},
   "outputs": [],
   "source": [
    "from itertools import compress\n",
    "L1_mask = list(abs(L1_Reg.coef_)>0)\n",
    "L1_list = list(compress(list(train_X), list(L1_mask)))\n",
    "#L1_list"
   ]
  },
  {
   "cell_type": "code",
   "execution_count": 81,
   "metadata": {},
   "outputs": [
    {
     "data": {
      "text/plain": [
       "0.9466210498100425"
      ]
     },
     "execution_count": 81,
     "metadata": {},
     "output_type": "execute_result"
    }
   ],
   "source": [
    "train_X_ = train_X[L1_list]\n",
    "cross_val_score(estimator, train_X_, train_Y, cv=5).mean()"
   ]
  },
  {
   "cell_type": "code",
   "execution_count": 106,
   "metadata": {},
   "outputs": [
    {
     "ename": "IndexError",
     "evalue": "only integers, slices (`:`), ellipsis (`...`), numpy.newaxis (`None`) and integer or boolean arrays are valid indices",
     "output_type": "error",
     "traceback": [
      "\u001b[0;31m---------------------------------------------------------------------------\u001b[0m",
      "\u001b[0;31mIndexError\u001b[0m                                Traceback (most recent call last)",
      "\u001b[0;32m<ipython-input-106-b0a3d5fa5ea5>\u001b[0m in \u001b[0;36m<module>\u001b[0;34m()\u001b[0m\n\u001b[1;32m      1\u001b[0m \u001b[0mMMEncoder\u001b[0m \u001b[0;34m=\u001b[0m \u001b[0mMinMaxScaler\u001b[0m\u001b[0;34m(\u001b[0m\u001b[0;34m)\u001b[0m\u001b[0;34m\u001b[0m\u001b[0m\n\u001b[0;32m----> 2\u001b[0;31m \u001b[0mtrain_X\u001b[0m \u001b[0;34m=\u001b[0m \u001b[0mMMEncoder\u001b[0m\u001b[0;34m.\u001b[0m\u001b[0mfit_transform\u001b[0m\u001b[0;34m(\u001b[0m\u001b[0mtrain_X\u001b[0m\u001b[0;34m[\u001b[0m\u001b[0mL1_list\u001b[0m\u001b[0;34m]\u001b[0m\u001b[0;34m)\u001b[0m\u001b[0;34m\u001b[0m\u001b[0m\n\u001b[0m\u001b[1;32m      3\u001b[0m \u001b[0mtest_X\u001b[0m \u001b[0;34m=\u001b[0m \u001b[0mMMEncoder\u001b[0m\u001b[0;34m.\u001b[0m\u001b[0mfit_transform\u001b[0m\u001b[0;34m(\u001b[0m\u001b[0mtest_X\u001b[0m\u001b[0;34m[\u001b[0m\u001b[0mL1_list\u001b[0m\u001b[0;34m]\u001b[0m\u001b[0;34m)\u001b[0m\u001b[0;34m\u001b[0m\u001b[0m\n\u001b[1;32m      4\u001b[0m \u001b[0;34m\u001b[0m\u001b[0m\n\u001b[1;32m      5\u001b[0m \u001b[0mestimator_\u001b[0m \u001b[0;34m=\u001b[0m \u001b[0mRandomForestRegressor\u001b[0m\u001b[0;34m(\u001b[0m\u001b[0;34m)\u001b[0m\u001b[0;34m\u001b[0m\u001b[0m\n",
      "\u001b[0;31mIndexError\u001b[0m: only integers, slices (`:`), ellipsis (`...`), numpy.newaxis (`None`) and integer or boolean arrays are valid indices"
     ]
    }
   ],
   "source": [
    "MMEncoder = MinMaxScaler()\n",
    "train_X = MMEncoder.fit_transform(train_X[L1_list])\n",
    "test_X = MMEncoder.fit_transform(test_X[L1_list])\n",
    "\n",
    "estimator_ = RandomForestRegressor()\n",
    "estimator_.fit(train_X, train_Y)\n",
    "\n",
    "predict = estimator_.predict(test_X)\n",
    "\n",
    "test_price = np.expm1(predict)\n",
    "\n",
    "submit = pd.DataFrame(ids)\n",
    "submit['total_price'] = test_price.astype(np.int32)\n",
    "submit.to_csv(\"2019-05-31.csv\",index=False)"
   ]
  }
 ],
 "metadata": {
  "kernelspec": {
   "display_name": "Python 3",
   "language": "python",
   "name": "python3"
  },
  "language_info": {
   "codemirror_mode": {
    "name": "ipython",
    "version": 3
   },
   "file_extension": ".py",
   "mimetype": "text/x-python",
   "name": "python",
   "nbconvert_exporter": "python",
   "pygments_lexer": "ipython3",
   "version": "3.6.4"
  }
 },
 "nbformat": 4,
 "nbformat_minor": 2
}
