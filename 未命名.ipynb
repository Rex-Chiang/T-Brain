{
 "cells": [
  {
   "cell_type": "code",
   "execution_count": 1,
   "metadata": {},
   "outputs": [],
   "source": [
    "import numpy as np\n",
    "import pandas as pd\n",
    "import matplotlib.pyplot as plt\n",
    "import lightgbm as lgb\n",
    "import time\n",
    "# import seaborn as sns\n",
    "from xgboost import plot_importance"
   ]
  },
  {
   "cell_type": "code",
   "execution_count": 2,
   "metadata": {},
   "outputs": [],
   "source": [
    "def num_null(df):\n",
    "    missing = df.isnull().sum()\n",
    "    print('Show #missing in the columns:')\n",
    "    for i in range(df.shape[1]):\n",
    "        if missing[i]:\n",
    "            print(missing.index[i], ':', missing[i])\n",
    "\n",
    "\n",
    "def metric(truth, pred):\n",
    "    truth = np.array(truth)\n",
    "    pred = np.array(pred)\n",
    "    diff = abs(pred - truth) / truth\n",
    "    print(list(diff <= 0.1).count(True) / len(diff))"
   ]
  },
  {
   "cell_type": "code",
   "execution_count": 3,
   "metadata": {},
   "outputs": [],
   "source": [
    "train = pd.read_csv('./data/train.csv')\n",
    "test = pd.read_csv('./data/test.csv')"
   ]
  },
  {
   "cell_type": "code",
   "execution_count": 4,
   "metadata": {},
   "outputs": [],
   "source": [
    "train['town'] = train['city'] * 1000 + train['town']\n",
    "test['town'] = test['city'] * 1000 + test['town']"
   ]
  },
  {
   "cell_type": "code",
   "execution_count": 5,
   "metadata": {},
   "outputs": [],
   "source": [
    "train['total_price'] = np.log1p((train[\"total_price\"] / train[\"building_area\"])) "
   ]
  },
  {
   "cell_type": "code",
   "execution_count": 6,
   "metadata": {},
   "outputs": [],
   "source": [
    "X = pd.concat([train.drop(['total_price'], axis=1), test])\n",
    "X.reset_index(inplace=True, drop=True)"
   ]
  },
  {
   "cell_type": "code",
   "execution_count": 7,
   "metadata": {},
   "outputs": [
    {
     "name": "stdout",
     "output_type": "stream",
     "text": [
      "Show #missing in the columns:\n",
      "parking_area : 66397\n",
      "parking_price : 53775\n",
      "txn_floor : 18541\n",
      "village_income_median : 1326\n"
     ]
    }
   ],
   "source": [
    "num_null(X)"
   ]
  },
  {
   "cell_type": "code",
   "execution_count": 8,
   "metadata": {},
   "outputs": [],
   "source": [
    "pd.options.mode.chained_assignment = None"
   ]
  },
  {
   "cell_type": "code",
   "execution_count": 9,
   "metadata": {},
   "outputs": [],
   "source": [
    "X_imp = X.copy()\n",
    "X_imp['parking_area'].fillna(0, inplace=True)\n",
    "X_imp['parking_price'].fillna(X_imp['parking_price'].median(), inplace=True)\n",
    "X_imp['txn_floor'].fillna(-1, inplace=True)"
   ]
  },
  {
   "cell_type": "code",
   "execution_count": 10,
   "metadata": {},
   "outputs": [
    {
     "name": "stderr",
     "output_type": "stream",
     "text": [
      "/home/rex/anaconda3/lib/python3.7/site-packages/ipykernel_launcher.py:6: SettingWithCopyWarning: \n",
      "A value is trying to be set on a copy of a slice from a DataFrame\n",
      "\n",
      "See the caveats in the documentation: http://pandas.pydata.org/pandas-docs/stable/indexing.html#indexing-view-versus-copy\n",
      "  \n"
     ]
    }
   ],
   "source": [
    "vimm = X_imp.groupby('village').agg({'village_income_median':'mean'})\n",
    "\n",
    "vim_isnan = np.isnan(X_imp['village_income_median'])\n",
    "for i in range(len(X_imp)):\n",
    "    if vim_isnan[i]:\n",
    "        X_imp['village_income_median'][i] = vimm.loc[X_imp['village'][i], 'village_income_median']"
   ]
  },
  {
   "cell_type": "code",
   "execution_count": 11,
   "metadata": {},
   "outputs": [
    {
     "name": "stdout",
     "output_type": "stream",
     "text": [
      "Show #missing in the columns:\n",
      "village_income_median : 938\n"
     ]
    }
   ],
   "source": [
    "num_null(X_imp)"
   ]
  },
  {
   "cell_type": "code",
   "execution_count": 13,
   "metadata": {},
   "outputs": [
    {
     "name": "stderr",
     "output_type": "stream",
     "text": [
      "/home/rex/anaconda3/lib/python3.7/site-packages/ipykernel_launcher.py:6: SettingWithCopyWarning: \n",
      "A value is trying to be set on a copy of a slice from a DataFrame\n",
      "\n",
      "See the caveats in the documentation: http://pandas.pydata.org/pandas-docs/stable/indexing.html#indexing-view-versus-copy\n",
      "  \n"
     ]
    }
   ],
   "source": [
    "tvimm = X_imp.groupby('town').agg({'village_income_median':'median'})\n",
    "\n",
    "vim_isnan = np.isnan(X_imp['village_income_median'])\n",
    "for i in range(len(X_imp)):\n",
    "    if vim_isnan[i]:\n",
    "        X_imp['village_income_median'][i] = tvimm.loc[X_imp['town'][i], 'village_income_median']\n",
    "\n",
    "# knn_impute(X_imp, 'village_income_median', ['lat', 'lon'])"
   ]
  },
  {
   "cell_type": "code",
   "execution_count": 14,
   "metadata": {},
   "outputs": [
    {
     "name": "stdout",
     "output_type": "stream",
     "text": [
      "Show #missing in the columns:\n"
     ]
    }
   ],
   "source": [
    "num_null(X_imp)"
   ]
  },
  {
   "cell_type": "code",
   "execution_count": 15,
   "metadata": {},
   "outputs": [],
   "source": [
    "X_imp.drop(['parking_area','parking_price'], axis=1, inplace=True)"
   ]
  },
  {
   "cell_type": "code",
   "execution_count": 16,
   "metadata": {},
   "outputs": [],
   "source": [
    "concat_train = train.copy()"
   ]
  },
  {
   "cell_type": "code",
   "execution_count": 17,
   "metadata": {},
   "outputs": [],
   "source": [
    "building_material_dummies = pd.get_dummies(X_imp['building_material'])\n",
    "building_material_dummies.columns = ['building_material_' + str(col) for col in building_material_dummies.columns]\n",
    "X_imp = pd.concat([X_imp, building_material_dummies], axis=1)\n",
    "X_imp.drop(['building_material', building_material_dummies.columns[0]], inplace=True, axis=1)\n",
    "\n",
    "city_dummies = pd.get_dummies(X_imp['city'])\n",
    "city_dummies.columns = ['city_' + str(col) for col in city_dummies.columns]\n",
    "X_imp = pd.concat([X_imp, city_dummies], axis=1)\n",
    "X_imp.drop(['city', city_dummies.columns[0]], inplace=True, axis=1)"
   ]
  },
  {
   "cell_type": "code",
   "execution_count": 18,
   "metadata": {},
   "outputs": [],
   "source": [
    "building_type_dummies = pd.get_dummies(X_imp['building_type'])\n",
    "building_type_dummies.columns = ['building_type_' + str(col) for col in building_type_dummies.columns]\n",
    "X_imp = pd.concat([X_imp, building_type_dummies], axis=1)\n",
    "X_imp.drop(['building_type', building_type_dummies.columns[0]], inplace=True, axis=1)\n",
    "\n",
    "building_use_dummies = pd.get_dummies(X_imp['building_use'])\n",
    "building_use_dummies.columns = ['building_use_' + str(col) for col in building_use_dummies.columns]\n",
    "X_imp = pd.concat([X_imp, building_use_dummies], axis=1)\n",
    "X_imp.drop(['building_use', building_use_dummies.columns[0]], inplace=True, axis=1)\n",
    "\n",
    "parking_way_dummies = pd.get_dummies(X_imp['parking_way'])\n",
    "parking_way_dummies.columns = ['parking_way_' + str(col) for col in parking_way_dummies.columns]\n",
    "X_imp = pd.concat([X_imp, parking_way_dummies], axis=1)\n",
    "X_imp.drop(['parking_way', parking_way_dummies.columns[0]], inplace=True, axis=1)"
   ]
  },
  {
   "cell_type": "code",
   "execution_count": 20,
   "metadata": {},
   "outputs": [
    {
     "data": {
      "text/plain": [
       "0    3132\n",
       "1     921\n",
       "2    1544\n",
       "3    3350\n",
       "4      63\n",
       "Name: village, dtype: int64"
      ]
     },
     "execution_count": 20,
     "metadata": {},
     "output_type": "execute_result"
    }
   ],
   "source": [
    "X_imp[\"village\"].head()"
   ]
  },
  {
   "cell_type": "code",
   "execution_count": 21,
   "metadata": {},
   "outputs": [],
   "source": [
    "X_imp.drop(['building_material_5'], axis=1, inplace = True)"
   ]
  },
  {
   "cell_type": "code",
   "execution_count": 22,
   "metadata": {},
   "outputs": [
    {
     "name": "stderr",
     "output_type": "stream",
     "text": [
      "/home/rex/anaconda3/lib/python3.7/site-packages/pandas/core/frame.py:3940: SettingWithCopyWarning: \n",
      "A value is trying to be set on a copy of a slice from a DataFrame\n",
      "\n",
      "See the caveats in the documentation: http://pandas.pydata.org/pandas-docs/stable/indexing.html#indexing-view-versus-copy\n",
      "  errors=errors)\n",
      "/home/rex/anaconda3/lib/python3.7/site-packages/ipykernel_launcher.py:5: SettingWithCopyWarning: \n",
      "A value is trying to be set on a copy of a slice from a DataFrame.\n",
      "Try using .loc[row_indexer,col_indexer] = value instead\n",
      "\n",
      "See the caveats in the documentation: http://pandas.pydata.org/pandas-docs/stable/indexing.html#indexing-view-versus-copy\n",
      "  \"\"\"\n"
     ]
    }
   ],
   "source": [
    "post_train = X_imp.head(60000)\n",
    "X_test = X_imp.tail(10000)\n",
    "\n",
    "post_train.drop('building_id', axis=1, inplace=True)\n",
    "post_train['total_price'] = train.head(60000)['total_price']\n",
    "\n",
    "test_building_id = X_test['building_id']\n",
    "X_test.drop('building_id', axis=1, inplace=True)"
   ]
  },
  {
   "cell_type": "code",
   "execution_count": 23,
   "metadata": {},
   "outputs": [],
   "source": [
    "from sklearn.model_selection import train_test_split\n",
    "X_train, X_valid, Y_train, Y_valid = train_test_split(\n",
    "                        post_train.drop('total_price', axis=1), post_train['total_price'], test_size=0.2, random_state=42)"
   ]
  },
  {
   "cell_type": "code",
   "execution_count": 24,
   "metadata": {},
   "outputs": [
    {
     "name": "stdout",
     "output_type": "stream",
     "text": [
      "50.509499311447144\n"
     ]
    }
   ],
   "source": [
    "model = lgb.LGBMRegressor(learning_rate=0.1, num_leaves=1291, max_bin=500, nthread=20)\n",
    "\n",
    "ts = time.time()\n",
    "model.fit(\n",
    "    X_train, \n",
    "    Y_train)\n",
    "print(time.time() - ts)"
   ]
  },
  {
   "cell_type": "code",
   "execution_count": 25,
   "metadata": {},
   "outputs": [
    {
     "name": "stdout",
     "output_type": "stream",
     "text": [
      "41.37378931045532\n"
     ]
    }
   ],
   "source": [
    "ts = time.time()\n",
    "\n",
    "model = lgb.LGBMRegressor(learning_rate=0.1, num_leaves=1291, max_bin=500)\n",
    "\n",
    "model.fit(\n",
    "    post_train.drop('total_price', axis=1), \n",
    "    post_train['total_price'])\n",
    "\n",
    "print(time.time() - ts)"
   ]
  },
  {
   "cell_type": "code",
   "execution_count": 26,
   "metadata": {},
   "outputs": [],
   "source": [
    "Y_test_predict = model.predict(X_test)\n",
    "Y_test_predict = (np.floor(np.expm1(Y_test_predict)) * X_test['building_area'])"
   ]
  },
  {
   "cell_type": "code",
   "execution_count": 24,
   "metadata": {},
   "outputs": [],
   "source": [
    "submission = pd.DataFrame({\n",
    "    \"building_id\": test_building_id, \n",
    "    \"total_price\": Y_test_predict\n",
    "})\n",
    "submission.to_csv('test.csv', index=False)"
   ]
  },
  {
   "cell_type": "code",
   "execution_count": null,
   "metadata": {},
   "outputs": [],
   "source": []
  }
 ],
 "metadata": {
  "kernelspec": {
   "display_name": "Python 3",
   "language": "python",
   "name": "python3"
  },
  "language_info": {
   "codemirror_mode": {
    "name": "ipython",
    "version": 3
   },
   "file_extension": ".py",
   "mimetype": "text/x-python",
   "name": "python",
   "nbconvert_exporter": "python",
   "pygments_lexer": "ipython3",
   "version": "3.7.3"
  },
  "varInspector": {
   "cols": {
    "lenName": 16,
    "lenType": 16,
    "lenVar": 40
   },
   "kernels_config": {
    "python": {
     "delete_cmd_postfix": "",
     "delete_cmd_prefix": "del ",
     "library": "var_list.py",
     "varRefreshCmd": "print(var_dic_list())"
    },
    "r": {
     "delete_cmd_postfix": ") ",
     "delete_cmd_prefix": "rm(",
     "library": "var_list.r",
     "varRefreshCmd": "cat(var_dic_list()) "
    }
   },
   "types_to_exclude": [
    "module",
    "function",
    "builtin_function_or_method",
    "instance",
    "_Feature"
   ],
   "window_display": false
  }
 },
 "nbformat": 4,
 "nbformat_minor": 2
}
