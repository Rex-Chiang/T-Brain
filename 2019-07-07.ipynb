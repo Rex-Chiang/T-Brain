{
 "cells": [
  {
   "cell_type": "code",
   "execution_count": 1,
   "metadata": {},
   "outputs": [],
   "source": [
    "# 載入需要的套件\n",
    "import os\n",
    "import numpy as np \n",
    "import pandas as pd\n",
    "import copy\n",
    "import seaborn as sns\n",
    "import xgboost as xgb\n",
    "from sklearn.preprocessing import MinMaxScaler, MaxAbsScaler, StandardScaler, Imputer\n",
    "from sklearn.model_selection import train_test_split, cross_val_score, GridSearchCV\n",
    "from sklearn.ensemble import RandomForestRegressor, GradientBoostingRegressor\n",
    "from sklearn.metrics import mean_squared_error, mean_absolute_error\n",
    "import matplotlib.pyplot as plt\n",
    "%matplotlib inline"
   ]
  },
  {
   "cell_type": "code",
   "execution_count": 7,
   "metadata": {},
   "outputs": [],
   "source": [
    "# 設定 data_path\n",
    "dir_data = './data/'\n",
    "Train = os.path.join(dir_data, 'train.csv')\n",
    "Test = os.path.join(dir_data, 'test.csv')\n",
    "\n",
    "# 讀取檔案\n",
    "Train_data = pd.read_csv(Train)\n",
    "Test_data = pd.read_csv(Test)"
   ]
  },
  {
   "cell_type": "code",
   "execution_count": 8,
   "metadata": {},
   "outputs": [],
   "source": [
    "ids = Test_data['building_id']\n",
    "\n",
    "Train_data = Train_data.drop(['building_id'] , axis=1)\n",
    "Test_data = Test_data.drop(['building_id'] , axis=1)"
   ]
  },
  {
   "cell_type": "code",
   "execution_count": 4,
   "metadata": {},
   "outputs": [],
   "source": [
    "# 檢查 DataFrame 空缺值的狀態\n",
    "def na_check(df_data):\n",
    "    data_na = (df_data.isnull().sum() / len(df_data)) * 100\n",
    "    data_na = data_na.drop(data_na[data_na == 0].index).sort_values(ascending=False)\n",
    "    missing_data = pd.DataFrame({'Missing Ratio' :data_na})\n",
    "    display(missing_data.head(10))\n",
    "    \n",
    "def na_check2(df_data):\n",
    "    #missing data\n",
    "    total = df_data.isnull().sum().sort_values(ascending=False)\n",
    "    percent = (df_data.isnull().sum()/df_data.isnull().count()).sort_values(ascending=False)\n",
    "    missing_data = pd.concat([total, percent], axis=1, keys=['Total', 'Percent'])\n",
    "    display(missing_data.head(4))\n",
    "    \n",
    "def area_type(row):\n",
    "    if row >= 0:\n",
    "        return 1\n",
    "    else:\n",
    "        return 0\n",
    "    \n",
    "def house_type(row):\n",
    "    if row == 0:\n",
    "        return 0\n",
    "    else:\n",
    "        return 1"
   ]
  },
  {
   "cell_type": "code",
   "execution_count": 9,
   "metadata": {},
   "outputs": [
    {
     "data": {
      "text/html": [
       "<div>\n",
       "<style scoped>\n",
       "    .dataframe tbody tr th:only-of-type {\n",
       "        vertical-align: middle;\n",
       "    }\n",
       "\n",
       "    .dataframe tbody tr th {\n",
       "        vertical-align: top;\n",
       "    }\n",
       "\n",
       "    .dataframe thead th {\n",
       "        text-align: right;\n",
       "    }\n",
       "</style>\n",
       "<table border=\"1\" class=\"dataframe\">\n",
       "  <thead>\n",
       "    <tr style=\"text-align: right;\">\n",
       "      <th></th>\n",
       "      <th>building_material</th>\n",
       "      <th>city</th>\n",
       "      <th>txn_dt</th>\n",
       "      <th>total_floor</th>\n",
       "      <th>building_type</th>\n",
       "      <th>building_use</th>\n",
       "      <th>building_complete_dt</th>\n",
       "      <th>parking_way</th>\n",
       "      <th>parking_area</th>\n",
       "      <th>parking_price</th>\n",
       "      <th>...</th>\n",
       "      <th>XIV_250</th>\n",
       "      <th>XIV_500</th>\n",
       "      <th>XIV_index_500</th>\n",
       "      <th>XIV_1000</th>\n",
       "      <th>XIV_index_1000</th>\n",
       "      <th>XIV_5000</th>\n",
       "      <th>XIV_index_5000</th>\n",
       "      <th>XIV_10000</th>\n",
       "      <th>XIV_index_10000</th>\n",
       "      <th>XIV_MIN</th>\n",
       "    </tr>\n",
       "  </thead>\n",
       "  <tbody>\n",
       "    <tr>\n",
       "      <th>0</th>\n",
       "      <td>8</td>\n",
       "      <td>21</td>\n",
       "      <td>18674</td>\n",
       "      <td>4</td>\n",
       "      <td>3</td>\n",
       "      <td>2</td>\n",
       "      <td>6271</td>\n",
       "      <td>2</td>\n",
       "      <td>NaN</td>\n",
       "      <td>NaN</td>\n",
       "      <td>...</td>\n",
       "      <td>21</td>\n",
       "      <td>58</td>\n",
       "      <td>1</td>\n",
       "      <td>157</td>\n",
       "      <td>1</td>\n",
       "      <td>2483</td>\n",
       "      <td>1</td>\n",
       "      <td>6011</td>\n",
       "      <td>1</td>\n",
       "      <td>34.469803</td>\n",
       "    </tr>\n",
       "    <tr>\n",
       "      <th>1</th>\n",
       "      <td>8</td>\n",
       "      <td>7</td>\n",
       "      <td>18800</td>\n",
       "      <td>5</td>\n",
       "      <td>1</td>\n",
       "      <td>2</td>\n",
       "      <td>7885</td>\n",
       "      <td>2</td>\n",
       "      <td>NaN</td>\n",
       "      <td>NaN</td>\n",
       "      <td>...</td>\n",
       "      <td>7</td>\n",
       "      <td>28</td>\n",
       "      <td>1</td>\n",
       "      <td>115</td>\n",
       "      <td>1</td>\n",
       "      <td>15872</td>\n",
       "      <td>1</td>\n",
       "      <td>32221</td>\n",
       "      <td>1</td>\n",
       "      <td>40.073573</td>\n",
       "    </tr>\n",
       "    <tr>\n",
       "      <th>2</th>\n",
       "      <td>8</td>\n",
       "      <td>7</td>\n",
       "      <td>19289</td>\n",
       "      <td>4</td>\n",
       "      <td>1</td>\n",
       "      <td>2</td>\n",
       "      <td>6028</td>\n",
       "      <td>2</td>\n",
       "      <td>NaN</td>\n",
       "      <td>NaN</td>\n",
       "      <td>...</td>\n",
       "      <td>27</td>\n",
       "      <td>78</td>\n",
       "      <td>1</td>\n",
       "      <td>212</td>\n",
       "      <td>1</td>\n",
       "      <td>15760</td>\n",
       "      <td>1</td>\n",
       "      <td>32228</td>\n",
       "      <td>1</td>\n",
       "      <td>54.462081</td>\n",
       "    </tr>\n",
       "    <tr>\n",
       "      <th>3</th>\n",
       "      <td>8</td>\n",
       "      <td>21</td>\n",
       "      <td>20385</td>\n",
       "      <td>24</td>\n",
       "      <td>0</td>\n",
       "      <td>2</td>\n",
       "      <td>18325</td>\n",
       "      <td>0</td>\n",
       "      <td>NaN</td>\n",
       "      <td>81138.889762</td>\n",
       "      <td>...</td>\n",
       "      <td>2</td>\n",
       "      <td>20</td>\n",
       "      <td>1</td>\n",
       "      <td>125</td>\n",
       "      <td>1</td>\n",
       "      <td>2568</td>\n",
       "      <td>1</td>\n",
       "      <td>7271</td>\n",
       "      <td>1</td>\n",
       "      <td>99.628966</td>\n",
       "    </tr>\n",
       "    <tr>\n",
       "      <th>4</th>\n",
       "      <td>1</td>\n",
       "      <td>21</td>\n",
       "      <td>20657</td>\n",
       "      <td>2</td>\n",
       "      <td>4</td>\n",
       "      <td>2</td>\n",
       "      <td>6880</td>\n",
       "      <td>2</td>\n",
       "      <td>NaN</td>\n",
       "      <td>NaN</td>\n",
       "      <td>...</td>\n",
       "      <td>2</td>\n",
       "      <td>18</td>\n",
       "      <td>1</td>\n",
       "      <td>47</td>\n",
       "      <td>1</td>\n",
       "      <td>2587</td>\n",
       "      <td>1</td>\n",
       "      <td>7442</td>\n",
       "      <td>1</td>\n",
       "      <td>124.131236</td>\n",
       "    </tr>\n",
       "  </tbody>\n",
       "</table>\n",
       "<p>5 rows × 233 columns</p>\n",
       "</div>"
      ],
      "text/plain": [
       "   building_material  city  txn_dt  total_floor  building_type  building_use  \\\n",
       "0                  8    21   18674            4              3             2   \n",
       "1                  8     7   18800            5              1             2   \n",
       "2                  8     7   19289            4              1             2   \n",
       "3                  8    21   20385           24              0             2   \n",
       "4                  1    21   20657            2              4             2   \n",
       "\n",
       "   building_complete_dt  parking_way  parking_area  parking_price  ...  \\\n",
       "0                  6271            2           NaN            NaN  ...   \n",
       "1                  7885            2           NaN            NaN  ...   \n",
       "2                  6028            2           NaN            NaN  ...   \n",
       "3                 18325            0           NaN   81138.889762  ...   \n",
       "4                  6880            2           NaN            NaN  ...   \n",
       "\n",
       "   XIV_250  XIV_500  XIV_index_500  XIV_1000  XIV_index_1000  XIV_5000  \\\n",
       "0       21       58              1       157               1      2483   \n",
       "1        7       28              1       115               1     15872   \n",
       "2       27       78              1       212               1     15760   \n",
       "3        2       20              1       125               1      2568   \n",
       "4        2       18              1        47               1      2587   \n",
       "\n",
       "   XIV_index_5000  XIV_10000  XIV_index_10000     XIV_MIN  \n",
       "0               1       6011                1   34.469803  \n",
       "1               1      32221                1   40.073573  \n",
       "2               1      32228                1   54.462081  \n",
       "3               1       7271                1   99.628966  \n",
       "4               1       7442                1  124.131236  \n",
       "\n",
       "[5 rows x 233 columns]"
      ]
     },
     "execution_count": 9,
     "metadata": {},
     "output_type": "execute_result"
    }
   ],
   "source": [
    "Train_data.sort_values(by = 'parking_price', ascending = False)[:4]\n",
    "Train_data = Train_data.drop(55472)\n",
    "Train_data = Train_data.drop(8795)\n",
    "Train_data = Train_data.drop(37480)\n",
    "Train_data = Train_data.drop(51731)\n",
    "\n",
    "Train_data.sort_values(by = 'parking_area', ascending = False)[:2]\n",
    "Train_data = Train_data.drop(38617)\n",
    "Train_data = Train_data.drop(41914)\n",
    "\n",
    "Train_data.sort_values(by = 'land_area', ascending = False)[:10]\n",
    "Train_data = Train_data.drop(10670)\n",
    "Train_data = Train_data.drop(41331)\n",
    "Train_data = Train_data.drop(39191)\n",
    "Train_data = Train_data.drop(53966)\n",
    "Train_data = Train_data.drop(7814)\n",
    "Train_data = Train_data.drop(13332)\n",
    "Train_data = Train_data.drop(9785)\n",
    "Train_data = Train_data.drop(14007)\n",
    "Train_data = Train_data.drop(50076)\n",
    "Train_data = Train_data.drop(2086)\n",
    "\n",
    "Train_data.sort_values(by = 'building_area', ascending = False)[:20]\n",
    "Train_data = Train_data.drop(9491)\n",
    "Train_data = Train_data.drop(46934)\n",
    "\n",
    "train_Y = np.log1p(Train_data['total_price'])\n",
    "Train_data = Train_data.drop(['total_price'] , axis=1)\n",
    "\n",
    "df = pd.concat([Train_data,Test_data])\n",
    "df.head()"
   ]
  },
  {
   "cell_type": "code",
   "execution_count": 10,
   "metadata": {},
   "outputs": [],
   "source": [
    "train_num = train_Y.shape[0]\n",
    "\n",
    "df['txn_floor'] = df['txn_floor'].fillna(0)\n",
    "df[\"house_type\"] = df['txn_floor'].apply(house_type)"
   ]
  },
  {
   "cell_type": "code",
   "execution_count": 11,
   "metadata": {},
   "outputs": [],
   "source": [
    "parking_price = df['parking_price']\n",
    "parking_area = df['parking_area']\n",
    "\n",
    "df = df.drop(['parking_price'] , axis=1)\n",
    "df = df.drop(['parking_area'] , axis=1)\n",
    "\n",
    "df = df.fillna(df.mean())\n",
    "df['parking_price'] = parking_price\n",
    "df['parking_area'] = parking_area"
   ]
  },
  {
   "cell_type": "code",
   "execution_count": 12,
   "metadata": {},
   "outputs": [
    {
     "data": {
      "text/html": [
       "<div>\n",
       "<style scoped>\n",
       "    .dataframe tbody tr th:only-of-type {\n",
       "        vertical-align: middle;\n",
       "    }\n",
       "\n",
       "    .dataframe tbody tr th {\n",
       "        vertical-align: top;\n",
       "    }\n",
       "\n",
       "    .dataframe thead th {\n",
       "        text-align: right;\n",
       "    }\n",
       "</style>\n",
       "<table border=\"1\" class=\"dataframe\">\n",
       "  <thead>\n",
       "    <tr style=\"text-align: right;\">\n",
       "      <th></th>\n",
       "      <th>building_material</th>\n",
       "      <th>city</th>\n",
       "      <th>txn_dt</th>\n",
       "      <th>total_floor</th>\n",
       "      <th>building_type</th>\n",
       "      <th>building_use</th>\n",
       "      <th>building_complete_dt</th>\n",
       "      <th>parking_way</th>\n",
       "      <th>txn_floor</th>\n",
       "      <th>land_area</th>\n",
       "      <th>...</th>\n",
       "      <th>XIV_1000</th>\n",
       "      <th>XIV_index_1000</th>\n",
       "      <th>XIV_5000</th>\n",
       "      <th>XIV_index_5000</th>\n",
       "      <th>XIV_10000</th>\n",
       "      <th>XIV_index_10000</th>\n",
       "      <th>XIV_MIN</th>\n",
       "      <th>house_type</th>\n",
       "      <th>parking_price</th>\n",
       "      <th>parking_area</th>\n",
       "    </tr>\n",
       "  </thead>\n",
       "  <tbody>\n",
       "    <tr>\n",
       "      <th>0</th>\n",
       "      <td>8</td>\n",
       "      <td>21</td>\n",
       "      <td>18674</td>\n",
       "      <td>4</td>\n",
       "      <td>3</td>\n",
       "      <td>2</td>\n",
       "      <td>6271</td>\n",
       "      <td>2</td>\n",
       "      <td>3.0</td>\n",
       "      <td>18.144460</td>\n",
       "      <td>...</td>\n",
       "      <td>157</td>\n",
       "      <td>1</td>\n",
       "      <td>2483</td>\n",
       "      <td>1</td>\n",
       "      <td>6011</td>\n",
       "      <td>1</td>\n",
       "      <td>34.469803</td>\n",
       "      <td>1</td>\n",
       "      <td>4.767733</td>\n",
       "      <td>NaN</td>\n",
       "    </tr>\n",
       "    <tr>\n",
       "      <th>1</th>\n",
       "      <td>8</td>\n",
       "      <td>7</td>\n",
       "      <td>18800</td>\n",
       "      <td>5</td>\n",
       "      <td>1</td>\n",
       "      <td>2</td>\n",
       "      <td>7885</td>\n",
       "      <td>2</td>\n",
       "      <td>5.0</td>\n",
       "      <td>11.387227</td>\n",
       "      <td>...</td>\n",
       "      <td>115</td>\n",
       "      <td>1</td>\n",
       "      <td>15872</td>\n",
       "      <td>1</td>\n",
       "      <td>32221</td>\n",
       "      <td>1</td>\n",
       "      <td>40.073573</td>\n",
       "      <td>1</td>\n",
       "      <td>10.467614</td>\n",
       "      <td>NaN</td>\n",
       "    </tr>\n",
       "    <tr>\n",
       "      <th>2</th>\n",
       "      <td>8</td>\n",
       "      <td>7</td>\n",
       "      <td>19289</td>\n",
       "      <td>4</td>\n",
       "      <td>1</td>\n",
       "      <td>2</td>\n",
       "      <td>6028</td>\n",
       "      <td>2</td>\n",
       "      <td>1.0</td>\n",
       "      <td>21.426802</td>\n",
       "      <td>...</td>\n",
       "      <td>212</td>\n",
       "      <td>1</td>\n",
       "      <td>15760</td>\n",
       "      <td>1</td>\n",
       "      <td>32228</td>\n",
       "      <td>1</td>\n",
       "      <td>54.462081</td>\n",
       "      <td>1</td>\n",
       "      <td>10.470910</td>\n",
       "      <td>NaN</td>\n",
       "    </tr>\n",
       "    <tr>\n",
       "      <th>3</th>\n",
       "      <td>8</td>\n",
       "      <td>21</td>\n",
       "      <td>20385</td>\n",
       "      <td>24</td>\n",
       "      <td>0</td>\n",
       "      <td>2</td>\n",
       "      <td>18325</td>\n",
       "      <td>0</td>\n",
       "      <td>13.0</td>\n",
       "      <td>11.387227</td>\n",
       "      <td>...</td>\n",
       "      <td>125</td>\n",
       "      <td>1</td>\n",
       "      <td>2568</td>\n",
       "      <td>1</td>\n",
       "      <td>7271</td>\n",
       "      <td>1</td>\n",
       "      <td>99.628966</td>\n",
       "      <td>1</td>\n",
       "      <td>11.303930</td>\n",
       "      <td>NaN</td>\n",
       "    </tr>\n",
       "    <tr>\n",
       "      <th>4</th>\n",
       "      <td>1</td>\n",
       "      <td>21</td>\n",
       "      <td>20657</td>\n",
       "      <td>2</td>\n",
       "      <td>4</td>\n",
       "      <td>2</td>\n",
       "      <td>6880</td>\n",
       "      <td>2</td>\n",
       "      <td>0.0</td>\n",
       "      <td>61.306524</td>\n",
       "      <td>...</td>\n",
       "      <td>47</td>\n",
       "      <td>1</td>\n",
       "      <td>2587</td>\n",
       "      <td>1</td>\n",
       "      <td>7442</td>\n",
       "      <td>1</td>\n",
       "      <td>124.131236</td>\n",
       "      <td>0</td>\n",
       "      <td>8.213461</td>\n",
       "      <td>NaN</td>\n",
       "    </tr>\n",
       "  </tbody>\n",
       "</table>\n",
       "<p>5 rows × 234 columns</p>\n",
       "</div>"
      ],
      "text/plain": [
       "   building_material  city  txn_dt  total_floor  building_type  building_use  \\\n",
       "0                  8    21   18674            4              3             2   \n",
       "1                  8     7   18800            5              1             2   \n",
       "2                  8     7   19289            4              1             2   \n",
       "3                  8    21   20385           24              0             2   \n",
       "4                  1    21   20657            2              4             2   \n",
       "\n",
       "   building_complete_dt  parking_way  txn_floor  land_area  ...  XIV_1000  \\\n",
       "0                  6271            2        3.0  18.144460  ...       157   \n",
       "1                  7885            2        5.0  11.387227  ...       115   \n",
       "2                  6028            2        1.0  21.426802  ...       212   \n",
       "3                 18325            0       13.0  11.387227  ...       125   \n",
       "4                  6880            2        0.0  61.306524  ...        47   \n",
       "\n",
       "   XIV_index_1000  XIV_5000  XIV_index_5000  XIV_10000  XIV_index_10000  \\\n",
       "0               1      2483               1       6011                1   \n",
       "1               1     15872               1      32221                1   \n",
       "2               1     15760               1      32228                1   \n",
       "3               1      2568               1       7271                1   \n",
       "4               1      2587               1       7442                1   \n",
       "\n",
       "      XIV_MIN  house_type  parking_price  parking_area  \n",
       "0   34.469803           1       4.767733           NaN  \n",
       "1   40.073573           1      10.467614           NaN  \n",
       "2   54.462081           1      10.470910           NaN  \n",
       "3   99.628966           1      11.303930           NaN  \n",
       "4  124.131236           0       8.213461           NaN  \n",
       "\n",
       "[5 rows x 234 columns]"
      ]
     },
     "execution_count": 12,
     "metadata": {},
     "output_type": "execute_result"
    }
   ],
   "source": [
    "park_not_null = df[df['parking_price'].notnull()]\n",
    "park_is_null = df[df['parking_price'].isnull()].drop(['parking_price'] , axis=1)\n",
    "\n",
    "park_X = park_not_null.drop(['parking_price'] , axis=1)\n",
    "park_Y = np.log1p(park_not_null['parking_price'])\n",
    "\n",
    "XGB = xgb.XGBRegressor()\n",
    "XGB.fit(park_X, park_Y)\n",
    "\n",
    "park_pred = XGB.predict(park_is_null)\n",
    "df.loc[df['parking_price'].notnull(), 'parking_price'] = np.log1p(park_not_null['parking_price'])\n",
    "df.loc[df['parking_price'].isnull(), 'parking_price'] = park_pred\n",
    "\n",
    "df.head()"
   ]
  },
  {
   "cell_type": "code",
   "execution_count": 13,
   "metadata": {},
   "outputs": [
    {
     "data": {
      "text/html": [
       "<div>\n",
       "<style scoped>\n",
       "    .dataframe tbody tr th:only-of-type {\n",
       "        vertical-align: middle;\n",
       "    }\n",
       "\n",
       "    .dataframe tbody tr th {\n",
       "        vertical-align: top;\n",
       "    }\n",
       "\n",
       "    .dataframe thead th {\n",
       "        text-align: right;\n",
       "    }\n",
       "</style>\n",
       "<table border=\"1\" class=\"dataframe\">\n",
       "  <thead>\n",
       "    <tr style=\"text-align: right;\">\n",
       "      <th></th>\n",
       "      <th>building_material</th>\n",
       "      <th>city</th>\n",
       "      <th>txn_dt</th>\n",
       "      <th>total_floor</th>\n",
       "      <th>building_type</th>\n",
       "      <th>building_use</th>\n",
       "      <th>building_complete_dt</th>\n",
       "      <th>parking_way</th>\n",
       "      <th>txn_floor</th>\n",
       "      <th>land_area</th>\n",
       "      <th>...</th>\n",
       "      <th>XIV_1000</th>\n",
       "      <th>XIV_index_1000</th>\n",
       "      <th>XIV_5000</th>\n",
       "      <th>XIV_index_5000</th>\n",
       "      <th>XIV_10000</th>\n",
       "      <th>XIV_index_10000</th>\n",
       "      <th>XIV_MIN</th>\n",
       "      <th>house_type</th>\n",
       "      <th>parking_price</th>\n",
       "      <th>parking_area</th>\n",
       "    </tr>\n",
       "  </thead>\n",
       "  <tbody>\n",
       "    <tr>\n",
       "      <th>0</th>\n",
       "      <td>8</td>\n",
       "      <td>21</td>\n",
       "      <td>18674</td>\n",
       "      <td>4</td>\n",
       "      <td>3</td>\n",
       "      <td>2</td>\n",
       "      <td>6271</td>\n",
       "      <td>2</td>\n",
       "      <td>3.0</td>\n",
       "      <td>18.144460</td>\n",
       "      <td>...</td>\n",
       "      <td>157</td>\n",
       "      <td>1</td>\n",
       "      <td>2483</td>\n",
       "      <td>1</td>\n",
       "      <td>6011</td>\n",
       "      <td>1</td>\n",
       "      <td>34.469803</td>\n",
       "      <td>1</td>\n",
       "      <td>4.767733</td>\n",
       "      <td>4.413631</td>\n",
       "    </tr>\n",
       "    <tr>\n",
       "      <th>1</th>\n",
       "      <td>8</td>\n",
       "      <td>7</td>\n",
       "      <td>18800</td>\n",
       "      <td>5</td>\n",
       "      <td>1</td>\n",
       "      <td>2</td>\n",
       "      <td>7885</td>\n",
       "      <td>2</td>\n",
       "      <td>5.0</td>\n",
       "      <td>11.387227</td>\n",
       "      <td>...</td>\n",
       "      <td>115</td>\n",
       "      <td>1</td>\n",
       "      <td>15872</td>\n",
       "      <td>1</td>\n",
       "      <td>32221</td>\n",
       "      <td>1</td>\n",
       "      <td>40.073573</td>\n",
       "      <td>1</td>\n",
       "      <td>10.467614</td>\n",
       "      <td>2.755655</td>\n",
       "    </tr>\n",
       "    <tr>\n",
       "      <th>2</th>\n",
       "      <td>8</td>\n",
       "      <td>7</td>\n",
       "      <td>19289</td>\n",
       "      <td>4</td>\n",
       "      <td>1</td>\n",
       "      <td>2</td>\n",
       "      <td>6028</td>\n",
       "      <td>2</td>\n",
       "      <td>1.0</td>\n",
       "      <td>21.426802</td>\n",
       "      <td>...</td>\n",
       "      <td>212</td>\n",
       "      <td>1</td>\n",
       "      <td>15760</td>\n",
       "      <td>1</td>\n",
       "      <td>32228</td>\n",
       "      <td>1</td>\n",
       "      <td>54.462081</td>\n",
       "      <td>1</td>\n",
       "      <td>10.470910</td>\n",
       "      <td>2.166138</td>\n",
       "    </tr>\n",
       "    <tr>\n",
       "      <th>3</th>\n",
       "      <td>8</td>\n",
       "      <td>21</td>\n",
       "      <td>20385</td>\n",
       "      <td>24</td>\n",
       "      <td>0</td>\n",
       "      <td>2</td>\n",
       "      <td>18325</td>\n",
       "      <td>0</td>\n",
       "      <td>13.0</td>\n",
       "      <td>11.387227</td>\n",
       "      <td>...</td>\n",
       "      <td>125</td>\n",
       "      <td>1</td>\n",
       "      <td>2568</td>\n",
       "      <td>1</td>\n",
       "      <td>7271</td>\n",
       "      <td>1</td>\n",
       "      <td>99.628966</td>\n",
       "      <td>1</td>\n",
       "      <td>11.303930</td>\n",
       "      <td>6.255847</td>\n",
       "    </tr>\n",
       "    <tr>\n",
       "      <th>4</th>\n",
       "      <td>1</td>\n",
       "      <td>21</td>\n",
       "      <td>20657</td>\n",
       "      <td>2</td>\n",
       "      <td>4</td>\n",
       "      <td>2</td>\n",
       "      <td>6880</td>\n",
       "      <td>2</td>\n",
       "      <td>0.0</td>\n",
       "      <td>61.306524</td>\n",
       "      <td>...</td>\n",
       "      <td>47</td>\n",
       "      <td>1</td>\n",
       "      <td>2587</td>\n",
       "      <td>1</td>\n",
       "      <td>7442</td>\n",
       "      <td>1</td>\n",
       "      <td>124.131236</td>\n",
       "      <td>0</td>\n",
       "      <td>8.213461</td>\n",
       "      <td>0.287667</td>\n",
       "    </tr>\n",
       "  </tbody>\n",
       "</table>\n",
       "<p>5 rows × 234 columns</p>\n",
       "</div>"
      ],
      "text/plain": [
       "   building_material  city  txn_dt  total_floor  building_type  building_use  \\\n",
       "0                  8    21   18674            4              3             2   \n",
       "1                  8     7   18800            5              1             2   \n",
       "2                  8     7   19289            4              1             2   \n",
       "3                  8    21   20385           24              0             2   \n",
       "4                  1    21   20657            2              4             2   \n",
       "\n",
       "   building_complete_dt  parking_way  txn_floor  land_area  ...  XIV_1000  \\\n",
       "0                  6271            2        3.0  18.144460  ...       157   \n",
       "1                  7885            2        5.0  11.387227  ...       115   \n",
       "2                  6028            2        1.0  21.426802  ...       212   \n",
       "3                 18325            0       13.0  11.387227  ...       125   \n",
       "4                  6880            2        0.0  61.306524  ...        47   \n",
       "\n",
       "   XIV_index_1000  XIV_5000  XIV_index_5000  XIV_10000  XIV_index_10000  \\\n",
       "0               1      2483               1       6011                1   \n",
       "1               1     15872               1      32221                1   \n",
       "2               1     15760               1      32228                1   \n",
       "3               1      2568               1       7271                1   \n",
       "4               1      2587               1       7442                1   \n",
       "\n",
       "      XIV_MIN  house_type  parking_price  parking_area  \n",
       "0   34.469803           1       4.767733      4.413631  \n",
       "1   40.073573           1      10.467614      2.755655  \n",
       "2   54.462081           1      10.470910      2.166138  \n",
       "3   99.628966           1      11.303930      6.255847  \n",
       "4  124.131236           0       8.213461      0.287667  \n",
       "\n",
       "[5 rows x 234 columns]"
      ]
     },
     "execution_count": 13,
     "metadata": {},
     "output_type": "execute_result"
    }
   ],
   "source": [
    "park_area_not_null = df[df['parking_area'].notnull()]\n",
    "park_area_is_null = df[df['parking_area'].isnull()].drop(['parking_area'] , axis=1)\n",
    "\n",
    "park_area_X = park_area_not_null.drop(['parking_area'] , axis=1)\n",
    "park_area_Y = park_area_not_null['parking_area']\n",
    "\n",
    "XGBR = xgb.XGBRegressor()\n",
    "XGBR.fit(park_area_X, park_area_Y)\n",
    "\n",
    "park_area_pred = XGBR.predict(park_area_is_null)\n",
    "\n",
    "df.loc[df['parking_area'].isnull(), 'parking_area'] = park_area_pred\n",
    "\n",
    "df.head()"
   ]
  },
  {
   "cell_type": "code",
   "execution_count": 107,
   "metadata": {},
   "outputs": [],
   "source": [
    "temp_df = copy.deepcopy(df)"
   ]
  },
  {
   "cell_type": "code",
   "execution_count": 108,
   "metadata": {},
   "outputs": [],
   "source": [
    "temp_df = temp_df.fillna(temp_df.mean())\n",
    "\n",
    "temp_df[\"parking_price\"] = temp_df[\"parking_price\"].clip(0.1, temp_df[\"parking_price\"].max())\n",
    "temp_df[\"parking_area\"] = temp_df[\"parking_area\"].clip(0.1, temp_df[\"parking_area\"].max())\n",
    "\n",
    "temp_df[\"txn_dt\"] = temp_df[\"txn_dt\"]/100\n",
    "temp_df[\"building_complete_dt\"] = temp_df[\"building_complete_dt\"]/100\n",
    "\n",
    "temp_df[\"village_income_median\"] = np.log1p(temp_df[\"village_income_median\"])\n",
    "\n",
    "temp_df[\"town_area\"] = temp_df[\"town_area\"].clip(1, 150)\n",
    "\n",
    "temp_df[\"total_building_area\"] = temp_df[\"building_area\"] * temp_df[\"total_floor\"]\n",
    "temp_df[\"total_income\"] = np.log1p(temp_df[\"village_income_median\"] * temp_df[\"town_population\"])\n",
    "temp_df[\"area_percent\"] = temp_df[\"land_area\"] / temp_df[\"town_area\"]\n",
    "temp_df[\"per_parking_price\"] = np.log1p(np.expm1(temp_df[\"parking_price\"]) / temp_df[\"parking_area\"])\n",
    "\n",
    "temp_df[\"area_diff\"] = temp_df[\"land_area\"] - temp_df[\"building_area\"]\n",
    "temp_df['area_type'] = temp_df['area_diff'].apply(area_type)\n",
    "#temp_df = temp_df.drop(['area_diff'] , axis=1)\n",
    "\n",
    "temp_df = temp_df.fillna(temp_df.mean())\n",
    "\n",
    "train_num = train_Y.shape[0]\n",
    "train_X = temp_df[:train_num]\n",
    "test_X = temp_df[train_num:]"
   ]
  },
  {
   "cell_type": "code",
   "execution_count": 88,
   "metadata": {},
   "outputs": [],
   "source": [
    "temp_df = temp_df.drop(['doc_rate', 'master_rate', 'jobschool_rate', 'highschool_rate'] , axis=1)\n",
    "temp_df = temp_df.drop(['XIII_5000'] , axis=1)\n",
    "\n",
    "temp_df = temp_df.drop(['town'] , axis=1)\n",
    "temp_df = temp_df.drop(['village'] , axis=1)"
   ]
  },
  {
   "cell_type": "code",
   "execution_count": 89,
   "metadata": {},
   "outputs": [
    {
     "data": {
      "text/html": [
       "<div>\n",
       "<style scoped>\n",
       "    .dataframe tbody tr th:only-of-type {\n",
       "        vertical-align: middle;\n",
       "    }\n",
       "\n",
       "    .dataframe tbody tr th {\n",
       "        vertical-align: top;\n",
       "    }\n",
       "\n",
       "    .dataframe thead th {\n",
       "        text-align: right;\n",
       "    }\n",
       "</style>\n",
       "<table border=\"1\" class=\"dataframe\">\n",
       "  <thead>\n",
       "    <tr style=\"text-align: right;\">\n",
       "      <th></th>\n",
       "      <th>building_material</th>\n",
       "      <th>txn_dt</th>\n",
       "      <th>building_complete_dt</th>\n",
       "      <th>parking_way</th>\n",
       "      <th>land_area</th>\n",
       "      <th>building_area</th>\n",
       "      <th>lat</th>\n",
       "      <th>lon</th>\n",
       "      <th>village_income_median</th>\n",
       "      <th>town_population</th>\n",
       "      <th>...</th>\n",
       "      <th>total_income</th>\n",
       "      <th>area_percent</th>\n",
       "      <th>per_parking_price</th>\n",
       "      <th>area_diff</th>\n",
       "      <th>area_type</th>\n",
       "      <th>city_mean</th>\n",
       "      <th>building_type_mean</th>\n",
       "      <th>building_use_mean</th>\n",
       "      <th>total_floor_mean</th>\n",
       "      <th>txn_floor_mean</th>\n",
       "    </tr>\n",
       "  </thead>\n",
       "  <tbody>\n",
       "    <tr>\n",
       "      <th>0</th>\n",
       "      <td>8</td>\n",
       "      <td>186.74</td>\n",
       "      <td>62.71</td>\n",
       "      <td>2</td>\n",
       "      <td>18.144460</td>\n",
       "      <td>3.418175</td>\n",
       "      <td>-39.14</td>\n",
       "      <td>117.08</td>\n",
       "      <td>6.350886</td>\n",
       "      <td>24219.0</td>\n",
       "      <td>...</td>\n",
       "      <td>11.943494</td>\n",
       "      <td>12.812980</td>\n",
       "      <td>3.311636</td>\n",
       "      <td>14.726285</td>\n",
       "      <td>1</td>\n",
       "      <td>14.761401</td>\n",
       "      <td>15.617864</td>\n",
       "      <td>15.49522</td>\n",
       "      <td>15.607523</td>\n",
       "      <td>15.427335</td>\n",
       "    </tr>\n",
       "    <tr>\n",
       "      <th>1</th>\n",
       "      <td>8</td>\n",
       "      <td>188.00</td>\n",
       "      <td>78.85</td>\n",
       "      <td>2</td>\n",
       "      <td>11.387227</td>\n",
       "      <td>4.041309</td>\n",
       "      <td>-37.66</td>\n",
       "      <td>119.28</td>\n",
       "      <td>6.311735</td>\n",
       "      <td>551480.0</td>\n",
       "      <td>...</td>\n",
       "      <td>15.062772</td>\n",
       "      <td>0.492159</td>\n",
       "      <td>9.454009</td>\n",
       "      <td>7.345919</td>\n",
       "      <td>1</td>\n",
       "      <td>15.732706</td>\n",
       "      <td>15.368477</td>\n",
       "      <td>15.49522</td>\n",
       "      <td>15.398017</td>\n",
       "      <td>15.359153</td>\n",
       "    </tr>\n",
       "    <tr>\n",
       "      <th>2</th>\n",
       "      <td>8</td>\n",
       "      <td>192.89</td>\n",
       "      <td>60.28</td>\n",
       "      <td>2</td>\n",
       "      <td>21.426802</td>\n",
       "      <td>5.584279</td>\n",
       "      <td>-37.67</td>\n",
       "      <td>119.29</td>\n",
       "      <td>6.439350</td>\n",
       "      <td>551480.0</td>\n",
       "      <td>...</td>\n",
       "      <td>15.082789</td>\n",
       "      <td>0.926072</td>\n",
       "      <td>9.697997</td>\n",
       "      <td>15.842523</td>\n",
       "      <td>1</td>\n",
       "      <td>15.732706</td>\n",
       "      <td>15.368477</td>\n",
       "      <td>15.49522</td>\n",
       "      <td>15.607523</td>\n",
       "      <td>15.784832</td>\n",
       "    </tr>\n",
       "    <tr>\n",
       "      <th>3</th>\n",
       "      <td>8</td>\n",
       "      <td>203.85</td>\n",
       "      <td>183.25</td>\n",
       "      <td>0</td>\n",
       "      <td>11.387227</td>\n",
       "      <td>13.563031</td>\n",
       "      <td>-39.13</td>\n",
       "      <td>117.09</td>\n",
       "      <td>6.857514</td>\n",
       "      <td>139259.0</td>\n",
       "      <td>...</td>\n",
       "      <td>13.769437</td>\n",
       "      <td>0.771895</td>\n",
       "      <td>9.470478</td>\n",
       "      <td>-2.175803</td>\n",
       "      <td>0</td>\n",
       "      <td>14.761401</td>\n",
       "      <td>15.837045</td>\n",
       "      <td>15.49522</td>\n",
       "      <td>16.127585</td>\n",
       "      <td>15.832799</td>\n",
       "    </tr>\n",
       "    <tr>\n",
       "      <th>4</th>\n",
       "      <td>1</td>\n",
       "      <td>206.57</td>\n",
       "      <td>68.80</td>\n",
       "      <td>2</td>\n",
       "      <td>61.306524</td>\n",
       "      <td>4.688108</td>\n",
       "      <td>-39.24</td>\n",
       "      <td>117.19</td>\n",
       "      <td>6.285998</td>\n",
       "      <td>112397.0</td>\n",
       "      <td>...</td>\n",
       "      <td>13.468119</td>\n",
       "      <td>0.862986</td>\n",
       "      <td>9.459218</td>\n",
       "      <td>56.618416</td>\n",
       "      <td>1</td>\n",
       "      <td>14.761401</td>\n",
       "      <td>15.426263</td>\n",
       "      <td>15.49522</td>\n",
       "      <td>14.951800</td>\n",
       "      <td>15.426263</td>\n",
       "    </tr>\n",
       "  </tbody>\n",
       "</table>\n",
       "<p>5 rows × 233 columns</p>\n",
       "</div>"
      ],
      "text/plain": [
       "   building_material  txn_dt  building_complete_dt  parking_way  land_area  \\\n",
       "0                  8  186.74                 62.71            2  18.144460   \n",
       "1                  8  188.00                 78.85            2  11.387227   \n",
       "2                  8  192.89                 60.28            2  21.426802   \n",
       "3                  8  203.85                183.25            0  11.387227   \n",
       "4                  1  206.57                 68.80            2  61.306524   \n",
       "\n",
       "   building_area    lat     lon  village_income_median  town_population  ...  \\\n",
       "0       3.418175 -39.14  117.08               6.350886          24219.0  ...   \n",
       "1       4.041309 -37.66  119.28               6.311735         551480.0  ...   \n",
       "2       5.584279 -37.67  119.29               6.439350         551480.0  ...   \n",
       "3      13.563031 -39.13  117.09               6.857514         139259.0  ...   \n",
       "4       4.688108 -39.24  117.19               6.285998         112397.0  ...   \n",
       "\n",
       "   total_income  area_percent  per_parking_price  area_diff  area_type  \\\n",
       "0     11.943494     12.812980           3.311636  14.726285          1   \n",
       "1     15.062772      0.492159           9.454009   7.345919          1   \n",
       "2     15.082789      0.926072           9.697997  15.842523          1   \n",
       "3     13.769437      0.771895           9.470478  -2.175803          0   \n",
       "4     13.468119      0.862986           9.459218  56.618416          1   \n",
       "\n",
       "   city_mean  building_type_mean  building_use_mean  total_floor_mean  \\\n",
       "0  14.761401           15.617864           15.49522         15.607523   \n",
       "1  15.732706           15.368477           15.49522         15.398017   \n",
       "2  15.732706           15.368477           15.49522         15.607523   \n",
       "3  14.761401           15.837045           15.49522         16.127585   \n",
       "4  14.761401           15.426263           15.49522         14.951800   \n",
       "\n",
       "   txn_floor_mean  \n",
       "0       15.427335  \n",
       "1       15.359153  \n",
       "2       15.784832  \n",
       "3       15.832799  \n",
       "4       15.426263  \n",
       "\n",
       "[5 rows x 233 columns]"
      ]
     },
     "execution_count": 89,
     "metadata": {},
     "output_type": "execute_result"
    }
   ],
   "source": [
    "data = pd.concat([temp_df[:train_num], train_Y], axis=1)\n",
    "test_data = temp_df[train_num:]\n",
    "\n",
    "temp_df[\"txn_floor\"] = temp_df[\"txn_floor\"].astype('int')\n",
    "\n",
    "cols = [\"city\", \"building_type\", \"building_use\", \"total_floor\", \"txn_floor\"]\n",
    "\n",
    "for c in cols:\n",
    "    \n",
    "    mean_df = data.groupby([c])['total_price'].mean().reset_index()\n",
    "    mean_df.columns = [c, f'{c}_mean']\n",
    "    \n",
    "    data = pd.merge(data, mean_df, on= c, how='left')\n",
    "    data = data.drop([c] , axis=1)\n",
    "    \n",
    "    test_data = pd.merge(test_data, mean_df, on= c, how='left')   \n",
    "    test_data = test_data.drop([c] , axis=1)\n",
    "    \n",
    "data = data.drop(['total_price'] , axis=1)\n",
    "\n",
    "temp_df = pd.concat([data,test_data])\n",
    "temp_df.head()"
   ]
  },
  {
   "cell_type": "code",
   "execution_count": 90,
   "metadata": {},
   "outputs": [
    {
     "data": {
      "text/plain": [
       "[(181.119, 187.36], (187.36, 192.86], (192.86, 197.75], (202.37, 206.65], (197.75, 202.37]]\n",
       "Categories (5, interval[float64]): [(181.119, 187.36] < (187.36, 192.86] < (192.86, 197.75] < (197.75, 202.37] < (202.37, 206.65]]"
      ]
     },
     "execution_count": 90,
     "metadata": {},
     "output_type": "execute_result"
    }
   ],
   "source": [
    "temp_df['txn_dt_'] = pd.qcut(temp_df['txn_dt'], 5)\n",
    "temp_df['txn_dt_'].unique()"
   ]
  },
  {
   "cell_type": "code",
   "execution_count": 91,
   "metadata": {},
   "outputs": [
    {
     "data": {
      "text/html": [
       "<div>\n",
       "<style scoped>\n",
       "    .dataframe tbody tr th:only-of-type {\n",
       "        vertical-align: middle;\n",
       "    }\n",
       "\n",
       "    .dataframe tbody tr th {\n",
       "        vertical-align: top;\n",
       "    }\n",
       "\n",
       "    .dataframe thead th {\n",
       "        text-align: right;\n",
       "    }\n",
       "</style>\n",
       "<table border=\"1\" class=\"dataframe\">\n",
       "  <thead>\n",
       "    <tr style=\"text-align: right;\">\n",
       "      <th></th>\n",
       "      <th>building_material</th>\n",
       "      <th>building_complete_dt</th>\n",
       "      <th>parking_way</th>\n",
       "      <th>land_area</th>\n",
       "      <th>building_area</th>\n",
       "      <th>lat</th>\n",
       "      <th>lon</th>\n",
       "      <th>village_income_median</th>\n",
       "      <th>town_population</th>\n",
       "      <th>town_area</th>\n",
       "      <th>...</th>\n",
       "      <th>city_mean</th>\n",
       "      <th>building_type_mean</th>\n",
       "      <th>building_use_mean</th>\n",
       "      <th>total_floor_mean</th>\n",
       "      <th>txn_floor_mean</th>\n",
       "      <th>txn_dt_1</th>\n",
       "      <th>txn_dt_2</th>\n",
       "      <th>txn_dt_3</th>\n",
       "      <th>txn_dt_4</th>\n",
       "      <th>txn_dt_5</th>\n",
       "    </tr>\n",
       "  </thead>\n",
       "  <tbody>\n",
       "    <tr>\n",
       "      <th>0</th>\n",
       "      <td>8</td>\n",
       "      <td>62.71</td>\n",
       "      <td>2</td>\n",
       "      <td>18.144460</td>\n",
       "      <td>3.418175</td>\n",
       "      <td>-39.14</td>\n",
       "      <td>117.08</td>\n",
       "      <td>6.350886</td>\n",
       "      <td>24219.0</td>\n",
       "      <td>1.4161</td>\n",
       "      <td>...</td>\n",
       "      <td>14.761401</td>\n",
       "      <td>15.617864</td>\n",
       "      <td>15.49522</td>\n",
       "      <td>15.607523</td>\n",
       "      <td>15.427335</td>\n",
       "      <td>1</td>\n",
       "      <td>0</td>\n",
       "      <td>0</td>\n",
       "      <td>0</td>\n",
       "      <td>0</td>\n",
       "    </tr>\n",
       "    <tr>\n",
       "      <th>1</th>\n",
       "      <td>8</td>\n",
       "      <td>78.85</td>\n",
       "      <td>2</td>\n",
       "      <td>11.387227</td>\n",
       "      <td>4.041309</td>\n",
       "      <td>-37.66</td>\n",
       "      <td>119.28</td>\n",
       "      <td>6.311735</td>\n",
       "      <td>551480.0</td>\n",
       "      <td>23.1373</td>\n",
       "      <td>...</td>\n",
       "      <td>15.732706</td>\n",
       "      <td>15.368477</td>\n",
       "      <td>15.49522</td>\n",
       "      <td>15.398017</td>\n",
       "      <td>15.359153</td>\n",
       "      <td>0</td>\n",
       "      <td>1</td>\n",
       "      <td>0</td>\n",
       "      <td>0</td>\n",
       "      <td>0</td>\n",
       "    </tr>\n",
       "    <tr>\n",
       "      <th>2</th>\n",
       "      <td>8</td>\n",
       "      <td>60.28</td>\n",
       "      <td>2</td>\n",
       "      <td>21.426802</td>\n",
       "      <td>5.584279</td>\n",
       "      <td>-37.67</td>\n",
       "      <td>119.29</td>\n",
       "      <td>6.439350</td>\n",
       "      <td>551480.0</td>\n",
       "      <td>23.1373</td>\n",
       "      <td>...</td>\n",
       "      <td>15.732706</td>\n",
       "      <td>15.368477</td>\n",
       "      <td>15.49522</td>\n",
       "      <td>15.607523</td>\n",
       "      <td>15.784832</td>\n",
       "      <td>0</td>\n",
       "      <td>0</td>\n",
       "      <td>1</td>\n",
       "      <td>0</td>\n",
       "      <td>0</td>\n",
       "    </tr>\n",
       "  </tbody>\n",
       "</table>\n",
       "<p>3 rows × 237 columns</p>\n",
       "</div>"
      ],
      "text/plain": [
       "   building_material  building_complete_dt  parking_way  land_area  \\\n",
       "0                  8                 62.71            2  18.144460   \n",
       "1                  8                 78.85            2  11.387227   \n",
       "2                  8                 60.28            2  21.426802   \n",
       "\n",
       "   building_area    lat     lon  village_income_median  town_population  \\\n",
       "0       3.418175 -39.14  117.08               6.350886          24219.0   \n",
       "1       4.041309 -37.66  119.28               6.311735         551480.0   \n",
       "2       5.584279 -37.67  119.29               6.439350         551480.0   \n",
       "\n",
       "   town_area  ...  city_mean  building_type_mean  building_use_mean  \\\n",
       "0     1.4161  ...  14.761401           15.617864           15.49522   \n",
       "1    23.1373  ...  15.732706           15.368477           15.49522   \n",
       "2    23.1373  ...  15.732706           15.368477           15.49522   \n",
       "\n",
       "   total_floor_mean  txn_floor_mean  txn_dt_1  txn_dt_2  txn_dt_3  txn_dt_4  \\\n",
       "0         15.607523       15.427335         1         0         0         0   \n",
       "1         15.398017       15.359153         0         1         0         0   \n",
       "2         15.607523       15.784832         0         0         1         0   \n",
       "\n",
       "   txn_dt_5  \n",
       "0         0  \n",
       "1         0  \n",
       "2         0  \n",
       "\n",
       "[3 rows x 237 columns]"
      ]
     },
     "execution_count": 91,
     "metadata": {},
     "output_type": "execute_result"
    }
   ],
   "source": [
    "temp_df.loc[temp_df['txn_dt']<=187.36, 'txn_dt'] = 1\n",
    "temp_df.loc[(temp_df['txn_dt']>187.36) & (temp_df['txn_dt']<=192.86), 'txn_dt'] = 2\n",
    "temp_df.loc[(temp_df['txn_dt']>192.86) & (temp_df['txn_dt']<=197.75), 'txn_dt'] = 3\n",
    "temp_df.loc[(temp_df['txn_dt']>197.75) & (temp_df['txn_dt']<=202.37), 'txn_dt'] = 4\n",
    "temp_df.loc[temp_df['txn_dt']>202.37, 'txn_dt'] = 5\n",
    "temp_df['txn_dt'] = temp_df['txn_dt'].astype(int)\n",
    "\n",
    "temp_df.drop('txn_dt_', axis=1, inplace=True)\n",
    "\n",
    "temp_df = pd.get_dummies(temp_df, columns = [\"txn_dt\"], prefix=\"txn_dt\")\n",
    "temp_df.head(3)"
   ]
  },
  {
   "cell_type": "code",
   "execution_count": 92,
   "metadata": {},
   "outputs": [
    {
     "data": {
      "text/plain": [
       "[(1.229, 67.29], (67.29, 98.93], (155.87, 205.77], (98.93, 122.68], (122.68, 155.87]]\n",
       "Categories (5, interval[float64]): [(1.229, 67.29] < (67.29, 98.93] < (98.93, 122.68] < (122.68, 155.87] < (155.87, 205.77]]"
      ]
     },
     "execution_count": 92,
     "metadata": {},
     "output_type": "execute_result"
    }
   ],
   "source": [
    "temp_df['building_complete_dt_'] = pd.qcut(temp_df['building_complete_dt'], 5)\n",
    "temp_df['building_complete_dt_'].unique()"
   ]
  },
  {
   "cell_type": "code",
   "execution_count": 93,
   "metadata": {},
   "outputs": [
    {
     "data": {
      "text/html": [
       "<div>\n",
       "<style scoped>\n",
       "    .dataframe tbody tr th:only-of-type {\n",
       "        vertical-align: middle;\n",
       "    }\n",
       "\n",
       "    .dataframe tbody tr th {\n",
       "        vertical-align: top;\n",
       "    }\n",
       "\n",
       "    .dataframe thead th {\n",
       "        text-align: right;\n",
       "    }\n",
       "</style>\n",
       "<table border=\"1\" class=\"dataframe\">\n",
       "  <thead>\n",
       "    <tr style=\"text-align: right;\">\n",
       "      <th></th>\n",
       "      <th>building_material</th>\n",
       "      <th>parking_way</th>\n",
       "      <th>land_area</th>\n",
       "      <th>building_area</th>\n",
       "      <th>lat</th>\n",
       "      <th>lon</th>\n",
       "      <th>village_income_median</th>\n",
       "      <th>town_population</th>\n",
       "      <th>town_area</th>\n",
       "      <th>town_population_density</th>\n",
       "      <th>...</th>\n",
       "      <th>txn_dt_1</th>\n",
       "      <th>txn_dt_2</th>\n",
       "      <th>txn_dt_3</th>\n",
       "      <th>txn_dt_4</th>\n",
       "      <th>txn_dt_5</th>\n",
       "      <th>building_complete_dt_1</th>\n",
       "      <th>building_complete_dt_2</th>\n",
       "      <th>building_complete_dt_3</th>\n",
       "      <th>building_complete_dt_4</th>\n",
       "      <th>building_complete_dt_5</th>\n",
       "    </tr>\n",
       "  </thead>\n",
       "  <tbody>\n",
       "    <tr>\n",
       "      <th>0</th>\n",
       "      <td>8</td>\n",
       "      <td>2</td>\n",
       "      <td>18.144460</td>\n",
       "      <td>3.418175</td>\n",
       "      <td>-39.14</td>\n",
       "      <td>117.08</td>\n",
       "      <td>6.350886</td>\n",
       "      <td>24219.0</td>\n",
       "      <td>1.4161</td>\n",
       "      <td>17103.0</td>\n",
       "      <td>...</td>\n",
       "      <td>1</td>\n",
       "      <td>0</td>\n",
       "      <td>0</td>\n",
       "      <td>0</td>\n",
       "      <td>0</td>\n",
       "      <td>1</td>\n",
       "      <td>0</td>\n",
       "      <td>0</td>\n",
       "      <td>0</td>\n",
       "      <td>0</td>\n",
       "    </tr>\n",
       "    <tr>\n",
       "      <th>1</th>\n",
       "      <td>8</td>\n",
       "      <td>2</td>\n",
       "      <td>11.387227</td>\n",
       "      <td>4.041309</td>\n",
       "      <td>-37.66</td>\n",
       "      <td>119.28</td>\n",
       "      <td>6.311735</td>\n",
       "      <td>551480.0</td>\n",
       "      <td>23.1373</td>\n",
       "      <td>23835.0</td>\n",
       "      <td>...</td>\n",
       "      <td>0</td>\n",
       "      <td>1</td>\n",
       "      <td>0</td>\n",
       "      <td>0</td>\n",
       "      <td>0</td>\n",
       "      <td>0</td>\n",
       "      <td>1</td>\n",
       "      <td>0</td>\n",
       "      <td>0</td>\n",
       "      <td>0</td>\n",
       "    </tr>\n",
       "    <tr>\n",
       "      <th>2</th>\n",
       "      <td>8</td>\n",
       "      <td>2</td>\n",
       "      <td>21.426802</td>\n",
       "      <td>5.584279</td>\n",
       "      <td>-37.67</td>\n",
       "      <td>119.29</td>\n",
       "      <td>6.439350</td>\n",
       "      <td>551480.0</td>\n",
       "      <td>23.1373</td>\n",
       "      <td>23835.0</td>\n",
       "      <td>...</td>\n",
       "      <td>0</td>\n",
       "      <td>0</td>\n",
       "      <td>1</td>\n",
       "      <td>0</td>\n",
       "      <td>0</td>\n",
       "      <td>1</td>\n",
       "      <td>0</td>\n",
       "      <td>0</td>\n",
       "      <td>0</td>\n",
       "      <td>0</td>\n",
       "    </tr>\n",
       "  </tbody>\n",
       "</table>\n",
       "<p>3 rows × 241 columns</p>\n",
       "</div>"
      ],
      "text/plain": [
       "   building_material  parking_way  land_area  building_area    lat     lon  \\\n",
       "0                  8            2  18.144460       3.418175 -39.14  117.08   \n",
       "1                  8            2  11.387227       4.041309 -37.66  119.28   \n",
       "2                  8            2  21.426802       5.584279 -37.67  119.29   \n",
       "\n",
       "   village_income_median  town_population  town_area  town_population_density  \\\n",
       "0               6.350886          24219.0     1.4161                  17103.0   \n",
       "1               6.311735         551480.0    23.1373                  23835.0   \n",
       "2               6.439350         551480.0    23.1373                  23835.0   \n",
       "\n",
       "   ...  txn_dt_1  txn_dt_2  txn_dt_3  txn_dt_4  txn_dt_5  \\\n",
       "0  ...         1         0         0         0         0   \n",
       "1  ...         0         1         0         0         0   \n",
       "2  ...         0         0         1         0         0   \n",
       "\n",
       "   building_complete_dt_1  building_complete_dt_2  building_complete_dt_3  \\\n",
       "0                       1                       0                       0   \n",
       "1                       0                       1                       0   \n",
       "2                       1                       0                       0   \n",
       "\n",
       "   building_complete_dt_4  building_complete_dt_5  \n",
       "0                       0                       0  \n",
       "1                       0                       0  \n",
       "2                       0                       0  \n",
       "\n",
       "[3 rows x 241 columns]"
      ]
     },
     "execution_count": 93,
     "metadata": {},
     "output_type": "execute_result"
    }
   ],
   "source": [
    "temp_df.loc[temp_df['building_complete_dt']<=67.29, 'building_complete_dt'] = 1\n",
    "temp_df.loc[(temp_df['building_complete_dt']>67.29) & (temp_df['building_complete_dt']<=98.93), 'building_complete_dt'] = 2\n",
    "temp_df.loc[(temp_df['building_complete_dt']>98.93) & (temp_df['building_complete_dt']<=122.68), 'building_complete_dt'] = 3\n",
    "temp_df.loc[(temp_df['building_complete_dt']>122.68) & (temp_df['building_complete_dt']<=155.87), 'building_complete_dt'] = 4\n",
    "temp_df.loc[temp_df['building_complete_dt']>155.87, 'building_complete_dt'] = 5\n",
    "temp_df['building_complete_dt'] = temp_df['building_complete_dt'].astype(int)\n",
    "\n",
    "temp_df.drop('building_complete_dt_', axis=1, inplace=True)\n",
    "\n",
    "temp_df = pd.get_dummies(temp_df, columns = [\"building_complete_dt\"], prefix=\"building_complete_dt\")\n",
    "temp_df.head(3)"
   ]
  },
  {
   "cell_type": "code",
   "execution_count": 94,
   "metadata": {},
   "outputs": [
    {
     "data": {
      "text/plain": [
       "[(16.482, 24.661], (9.643, 13.106], (44.89, 1634.777], (13.106, 16.482], (-0.001, 9.643], (24.661, 44.89]]\n",
       "Categories (6, interval[float64]): [(-0.001, 9.643] < (9.643, 13.106] < (13.106, 16.482] < (16.482, 24.661] < (24.661, 44.89] < (44.89, 1634.777]]"
      ]
     },
     "execution_count": 94,
     "metadata": {},
     "output_type": "execute_result"
    }
   ],
   "source": [
    "temp_df['land_area_'] = pd.qcut(temp_df['land_area'], 6)\n",
    "temp_df['land_area_'].unique()"
   ]
  },
  {
   "cell_type": "code",
   "execution_count": 95,
   "metadata": {},
   "outputs": [
    {
     "data": {
      "text/html": [
       "<div>\n",
       "<style scoped>\n",
       "    .dataframe tbody tr th:only-of-type {\n",
       "        vertical-align: middle;\n",
       "    }\n",
       "\n",
       "    .dataframe tbody tr th {\n",
       "        vertical-align: top;\n",
       "    }\n",
       "\n",
       "    .dataframe thead th {\n",
       "        text-align: right;\n",
       "    }\n",
       "</style>\n",
       "<table border=\"1\" class=\"dataframe\">\n",
       "  <thead>\n",
       "    <tr style=\"text-align: right;\">\n",
       "      <th></th>\n",
       "      <th>building_material</th>\n",
       "      <th>parking_way</th>\n",
       "      <th>building_area</th>\n",
       "      <th>lat</th>\n",
       "      <th>lon</th>\n",
       "      <th>village_income_median</th>\n",
       "      <th>town_population</th>\n",
       "      <th>town_area</th>\n",
       "      <th>town_population_density</th>\n",
       "      <th>bachelor_rate</th>\n",
       "      <th>...</th>\n",
       "      <th>building_complete_dt_3</th>\n",
       "      <th>building_complete_dt_4</th>\n",
       "      <th>building_complete_dt_5</th>\n",
       "      <th>land_area_</th>\n",
       "      <th>land_area_1</th>\n",
       "      <th>land_area_2</th>\n",
       "      <th>land_area_3</th>\n",
       "      <th>land_area_4</th>\n",
       "      <th>land_area_5</th>\n",
       "      <th>land_area_6</th>\n",
       "    </tr>\n",
       "  </thead>\n",
       "  <tbody>\n",
       "    <tr>\n",
       "      <th>0</th>\n",
       "      <td>8</td>\n",
       "      <td>2</td>\n",
       "      <td>3.418175</td>\n",
       "      <td>-39.14</td>\n",
       "      <td>117.08</td>\n",
       "      <td>6.350886</td>\n",
       "      <td>24219.0</td>\n",
       "      <td>1.4161</td>\n",
       "      <td>17103.0</td>\n",
       "      <td>0.208219</td>\n",
       "      <td>...</td>\n",
       "      <td>0</td>\n",
       "      <td>0</td>\n",
       "      <td>0</td>\n",
       "      <td>(16.482, 24.661]</td>\n",
       "      <td>0</td>\n",
       "      <td>0</td>\n",
       "      <td>0</td>\n",
       "      <td>1</td>\n",
       "      <td>0</td>\n",
       "      <td>0</td>\n",
       "    </tr>\n",
       "    <tr>\n",
       "      <th>1</th>\n",
       "      <td>8</td>\n",
       "      <td>2</td>\n",
       "      <td>4.041309</td>\n",
       "      <td>-37.66</td>\n",
       "      <td>119.28</td>\n",
       "      <td>6.311735</td>\n",
       "      <td>551480.0</td>\n",
       "      <td>23.1373</td>\n",
       "      <td>23835.0</td>\n",
       "      <td>0.216042</td>\n",
       "      <td>...</td>\n",
       "      <td>0</td>\n",
       "      <td>0</td>\n",
       "      <td>0</td>\n",
       "      <td>(9.643, 13.106]</td>\n",
       "      <td>0</td>\n",
       "      <td>1</td>\n",
       "      <td>0</td>\n",
       "      <td>0</td>\n",
       "      <td>0</td>\n",
       "      <td>0</td>\n",
       "    </tr>\n",
       "    <tr>\n",
       "      <th>2</th>\n",
       "      <td>8</td>\n",
       "      <td>2</td>\n",
       "      <td>5.584279</td>\n",
       "      <td>-37.67</td>\n",
       "      <td>119.29</td>\n",
       "      <td>6.439350</td>\n",
       "      <td>551480.0</td>\n",
       "      <td>23.1373</td>\n",
       "      <td>23835.0</td>\n",
       "      <td>0.216042</td>\n",
       "      <td>...</td>\n",
       "      <td>0</td>\n",
       "      <td>0</td>\n",
       "      <td>0</td>\n",
       "      <td>(16.482, 24.661]</td>\n",
       "      <td>0</td>\n",
       "      <td>0</td>\n",
       "      <td>0</td>\n",
       "      <td>1</td>\n",
       "      <td>0</td>\n",
       "      <td>0</td>\n",
       "    </tr>\n",
       "  </tbody>\n",
       "</table>\n",
       "<p>3 rows × 247 columns</p>\n",
       "</div>"
      ],
      "text/plain": [
       "   building_material  parking_way  building_area    lat     lon  \\\n",
       "0                  8            2       3.418175 -39.14  117.08   \n",
       "1                  8            2       4.041309 -37.66  119.28   \n",
       "2                  8            2       5.584279 -37.67  119.29   \n",
       "\n",
       "   village_income_median  town_population  town_area  town_population_density  \\\n",
       "0               6.350886          24219.0     1.4161                  17103.0   \n",
       "1               6.311735         551480.0    23.1373                  23835.0   \n",
       "2               6.439350         551480.0    23.1373                  23835.0   \n",
       "\n",
       "   bachelor_rate  ...  building_complete_dt_3  building_complete_dt_4  \\\n",
       "0       0.208219  ...                       0                       0   \n",
       "1       0.216042  ...                       0                       0   \n",
       "2       0.216042  ...                       0                       0   \n",
       "\n",
       "   building_complete_dt_5        land_area_  land_area_1  land_area_2  \\\n",
       "0                       0  (16.482, 24.661]            0            0   \n",
       "1                       0   (9.643, 13.106]            0            1   \n",
       "2                       0  (16.482, 24.661]            0            0   \n",
       "\n",
       "   land_area_3  land_area_4  land_area_5  land_area_6  \n",
       "0            0            1            0            0  \n",
       "1            0            0            0            0  \n",
       "2            0            1            0            0  \n",
       "\n",
       "[3 rows x 247 columns]"
      ]
     },
     "execution_count": 95,
     "metadata": {},
     "output_type": "execute_result"
    }
   ],
   "source": [
    "temp_df.loc[temp_df['land_area']<=9.643, 'land_area'] = 1\n",
    "temp_df.loc[(temp_df['land_area']>9.643) & (temp_df['land_area']<=13.106), 'land_area'] = 2\n",
    "temp_df.loc[(temp_df['land_area']>13.106) & (temp_df['land_area']<=16.482), 'land_area'] = 3\n",
    "temp_df.loc[(temp_df['land_area']>16.482) & (temp_df['land_area']<=24.661), 'land_area'] = 4\n",
    "temp_df.loc[(temp_df['land_area']>24.661) & (temp_df['land_area']<=44.89), 'land_area'] = 5\n",
    "temp_df.loc[temp_df['land_area']>44.89, 'land_area'] = 6\n",
    "temp_df['land_area'] = temp_df['land_area'].astype(int)\n",
    "\n",
    "temp_df = pd.get_dummies(temp_df, columns = [\"land_area\"], prefix=\"land_area\")\n",
    "temp_df.head(3)"
   ]
  },
  {
   "cell_type": "code",
   "execution_count": 96,
   "metadata": {},
   "outputs": [
    {
     "data": {
      "text/plain": [
       "[(0.365, 4.041], (5.357, 6.994], (9.498, 13.846], (4.041, 5.357], (6.994, 9.498], (13.846, 3730.983]]\n",
       "Categories (6, interval[float64]): [(0.365, 4.041] < (4.041, 5.357] < (5.357, 6.994] < (6.994, 9.498] < (9.498, 13.846] < (13.846, 3730.983]]"
      ]
     },
     "execution_count": 96,
     "metadata": {},
     "output_type": "execute_result"
    }
   ],
   "source": [
    "temp_df['building_area_'] = pd.qcut(temp_df['building_area'], 6)\n",
    "temp_df['building_area_'].unique()"
   ]
  },
  {
   "cell_type": "code",
   "execution_count": 97,
   "metadata": {},
   "outputs": [
    {
     "data": {
      "text/html": [
       "<div>\n",
       "<style scoped>\n",
       "    .dataframe tbody tr th:only-of-type {\n",
       "        vertical-align: middle;\n",
       "    }\n",
       "\n",
       "    .dataframe tbody tr th {\n",
       "        vertical-align: top;\n",
       "    }\n",
       "\n",
       "    .dataframe thead th {\n",
       "        text-align: right;\n",
       "    }\n",
       "</style>\n",
       "<table border=\"1\" class=\"dataframe\">\n",
       "  <thead>\n",
       "    <tr style=\"text-align: right;\">\n",
       "      <th></th>\n",
       "      <th>building_material</th>\n",
       "      <th>parking_way</th>\n",
       "      <th>lat</th>\n",
       "      <th>lon</th>\n",
       "      <th>village_income_median</th>\n",
       "      <th>town_population</th>\n",
       "      <th>town_area</th>\n",
       "      <th>town_population_density</th>\n",
       "      <th>bachelor_rate</th>\n",
       "      <th>junior_rate</th>\n",
       "      <th>...</th>\n",
       "      <th>land_area_4</th>\n",
       "      <th>land_area_5</th>\n",
       "      <th>land_area_6</th>\n",
       "      <th>building_area_</th>\n",
       "      <th>building_area_1</th>\n",
       "      <th>building_area_2</th>\n",
       "      <th>building_area_3</th>\n",
       "      <th>building_area_4</th>\n",
       "      <th>building_area_5</th>\n",
       "      <th>building_area_6</th>\n",
       "    </tr>\n",
       "  </thead>\n",
       "  <tbody>\n",
       "    <tr>\n",
       "      <th>0</th>\n",
       "      <td>8</td>\n",
       "      <td>2</td>\n",
       "      <td>-39.14</td>\n",
       "      <td>117.08</td>\n",
       "      <td>6.350886</td>\n",
       "      <td>24219.0</td>\n",
       "      <td>1.4161</td>\n",
       "      <td>17103.0</td>\n",
       "      <td>0.208219</td>\n",
       "      <td>0.166931</td>\n",
       "      <td>...</td>\n",
       "      <td>1</td>\n",
       "      <td>0</td>\n",
       "      <td>0</td>\n",
       "      <td>(0.365, 4.041]</td>\n",
       "      <td>1</td>\n",
       "      <td>0</td>\n",
       "      <td>0</td>\n",
       "      <td>0</td>\n",
       "      <td>0</td>\n",
       "      <td>0</td>\n",
       "    </tr>\n",
       "    <tr>\n",
       "      <th>1</th>\n",
       "      <td>8</td>\n",
       "      <td>2</td>\n",
       "      <td>-37.66</td>\n",
       "      <td>119.28</td>\n",
       "      <td>6.311735</td>\n",
       "      <td>551480.0</td>\n",
       "      <td>23.1373</td>\n",
       "      <td>23835.0</td>\n",
       "      <td>0.216042</td>\n",
       "      <td>0.195193</td>\n",
       "      <td>...</td>\n",
       "      <td>0</td>\n",
       "      <td>0</td>\n",
       "      <td>0</td>\n",
       "      <td>(0.365, 4.041]</td>\n",
       "      <td>0</td>\n",
       "      <td>1</td>\n",
       "      <td>0</td>\n",
       "      <td>0</td>\n",
       "      <td>0</td>\n",
       "      <td>0</td>\n",
       "    </tr>\n",
       "    <tr>\n",
       "      <th>2</th>\n",
       "      <td>8</td>\n",
       "      <td>2</td>\n",
       "      <td>-37.67</td>\n",
       "      <td>119.29</td>\n",
       "      <td>6.439350</td>\n",
       "      <td>551480.0</td>\n",
       "      <td>23.1373</td>\n",
       "      <td>23835.0</td>\n",
       "      <td>0.216042</td>\n",
       "      <td>0.195193</td>\n",
       "      <td>...</td>\n",
       "      <td>1</td>\n",
       "      <td>0</td>\n",
       "      <td>0</td>\n",
       "      <td>(5.357, 6.994]</td>\n",
       "      <td>0</td>\n",
       "      <td>0</td>\n",
       "      <td>1</td>\n",
       "      <td>0</td>\n",
       "      <td>0</td>\n",
       "      <td>0</td>\n",
       "    </tr>\n",
       "  </tbody>\n",
       "</table>\n",
       "<p>3 rows × 253 columns</p>\n",
       "</div>"
      ],
      "text/plain": [
       "   building_material  parking_way    lat     lon  village_income_median  \\\n",
       "0                  8            2 -39.14  117.08               6.350886   \n",
       "1                  8            2 -37.66  119.28               6.311735   \n",
       "2                  8            2 -37.67  119.29               6.439350   \n",
       "\n",
       "   town_population  town_area  town_population_density  bachelor_rate  \\\n",
       "0          24219.0     1.4161                  17103.0       0.208219   \n",
       "1         551480.0    23.1373                  23835.0       0.216042   \n",
       "2         551480.0    23.1373                  23835.0       0.216042   \n",
       "\n",
       "   junior_rate  ...  land_area_4  land_area_5  land_area_6  building_area_  \\\n",
       "0     0.166931  ...            1            0            0  (0.365, 4.041]   \n",
       "1     0.195193  ...            0            0            0  (0.365, 4.041]   \n",
       "2     0.195193  ...            1            0            0  (5.357, 6.994]   \n",
       "\n",
       "   building_area_1  building_area_2  building_area_3  building_area_4  \\\n",
       "0                1                0                0                0   \n",
       "1                0                1                0                0   \n",
       "2                0                0                1                0   \n",
       "\n",
       "   building_area_5  building_area_6  \n",
       "0                0                0  \n",
       "1                0                0  \n",
       "2                0                0  \n",
       "\n",
       "[3 rows x 253 columns]"
      ]
     },
     "execution_count": 97,
     "metadata": {},
     "output_type": "execute_result"
    }
   ],
   "source": [
    "temp_df.loc[temp_df['building_area']<=4.041, 'building_area'] = 1\n",
    "temp_df.loc[(temp_df['building_area']>4.041) & (temp_df['building_area']<=5.357), 'building_area'] = 2\n",
    "temp_df.loc[(temp_df['building_area']>5.357) & (temp_df['building_area']<=6.994), 'building_area'] = 3\n",
    "temp_df.loc[(temp_df['building_area']>6.994) & (temp_df['building_area']<=9.498), 'building_area'] = 4\n",
    "temp_df.loc[(temp_df['building_area']>9.498) & (temp_df['building_area']<=13.846), 'building_area'] = 5\n",
    "temp_df.loc[temp_df['building_area']>13.846, 'building_area'] = 6\n",
    "temp_df['building_area'] = temp_df['building_area'].astype(int)\n",
    "\n",
    "temp_df = pd.get_dummies(temp_df, columns = [\"building_area\"], prefix=\"building_area\")\n",
    "temp_df.head(3)"
   ]
  },
  {
   "cell_type": "code",
   "execution_count": 98,
   "metadata": {},
   "outputs": [],
   "source": [
    "temp_df2 = copy.deepcopy(temp_df)"
   ]
  },
  {
   "cell_type": "code",
   "execution_count": 99,
   "metadata": {},
   "outputs": [],
   "source": [
    "train_num = train_Y.shape[0]\n",
    "train_X = temp_df2[:train_num]\n",
    "test_X = temp_df2[train_num:]"
   ]
  },
  {
   "cell_type": "code",
   "execution_count": 100,
   "metadata": {},
   "outputs": [],
   "source": [
    "temp_train = copy.deepcopy(train_X)\n",
    "temp_train[\"total_price\"] = train_Y\n",
    "\n",
    "corr = temp_train.corr()[\"total_price\"]\n",
    "high_feature = corr[abs(corr) >= 0.001]"
   ]
  },
  {
   "cell_type": "code",
   "execution_count": 101,
   "metadata": {},
   "outputs": [],
   "source": [
    "high_feature = list(high_feature.index)\n",
    "\n",
    "remove = []\n",
    "\n",
    "for f in high_feature:\n",
    "    if (\"0\" in f) and (f.split(\"_\")[1] != \"10000\"):\n",
    "        remove.append(f)\n",
    "        \n",
    "for f in remove:\n",
    "    high_feature.remove(f)"
   ]
  },
  {
   "cell_type": "code",
   "execution_count": 102,
   "metadata": {},
   "outputs": [
    {
     "data": {
      "text/plain": [
       "['building_material',\n",
       " 'parking_way',\n",
       " 'lat',\n",
       " 'lon',\n",
       " 'village_income_median',\n",
       " 'town_population',\n",
       " 'town_area',\n",
       " 'town_population_density',\n",
       " 'bachelor_rate',\n",
       " 'junior_rate',\n",
       " 'elementary_rate',\n",
       " 'born_rate',\n",
       " 'death_rate',\n",
       " 'marriage_rate',\n",
       " 'divorce_rate',\n",
       " 'I_10000',\n",
       " 'I_MIN',\n",
       " 'II_10000',\n",
       " 'II_MIN',\n",
       " 'III_10000',\n",
       " 'III_MIN',\n",
       " 'IV_10000',\n",
       " 'IV_MIN',\n",
       " 'V_10000',\n",
       " 'V_MIN',\n",
       " 'VI_10000',\n",
       " 'VI_MIN',\n",
       " 'VII_10000',\n",
       " 'VII_MIN',\n",
       " 'VIII_10000',\n",
       " 'VIII_MIN',\n",
       " 'IX_10000',\n",
       " 'IX_MIN',\n",
       " 'X_10000',\n",
       " 'X_MIN',\n",
       " 'XI_10000',\n",
       " 'XI_MIN',\n",
       " 'XII_10000',\n",
       " 'XII_MIN',\n",
       " 'XIII_10000',\n",
       " 'XIII_MIN',\n",
       " 'XIV_10000',\n",
       " 'XIV_MIN',\n",
       " 'house_type',\n",
       " 'parking_price',\n",
       " 'parking_area',\n",
       " 'total_building_area',\n",
       " 'total_income',\n",
       " 'area_percent',\n",
       " 'per_parking_price',\n",
       " 'area_diff',\n",
       " 'area_type',\n",
       " 'city_mean',\n",
       " 'building_type_mean',\n",
       " 'building_use_mean',\n",
       " 'total_floor_mean',\n",
       " 'txn_floor_mean',\n",
       " 'txn_dt_1',\n",
       " 'txn_dt_2',\n",
       " 'txn_dt_3',\n",
       " 'txn_dt_4',\n",
       " 'txn_dt_5',\n",
       " 'building_complete_dt_1',\n",
       " 'building_complete_dt_2',\n",
       " 'building_complete_dt_3',\n",
       " 'building_complete_dt_4',\n",
       " 'building_complete_dt_5',\n",
       " 'land_area_1',\n",
       " 'land_area_3',\n",
       " 'land_area_4',\n",
       " 'land_area_6',\n",
       " 'building_area_1',\n",
       " 'building_area_2',\n",
       " 'building_area_3',\n",
       " 'building_area_4',\n",
       " 'building_area_5',\n",
       " 'building_area_6',\n",
       " 'total_price']"
      ]
     },
     "execution_count": 102,
     "metadata": {},
     "output_type": "execute_result"
    }
   ],
   "source": [
    "high_feature"
   ]
  },
  {
   "cell_type": "code",
   "execution_count": 103,
   "metadata": {},
   "outputs": [],
   "source": [
    "high_feature.remove(\"total_price\")\n",
    "train_X = train_X[high_feature]\n",
    "test_X = test_X[high_feature]"
   ]
  },
  {
   "cell_type": "code",
   "execution_count": 104,
   "metadata": {},
   "outputs": [
    {
     "name": "stderr",
     "output_type": "stream",
     "text": [
      "/home/rex/anaconda3/lib/python3.7/site-packages/sklearn/ensemble/forest.py:246: FutureWarning: The default value of n_estimators will change from 10 in version 0.20 to 100 in 0.22.\n",
      "  \"10 in version 0.20 to 100 in 0.22.\", FutureWarning)\n"
     ]
    },
    {
     "name": "stdout",
     "output_type": "stream",
     "text": [
      "0.9324688645453467\n",
      "Mean squared error: 0.0870\n"
     ]
    }
   ],
   "source": [
    "# 切分訓練集/測試集\n",
    "x_train, x_test, y_train, y_test = train_test_split(train_X, train_Y, test_size=0.25, random_state=4)\n",
    "\n",
    "estimator_ = RandomForestRegressor()\n",
    "estimator_.fit(x_train, y_train)\n",
    "\n",
    "print(cross_val_score(estimator_, x_train, y_train, cv=5).mean())\n",
    "\n",
    "y_pred = estimator_.predict(x_test)\n",
    "print(\"Mean squared error: %.4f\"\n",
    "      % mean_squared_error(y_test, y_pred))"
   ]
  },
  {
   "cell_type": "code",
   "execution_count": 105,
   "metadata": {},
   "outputs": [
    {
     "name": "stderr",
     "output_type": "stream",
     "text": [
      "/home/rex/anaconda3/lib/python3.7/site-packages/sklearn/ensemble/forest.py:246: FutureWarning: The default value of n_estimators will change from 10 in version 0.20 to 100 in 0.22.\n",
      "  \"10 in version 0.20 to 100 in 0.22.\", FutureWarning)\n"
     ]
    }
   ],
   "source": [
    "estimator_ = RandomForestRegressor(random_state=7)\n",
    "estimator_.fit(train_X, train_Y)\n",
    "\n",
    "predict = estimator_.predict(test_X)\n",
    "\n",
    "test_price = np.expm1(predict)\n",
    "\n",
    "submit = pd.DataFrame(ids)\n",
    "submit['total_price'] = test_price\n",
    "submit.to_csv(\"2019-07-06.csv\",index=False)"
   ]
  },
  {
   "cell_type": "code",
   "execution_count": 106,
   "metadata": {},
   "outputs": [
    {
     "data": {
      "text/plain": [
       "total_price              1.000000\n",
       "parking_price            0.020435\n",
       "city_mean                0.020142\n",
       "XIII_10000               0.019772\n",
       "VII_10000                0.019613\n",
       "V_10000                  0.019388\n",
       "IX_10000                 0.019335\n",
       "VI_10000                 0.019186\n",
       "VIII_10000               0.018854\n",
       "X_10000                  0.018693\n",
       "III_10000                0.018586\n",
       "XII_10000                0.018264\n",
       "IV_10000                 0.018223\n",
       "II_10000                 0.017994\n",
       "XI_10000                 0.017861\n",
       "I_10000                  0.017187\n",
       "village_income_median    0.015971\n",
       "II_1000                  0.015958\n",
       "V_5000                   0.015923\n",
       "bachelor_rate            0.015839\n",
       "VII_5000                 0.015657\n",
       "XII_5000                 0.015443\n",
       "lon                      0.015416\n",
       "II_5000                  0.015243\n",
       "VIII_5000                0.015094\n",
       "II_500                   0.014929\n",
       "III_5000                 0.014922\n",
       "X_5000                   0.014621\n",
       "V_10                     0.014540\n",
       "IX_5000                  0.014371\n",
       "                           ...   \n",
       "VIII_MIN                -0.008576\n",
       "building_area_2         -0.008918\n",
       "area_type               -0.009115\n",
       "junior_rate             -0.009479\n",
       "divorce_rate            -0.009666\n",
       "death_rate              -0.010074\n",
       "VII_MIN                 -0.010762\n",
       "elementary_rate         -0.014640\n",
       "I_index_5000                  NaN\n",
       "I_index_10000                 NaN\n",
       "II_index_5000                 NaN\n",
       "II_index_10000                NaN\n",
       "III_index_5000                NaN\n",
       "III_index_10000               NaN\n",
       "IV_index_10000                NaN\n",
       "V_index_5000                  NaN\n",
       "V_index_10000                 NaN\n",
       "VI_index_5000                 NaN\n",
       "VI_index_10000                NaN\n",
       "VII_index_5000                NaN\n",
       "VII_index_10000               NaN\n",
       "VIII_index_5000               NaN\n",
       "VIII_index_10000              NaN\n",
       "IX_index_10000                NaN\n",
       "X_index_5000                  NaN\n",
       "X_index_10000                 NaN\n",
       "XII_index_5000                NaN\n",
       "XII_index_10000               NaN\n",
       "XIV_index_5000                NaN\n",
       "XIV_index_10000               NaN\n",
       "Name: total_price, Length: 252, dtype: float64"
      ]
     },
     "execution_count": 106,
     "metadata": {},
     "output_type": "execute_result"
    }
   ],
   "source": [
    "corr.sort_values(ascending=False)"
   ]
  },
  {
   "cell_type": "code",
   "execution_count": 109,
   "metadata": {},
   "outputs": [
    {
     "data": {
      "text/plain": [
       "<matplotlib.axes._subplots.AxesSubplot at 0x7fd3cffca390>"
      ]
     },
     "execution_count": 109,
     "metadata": {},
     "output_type": "execute_result"
    },
    {
     "data": {
      "image/png": "[encoded data removed]",
      "text/plain": [
       "<Figure size 432x288 with 1 Axes>"
      ]
     },
     "metadata": {
      "needs_background": "light"
     },
     "output_type": "display_data"
    }
   ],
   "source": [
    "temp_df[\"txn_floor\"].hist()"
   ]
  },
  {
   "cell_type": "code",
   "execution_count": 110,
   "metadata": {},
   "outputs": [
    {
     "data": {
      "text/plain": [
       "<matplotlib.collections.PathCollection at 0x7fd3cff85f98>"
      ]
     },
     "execution_count": 110,
     "metadata": {},
     "output_type": "execute_result"
    },
    {
     "data": {
      "image/png": "[encoded data removed]",
      "text/plain": [
       "<Figure size 432x288 with 1 Axes>"
      ]
     },
     "metadata": {
      "needs_background": "light"
     },
     "output_type": "display_data"
    }
   ],
   "source": [
    "temp_df[\"total_price\"] = train_Y\n",
    "plt.scatter(temp_df[\"txn_floor\"], temp_df[\"total_price\"])"
   ]
  },
  {
   "cell_type": "code",
   "execution_count": 115,
   "metadata": {},
   "outputs": [
    {
     "data": {
      "text/plain": [
       "<matplotlib.collections.PathCollection at 0x7fd3cfc3fa90>"
      ]
     },
     "execution_count": 115,
     "metadata": {},
     "output_type": "execute_result"
    },
    {
     "data": {
      "image/png": "[encoded data removed]",
      "text/plain": [
       "<Figure size 432x288 with 1 Axes>"
      ]
     },
     "metadata": {
      "needs_background": "light"
     },
     "output_type": "display_data"
    }
   ],
   "source": [
    "plt.scatter(temp_df[\"city\"], temp_df[\"total_price\"])"
   ]
  },
  {
   "cell_type": "code",
   "execution_count": 121,
   "metadata": {},
   "outputs": [
    {
     "data": {
      "text/plain": [
       "<matplotlib.collections.PathCollection at 0x7fd3cfa049e8>"
      ]
     },
     "execution_count": 121,
     "metadata": {},
     "output_type": "execute_result"
    },
    {
     "data": {
      "image/png": "[encoded data removed]",
      "text/plain": [
       "<Figure size 432x288 with 1 Axes>"
      ]
     },
     "metadata": {
      "needs_background": "light"
     },
     "output_type": "display_data"
    }
   ],
   "source": [
    "plt.scatter(temp_df[\"parking_price\"], temp_df[\"total_price\"])"
   ]
  },
  {
   "cell_type": "code",
   "execution_count": 122,
   "metadata": {},
   "outputs": [
    {
     "data": {
      "text/plain": [
       "<matplotlib.collections.PathCollection at 0x7fd3cf963b00>"
      ]
     },
     "execution_count": 122,
     "metadata": {},
     "output_type": "execute_result"
    },
    {
     "data": {
      "image/png": "[encoded data removed]",
      "text/plain": [
       "<Figure size 432x288 with 1 Axes>"
      ]
     },
     "metadata": {
      "needs_background": "light"
     },
     "output_type": "display_data"
    }
   ],
   "source": [
    "plt.scatter(temp_df[\"parking_area\"], temp_df[\"total_price\"])"
   ]
  },
  {
   "cell_type": "code",
   "execution_count": 123,
   "metadata": {},
   "outputs": [
    {
     "data": {
      "text/plain": [
       "<matplotlib.collections.PathCollection at 0x7fd3cf927828>"
      ]
     },
     "execution_count": 123,
     "metadata": {},
     "output_type": "execute_result"
    },
    {
     "data": {
      "image/png": "[encoded data removed]",
      "text/plain": [
       "<Figure size 432x288 with 1 Axes>"
      ]
     },
     "metadata": {
      "needs_background": "light"
     },
     "output_type": "display_data"
    }
   ],
   "source": [
    "plt.scatter(temp_df[\"building_area\"], temp_df[\"total_price\"])"
   ]
  },
  {
   "cell_type": "code",
   "execution_count": 124,
   "metadata": {},
   "outputs": [
    {
     "data": {
      "text/plain": [
       "<matplotlib.collections.PathCollection at 0x7fd3cf907f60>"
      ]
     },
     "execution_count": 124,
     "metadata": {},
     "output_type": "execute_result"
    },
    {
     "data": {
      "image/png": "[encoded data removed]",
      "text/plain": [
       "<Figure size 432x288 with 1 Axes>"
      ]
     },
     "metadata": {
      "needs_background": "light"
     },
     "output_type": "display_data"
    }
   ],
   "source": [
    "plt.scatter(temp_df[\"land_area\"], temp_df[\"total_price\"])"
   ]
  },
  {
   "cell_type": "code",
   "execution_count": 126,
   "metadata": {},
   "outputs": [
    {
     "data": {
      "text/plain": [
       "<matplotlib.collections.PathCollection at 0x7fd3cf859390>"
      ]
     },
     "execution_count": 126,
     "metadata": {},
     "output_type": "execute_result"
    },
    {
     "data": {
      "image/png": "[encoded data removed]",
      "text/plain": [
       "<Figure size 432x288 with 1 Axes>"
      ]
     },
     "metadata": {
      "needs_background": "light"
     },
     "output_type": "display_data"
    }
   ],
   "source": [
    "plt.scatter(temp_df[\"lat\"], temp_df[\"lon\"])"
   ]
  },
  {
   "cell_type": "code",
   "execution_count": 127,
   "metadata": {},
   "outputs": [
    {
     "data": {
      "text/plain": [
       "<matplotlib.collections.PathCollection at 0x7fd3cf7b1e80>"
      ]
     },
     "execution_count": 127,
     "metadata": {},
     "output_type": "execute_result"
    },
    {
     "data": {
      "image/png": "[encoded data removed]",
      "text/plain": [
       "<Figure size 432x288 with 1 Axes>"
      ]
     },
     "metadata": {
      "needs_background": "light"
     },
     "output_type": "display_data"
    }
   ],
   "source": [
    "plt.scatter(temp_df[\"village_income_median\"], temp_df[\"total_price\"])"
   ]
  },
  {
   "cell_type": "code",
   "execution_count": 128,
   "metadata": {},
   "outputs": [
    {
     "data": {
      "text/plain": [
       "<matplotlib.collections.PathCollection at 0x7fd3cf789b00>"
      ]
     },
     "execution_count": 128,
     "metadata": {},
     "output_type": "execute_result"
    },
    {
     "data": {
      "image/png": "[encoded data removed]",
      "text/plain": [
       "<Figure size 432x288 with 1 Axes>"
      ]
     },
     "metadata": {
      "needs_background": "light"
     },
     "output_type": "display_data"
    }
   ],
   "source": [
    "plt.scatter(temp_df[\"town_population\"], temp_df[\"total_price\"])"
   ]
  },
  {
   "cell_type": "code",
   "execution_count": 130,
   "metadata": {},
   "outputs": [
    {
     "data": {
      "text/plain": [
       "<matplotlib.collections.PathCollection at 0x7fd3cf6c7ef0>"
      ]
     },
     "execution_count": 130,
     "metadata": {},
     "output_type": "execute_result"
    },
    {
     "data": {
      "image/png": "[encoded data removed]",
      "text/plain": [
       "<Figure size 432x288 with 1 Axes>"
      ]
     },
     "metadata": {
      "needs_background": "light"
     },
     "output_type": "display_data"
    }
   ],
   "source": [
    "plt.scatter(temp_df[\"town_population_density\"], temp_df[\"total_price\"])"
   ]
  },
  {
   "cell_type": "code",
   "execution_count": 131,
   "metadata": {},
   "outputs": [
    {
     "data": {
      "text/plain": [
       "<matplotlib.collections.PathCollection at 0x7fd3cf62bac8>"
      ]
     },
     "execution_count": 131,
     "metadata": {},
     "output_type": "execute_result"
    },
    {
     "data": {
      "image/png": "[encoded data removed]",
      "text/plain": [
       "<Figure size 432x288 with 1 Axes>"
      ]
     },
     "metadata": {
      "needs_background": "light"
     },
     "output_type": "display_data"
    }
   ],
   "source": [
    "plt.scatter(temp_df[\"bachelor_rate\"], temp_df[\"total_price\"])"
   ]
  },
  {
   "cell_type": "code",
   "execution_count": 137,
   "metadata": {},
   "outputs": [
    {
     "data": {
      "text/plain": [
       "<matplotlib.collections.PathCollection at 0x7fd3cf450860>"
      ]
     },
     "execution_count": 137,
     "metadata": {},
     "output_type": "execute_result"
    },
    {
     "data": {
      "image/png": "[encoded data removed]",
      "text/plain": [
       "<Figure size 432x288 with 1 Axes>"
      ]
     },
     "metadata": {
      "needs_background": "light"
     },
     "output_type": "display_data"
    }
   ],
   "source": [
    "plt.scatter(temp_df[\"I_index_50\"], temp_df[\"total_price\"])"
   ]
  },
  {
   "cell_type": "code",
   "execution_count": 143,
   "metadata": {},
   "outputs": [
    {
     "data": {
      "text/plain": [
       "<matplotlib.collections.PathCollection at 0x7fd3cf1f5828>"
      ]
     },
     "execution_count": 143,
     "metadata": {},
     "output_type": "execute_result"
    },
    {
     "data": {
      "image/png": "[encoded data removed]",
      "text/plain": [
       "<Figure size 432x288 with 1 Axes>"
      ]
     },
     "metadata": {
      "needs_background": "light"
     },
     "output_type": "display_data"
    }
   ],
   "source": [
    "plt.scatter(temp_df[\"total_price\"], temp_df[\"total_price\"])"
   ]
  },
  {
   "cell_type": "code",
   "execution_count": 152,
   "metadata": {},
   "outputs": [
    {
     "data": {
      "text/plain": [
       "<matplotlib.collections.PathCollection at 0x7fd3ceeb9208>"
      ]
     },
     "execution_count": 152,
     "metadata": {},
     "output_type": "execute_result"
    },
    {
     "data": {
      "image/png": "[encoded data removed]",
      "text/plain": [
       "<Figure size 432x288 with 1 Axes>"
      ]
     },
     "metadata": {
      "needs_background": "light"
     },
     "output_type": "display_data"
    }
   ],
   "source": [
    "plt.scatter(temp_df[\"XIII_100\"], temp_df[\"total_price\"])"
   ]
  },
  {
   "cell_type": "code",
   "execution_count": null,
   "metadata": {},
   "outputs": [],
   "source": []
  }
 ],
 "metadata": {
  "kernelspec": {
   "display_name": "Python 3",
   "language": "python",
   "name": "python3"
  },
  "language_info": {
   "codemirror_mode": {
    "name": "ipython",
    "version": 3
   },
   "file_extension": ".py",
   "mimetype": "text/x-python",
   "name": "python",
   "nbconvert_exporter": "python",
   "pygments_lexer": "ipython3",
   "version": "3.7.3"
  },
  "varInspector": {
   "cols": {
    "lenName": 16,
    "lenType": 16,
    "lenVar": 40
   },
   "kernels_config": {
    "python": {
     "delete_cmd_postfix": "",
     "delete_cmd_prefix": "del ",
     "library": "var_list.py",
     "varRefreshCmd": "print(var_dic_list())"
    },
    "r": {
     "delete_cmd_postfix": ") ",
     "delete_cmd_prefix": "rm(",
     "library": "var_list.r",
     "varRefreshCmd": "cat(var_dic_list()) "
    }
   },
   "types_to_exclude": [
    "module",
    "function",
    "builtin_function_or_method",
    "instance",
    "_Feature"
   ],
   "window_display": false
  }
 },
 "nbformat": 4,
 "nbformat_minor": 2
}
